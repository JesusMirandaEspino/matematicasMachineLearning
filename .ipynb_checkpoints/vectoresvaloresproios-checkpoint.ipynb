{
 "cells": [
  {
   "cell_type": "code",
   "execution_count": 14,
   "id": "5d92a36f-5909-4ba1-aa20-6aa6eac449d2",
   "metadata": {},
   "outputs": [],
   "source": [
    "import pandas as pd\n",
    "import numpy as np\n",
    "import matplotlib.pyplot as plt\n",
    "import torch\n",
    "import tensorflow as tf"
   ]
  },
  {
   "cell_type": "code",
   "execution_count": 15,
   "id": "e2e49815-cc6a-4acf-b842-1b55e3488293",
   "metadata": {},
   "outputs": [],
   "source": [
    "def plot_vectors(vectors, colors):\n",
    "    \"\"\"\n",
    "    Plot one or more vectors in a 2D plane, specifying a color for each.\n",
    "\n",
    "    Arguments\n",
    "    ---------\n",
    "    vectors: list of lists or of arrays\n",
    "        Coordinates of the vectors to plot. For example, [[1, 3], [2, 2]]\n",
    "        contains two vectors to plot, [1, 3] and [2, 2].\n",
    "    colors: list\n",
    "        Colors of the vectors. For instance: ['red', 'blue'] will display the\n",
    "        first vector in red and the second in blue.\n",
    "\n",
    "    Example\n",
    "    -------\n",
    "    plot_vectors([[1, 3], [2, 2]], ['red', 'blue'])\n",
    "    plt.xlim(-1, 4)\n",
    "    plt.ylim(-1, 4)\n",
    "    \"\"\"\n",
    "    plt.figure()\n",
    "    plt.axvline(x=0, color='lightgray')\n",
    "    plt.axhline(y=0, color='lightgray')\n",
    "\n",
    "    for i in range(len(vectors)):\n",
    "        x = np.concatenate([[0,0],vectors[i]])\n",
    "        plt.quiver([x[0]], [x[1]], [x[2]], [x[3]],\n",
    "                   angles='xy', scale_units='xy', scale=1, color=colors[i],)"
   ]
  },
  {
   "cell_type": "code",
   "execution_count": 16,
   "id": "d28a2d7c-171c-4508-856b-0ab284e0f822",
   "metadata": {},
   "outputs": [
    {
     "data": {
      "text/plain": [
       "array([[-1,  4],\n",
       "       [ 2, -2]])"
      ]
     },
     "execution_count": 16,
     "metadata": {},
     "output_type": "execute_result"
    }
   ],
   "source": [
    "A = np.array([[-1,  4],[ 2, -2]])\n",
    "A"
   ]
  },
  {
   "cell_type": "code",
   "execution_count": 17,
   "id": "b207b3a1-6354-4bda-8993-86f79b8e5a9c",
   "metadata": {},
   "outputs": [],
   "source": [
    "lambdas, V = np.linalg.eig(A)"
   ]
  },
  {
   "cell_type": "code",
   "execution_count": 18,
   "id": "3882299d-7656-47f1-993a-301a3b63350b",
   "metadata": {},
   "outputs": [
    {
     "data": {
      "text/plain": [
       "array([[ 0.86011126, -0.76454754],\n",
       "       [ 0.51010647,  0.64456735]])"
      ]
     },
     "execution_count": 18,
     "metadata": {},
     "output_type": "execute_result"
    }
   ],
   "source": [
    "V "
   ]
  },
  {
   "cell_type": "code",
   "execution_count": 19,
   "id": "54cdc463-177a-4d4e-8ebf-4ace2a071fb4",
   "metadata": {},
   "outputs": [
    {
     "data": {
      "text/plain": [
       "array([ 1.37228132, -4.37228132])"
      ]
     },
     "execution_count": 19,
     "metadata": {},
     "output_type": "execute_result"
    }
   ],
   "source": [
    "lambdas"
   ]
  },
  {
   "cell_type": "code",
   "execution_count": 20,
   "id": "eeb24a03-70ac-4160-8dc0-543a39c3e913",
   "metadata": {},
   "outputs": [
    {
     "data": {
      "text/plain": [
       "array([0.86011126, 0.51010647])"
      ]
     },
     "execution_count": 20,
     "metadata": {},
     "output_type": "execute_result"
    }
   ],
   "source": [
    "v = V[:,0]\n",
    "v"
   ]
  },
  {
   "cell_type": "code",
   "execution_count": 21,
   "id": "890085c2-2d65-4fd7-a5fe-17af9eacd7b8",
   "metadata": {},
   "outputs": [
    {
     "data": {
      "text/plain": [
       "np.float64(1.3722813232690143)"
      ]
     },
     "execution_count": 21,
     "metadata": {},
     "output_type": "execute_result"
    }
   ],
   "source": [
    "lambduh = lambdas[0]\n",
    "lambduh"
   ]
  },
  {
   "cell_type": "code",
   "execution_count": 22,
   "id": "b5d3159c-d33b-4340-ba87-750397eb18c2",
   "metadata": {},
   "outputs": [
    {
     "data": {
      "text/plain": [
       "array([1.18031462, 0.70000958])"
      ]
     },
     "execution_count": 22,
     "metadata": {},
     "output_type": "execute_result"
    }
   ],
   "source": [
    "Av = np.dot(A, v)\n",
    "Av"
   ]
  },
  {
   "cell_type": "code",
   "execution_count": 23,
   "id": "18c75709-9c55-40a8-bff4-f499744c993c",
   "metadata": {},
   "outputs": [
    {
     "data": {
      "text/plain": [
       "array([1.18031462, 0.70000958])"
      ]
     },
     "execution_count": 23,
     "metadata": {},
     "output_type": "execute_result"
    }
   ],
   "source": [
    "lambduh * v"
   ]
  },
  {
   "cell_type": "code",
   "execution_count": 24,
   "id": "10b7e63c-af58-43f3-bebd-0fcc408bfe87",
   "metadata": {},
   "outputs": [
    {
     "data": {
      "image/png": "[encoded data removed]",
      "text/plain": [
       "<Figure size 640x480 with 1 Axes>"
      ]
     },
     "metadata": {},
     "output_type": "display_data"
    }
   ],
   "source": [
    "plot_vectors([Av, v], ['blue', 'lightblue'])\n",
    "plt.xlim(-1, 2)\n",
    "_ = plt.ylim(-1, 2)"
   ]
  },
  {
   "cell_type": "code",
   "execution_count": 25,
   "id": "49d1bc2a-3b27-49c7-b9d1-2d8e5e6b42ec",
   "metadata": {},
   "outputs": [
    {
     "data": {
      "text/plain": [
       "array([-0.76454754,  0.64456735])"
      ]
     },
     "execution_count": 25,
     "metadata": {},
     "output_type": "execute_result"
    }
   ],
   "source": [
    "v2 = V[:,1]\n",
    "v2"
   ]
  },
  {
   "cell_type": "code",
   "execution_count": 26,
   "id": "06fd7d7b-f745-45db-9d65-1c1aef59c0ab",
   "metadata": {},
   "outputs": [
    {
     "data": {
      "text/plain": [
       "np.float64(-4.372281323269014)"
      ]
     },
     "execution_count": 26,
     "metadata": {},
     "output_type": "execute_result"
    }
   ],
   "source": [
    "lambda2 = lambdas[1]\n",
    "lambda2"
   ]
  },
  {
   "cell_type": "code",
   "execution_count": 27,
   "id": "77c071ec-7c40-44fb-87bf-9b672d9d7137",
   "metadata": {},
   "outputs": [
    {
     "data": {
      "text/plain": [
       "array([ 3.34281692, -2.81822977])"
      ]
     },
     "execution_count": 27,
     "metadata": {},
     "output_type": "execute_result"
    }
   ],
   "source": [
    "Av2 = np.dot(A, v2)\n",
    "Av2"
   ]
  },
  {
   "cell_type": "code",
   "execution_count": 28,
   "id": "43560fbb-5e99-401f-804e-0ce1f078bc79",
   "metadata": {},
   "outputs": [
    {
     "data": {
      "text/plain": [
       "array([ 3.34281692, -2.81822977])"
      ]
     },
     "execution_count": 28,
     "metadata": {},
     "output_type": "execute_result"
    }
   ],
   "source": [
    "lambda2 * v2"
   ]
  },
  {
   "cell_type": "code",
   "execution_count": 29,
   "id": "82ba321c-2ef0-4889-87be-dceac9abdcd8",
   "metadata": {},
   "outputs": [
    {
     "data": {
      "image/png": "[encoded data removed]",
      "text/plain": [
       "<Figure size 640x480 with 1 Axes>"
      ]
     },
     "metadata": {},
     "output_type": "display_data"
    }
   ],
   "source": [
    "plot_vectors([Av, v, Av2, v2],\n",
    "            ['blue', 'lightblue', 'green', 'lightgreen'])\n",
    "plt.xlim(-1, 4)\n",
    "_ = plt.ylim(-3, 2)"
   ]
  },
  {
   "cell_type": "code",
   "execution_count": 31,
   "id": "0b140000-9210-4281-bad0-0c5020cbdacb",
   "metadata": {},
   "outputs": [],
   "source": [
    "A_p = torch.tensor([[-1, 4], [2, -2.]])"
   ]
  },
  {
   "cell_type": "code",
   "execution_count": 32,
   "id": "c1a742a4-f812-4630-8eda-e963090bd71a",
   "metadata": {},
   "outputs": [],
   "source": [
    "lambdas_cplx, V_cplx = torch.linalg.eig(A_p) "
   ]
  },
  {
   "cell_type": "code",
   "execution_count": 33,
   "id": "86535cba-687f-4f3f-92b1-624619b605a5",
   "metadata": {},
   "outputs": [
    {
     "data": {
      "text/plain": [
       "tensor([[ 0.8601+0.j, -0.7645+0.j],\n",
       "        [ 0.5101+0.j,  0.6446+0.j]])"
      ]
     },
     "execution_count": 33,
     "metadata": {},
     "output_type": "execute_result"
    }
   ],
   "source": [
    "V_cplx"
   ]
  },
  {
   "cell_type": "code",
   "execution_count": 34,
   "id": "f36e2711-4966-471b-85c6-71fc55120f01",
   "metadata": {},
   "outputs": [
    {
     "name": "stderr",
     "output_type": "stream",
     "text": [
      "C:\\Users\\jesus\\AppData\\Local\\Temp\\ipykernel_13776\\1096125134.py:1: UserWarning: Casting complex values to real discards the imaginary part (Triggered internally at C:\\actions-runner\\_work\\pytorch\\pytorch\\pytorch\\aten\\src\\ATen\\native\\Copy.cpp:307.)\n",
      "  V_p = V_cplx.float()\n"
     ]
    },
    {
     "data": {
      "text/plain": [
       "tensor([[ 0.8601, -0.7645],\n",
       "        [ 0.5101,  0.6446]])"
      ]
     },
     "execution_count": 34,
     "metadata": {},
     "output_type": "execute_result"
    }
   ],
   "source": [
    "V_p = V_cplx.float()\n",
    "V_p"
   ]
  },
  {
   "cell_type": "code",
   "execution_count": 35,
   "id": "928dbef3-eae0-452a-a48d-bf7ecad4f7d3",
   "metadata": {},
   "outputs": [
    {
     "data": {
      "text/plain": [
       "tensor([0.8601, 0.5101])"
      ]
     },
     "execution_count": 35,
     "metadata": {},
     "output_type": "execute_result"
    }
   ],
   "source": [
    "v_p = V_p[:,0]\n",
    "v_p\n"
   ]
  },
  {
   "cell_type": "code",
   "execution_count": 36,
   "id": "c3d96c65-70f7-428d-9bbb-bb3a2fbc6d03",
   "metadata": {},
   "outputs": [
    {
     "data": {
      "text/plain": [
       "tensor([ 1.3723+0.j, -4.3723+0.j])"
      ]
     },
     "execution_count": 36,
     "metadata": {},
     "output_type": "execute_result"
    }
   ],
   "source": [
    "lambdas_cplx"
   ]
  },
  {
   "cell_type": "code",
   "execution_count": 37,
   "id": "8c1babc1-bfe9-46d6-a582-21e128d51370",
   "metadata": {},
   "outputs": [
    {
     "data": {
      "text/plain": [
       "tensor([ 1.3723, -4.3723])"
      ]
     },
     "execution_count": 37,
     "metadata": {},
     "output_type": "execute_result"
    }
   ],
   "source": [
    "lambdas_p = lambdas_cplx.float()\n",
    "lambdas_p"
   ]
  },
  {
   "cell_type": "code",
   "execution_count": 38,
   "id": "8c4985fc-8315-405d-bb02-7664ab890844",
   "metadata": {},
   "outputs": [
    {
     "data": {
      "text/plain": [
       "tensor(1.3723)"
      ]
     },
     "execution_count": 38,
     "metadata": {},
     "output_type": "execute_result"
    }
   ],
   "source": [
    "lambda_p = lambdas_p[0]\n",
    "lambda_p"
   ]
  },
  {
   "cell_type": "code",
   "execution_count": 39,
   "id": "a9bbfa20-7053-494a-996d-4dfdac00aae1",
   "metadata": {},
   "outputs": [
    {
     "data": {
      "text/plain": [
       "tensor([1.1803, 0.7000])"
      ]
     },
     "execution_count": 39,
     "metadata": {},
     "output_type": "execute_result"
    }
   ],
   "source": [
    "Av_p = torch.matmul(A_p, v_p)\n",
    "Av_p"
   ]
  },
  {
   "cell_type": "code",
   "execution_count": 40,
   "id": "5ed652ca-1464-48f8-8acb-eb91534f38e6",
   "metadata": {},
   "outputs": [
    {
     "data": {
      "text/plain": [
       "tensor([1.1803, 0.7000])"
      ]
     },
     "execution_count": 40,
     "metadata": {},
     "output_type": "execute_result"
    }
   ],
   "source": [
    "lambda_p * v_p"
   ]
  },
  {
   "cell_type": "code",
   "execution_count": 41,
   "id": "d764c856-cee7-44ff-812a-0983a5de1a49",
   "metadata": {},
   "outputs": [
    {
     "data": {
      "text/plain": [
       "tensor([-0.7645,  0.6446])"
      ]
     },
     "execution_count": 41,
     "metadata": {},
     "output_type": "execute_result"
    }
   ],
   "source": [
    "v2_p = V_p[:,1]\n",
    "v2_p"
   ]
  },
  {
   "cell_type": "code",
   "execution_count": 42,
   "id": "a7950884-8e5e-4535-a7b3-18d20ecc16da",
   "metadata": {},
   "outputs": [
    {
     "data": {
      "text/plain": [
       "tensor(-4.3723)"
      ]
     },
     "execution_count": 42,
     "metadata": {},
     "output_type": "execute_result"
    }
   ],
   "source": [
    "lambda2_p = lambdas_p[1]\n",
    "lambda2_p"
   ]
  },
  {
   "cell_type": "code",
   "execution_count": 43,
   "id": "e0977210-4c59-493b-86b3-277577ebb869",
   "metadata": {},
   "outputs": [
    {
     "data": {
      "text/plain": [
       "tensor([ 3.3428, -2.8182])"
      ]
     },
     "execution_count": 43,
     "metadata": {},
     "output_type": "execute_result"
    }
   ],
   "source": [
    "Av2_p = torch.matmul(A_p.float(), v2_p.float())\n",
    "Av2_p"
   ]
  },
  {
   "cell_type": "code",
   "execution_count": 44,
   "id": "860a5f4e-3ffa-4441-8cbf-c762ad7db26f",
   "metadata": {},
   "outputs": [
    {
     "data": {
      "text/plain": [
       "tensor([ 3.3428, -2.8182])"
      ]
     },
     "execution_count": 44,
     "metadata": {},
     "output_type": "execute_result"
    }
   ],
   "source": [
    "lambda2_p.float() * v2_p.float()"
   ]
  },
  {
   "cell_type": "code",
   "execution_count": 45,
   "id": "9d5bd32e-132b-4082-bfa3-1d58001996aa",
   "metadata": {},
   "outputs": [
    {
     "data": {
      "image/png": "[encoded data removed]",
      "text/plain": [
       "<Figure size 640x480 with 1 Axes>"
      ]
     },
     "metadata": {},
     "output_type": "display_data"
    }
   ],
   "source": [
    "plot_vectors([Av_p.numpy(), v_p.numpy(), Av2_p.numpy(), v2_p.numpy()],\n",
    "            ['blue', 'lightblue', 'green', 'lightgreen'])\n",
    "plt.xlim(-1, 4)\n",
    "_ = plt.ylim(-3, 2)"
   ]
  },
  {
   "cell_type": "code",
   "execution_count": 46,
   "id": "4ce760a3-855d-4289-9a86-62c99a97eab5",
   "metadata": {},
   "outputs": [
    {
     "data": {
      "text/plain": [
       "array([[25,  2,  9],\n",
       "       [ 5, 26, -5],\n",
       "       [ 3,  7, -1]])"
      ]
     },
     "execution_count": 46,
     "metadata": {},
     "output_type": "execute_result"
    }
   ],
   "source": [
    "X = np.array([[25, 2, 9], [5, 26, -5], [3, 7, -1]])\n",
    "X"
   ]
  },
  {
   "cell_type": "code",
   "execution_count": 47,
   "id": "78dbc224-4fcc-4b05-997c-b89c2bcc7045",
   "metadata": {},
   "outputs": [],
   "source": [
    "lambdas_X, V_X = np.linalg.eig(X)"
   ]
  },
  {
   "cell_type": "code",
   "execution_count": 48,
   "id": "64bb5711-7f0b-4a0c-92de-07df46422635",
   "metadata": {},
   "outputs": [
    {
     "data": {
      "text/plain": [
       "array([29.67623202, 20.62117365, -0.29740567])"
      ]
     },
     "execution_count": 48,
     "metadata": {},
     "output_type": "execute_result"
    }
   ],
   "source": [
    "lambdas_X"
   ]
  },
  {
   "cell_type": "code",
   "execution_count": 49,
   "id": "9ce23c90-bba9-4592-8dcc-b5aeb2f9e0ee",
   "metadata": {},
   "outputs": [
    {
     "data": {
      "text/plain": [
       "array([-0.71175736, -0.66652125, -0.22170001])"
      ]
     },
     "execution_count": 49,
     "metadata": {},
     "output_type": "execute_result"
    }
   ],
   "source": [
    "v_X = V_X[:,0]\n",
    "v_X"
   ]
  },
  {
   "cell_type": "code",
   "execution_count": 50,
   "id": "e0cba50c-49f9-41c6-a3c5-43cd0cd72000",
   "metadata": {},
   "outputs": [
    {
     "data": {
      "text/plain": [
       "np.float64(29.676232023948902)"
      ]
     },
     "execution_count": 50,
     "metadata": {},
     "output_type": "execute_result"
    }
   ],
   "source": [
    "lambda_X = lambdas_X[0]\n",
    "lambda_X"
   ]
  },
  {
   "cell_type": "code",
   "execution_count": 51,
   "id": "5114dfe8-c4dc-48ab-991a-81e795b54a32",
   "metadata": {},
   "outputs": [
    {
     "data": {
      "text/plain": [
       "array([-21.12227645, -19.77983919,  -6.5792208 ])"
      ]
     },
     "execution_count": 51,
     "metadata": {},
     "output_type": "execute_result"
    }
   ],
   "source": [
    "np.dot(X, v_X) "
   ]
  },
  {
   "cell_type": "code",
   "execution_count": 52,
   "id": "543b5a37-cbe1-4862-9a83-8e3dc1960a79",
   "metadata": {},
   "outputs": [
    {
     "data": {
      "text/plain": [
       "array([-21.12227645, -19.77983919,  -6.5792208 ])"
      ]
     },
     "execution_count": 52,
     "metadata": {},
     "output_type": "execute_result"
    }
   ],
   "source": [
    "lambda_X * v_X"
   ]
  },
  {
   "cell_type": "code",
   "execution_count": 53,
   "id": "c16130a0-d607-4730-9c77-68927e336845",
   "metadata": {},
   "outputs": [
    {
     "data": {
      "text/plain": [
       "array([-0.6501921 ,  0.74464056,  0.15086635])"
      ]
     },
     "execution_count": 53,
     "metadata": {},
     "output_type": "execute_result"
    }
   ],
   "source": [
    "v_X = V_X[:,1]\n",
    "v_X"
   ]
  },
  {
   "cell_type": "code",
   "execution_count": 54,
   "id": "d49492a6-bdf1-4c0c-aee2-12ede08709c0",
   "metadata": {},
   "outputs": [
    {
     "data": {
      "text/plain": [
       "np.float64(20.62117365053535)"
      ]
     },
     "execution_count": 54,
     "metadata": {},
     "output_type": "execute_result"
    }
   ],
   "source": [
    "lambda_X = lambdas_X[1]\n",
    "lambda_X"
   ]
  },
  {
   "cell_type": "code",
   "execution_count": 55,
   "id": "757ac602-fb9a-45e9-ab4a-de92c18648ae",
   "metadata": {},
   "outputs": [
    {
     "data": {
      "text/plain": [
       "array([-13.40772428,  15.3553624 ,   3.11104129])"
      ]
     },
     "execution_count": 55,
     "metadata": {},
     "output_type": "execute_result"
    }
   ],
   "source": [
    "np.dot(X, v_X) "
   ]
  },
  {
   "cell_type": "code",
   "execution_count": 56,
   "id": "eb7633e5-6872-4888-89de-88eae211a4c1",
   "metadata": {},
   "outputs": [
    {
     "data": {
      "text/plain": [
       "array([-13.40772428,  15.3553624 ,   3.11104129])"
      ]
     },
     "execution_count": 56,
     "metadata": {},
     "output_type": "execute_result"
    }
   ],
   "source": [
    "lambda_X * v_X"
   ]
  },
  {
   "cell_type": "code",
   "execution_count": 57,
   "id": "29e4c134-2775-4571-818c-38009a8bf39c",
   "metadata": {},
   "outputs": [
    {
     "data": {
      "text/plain": [
       "array([-0.34220476,  0.23789717,  0.90901091])"
      ]
     },
     "execution_count": 57,
     "metadata": {},
     "output_type": "execute_result"
    }
   ],
   "source": [
    "v_X = V_X[:,2]\n",
    "v_X"
   ]
  },
  {
   "cell_type": "code",
   "execution_count": 58,
   "id": "f6c521ac-7c2a-418b-ba0a-600521043178",
   "metadata": {},
   "outputs": [
    {
     "data": {
      "text/plain": [
       "np.float64(-0.29740567448426547)"
      ]
     },
     "execution_count": 58,
     "metadata": {},
     "output_type": "execute_result"
    }
   ],
   "source": [
    "lambda_X = lambdas_X[2]\n",
    "lambda_X"
   ]
  },
  {
   "cell_type": "code",
   "execution_count": 59,
   "id": "3108d0aa-793a-4cd8-88bf-29de19920ee7",
   "metadata": {},
   "outputs": [
    {
     "data": {
      "text/plain": [
       "array([ 0.10177364, -0.07075197, -0.270345  ])"
      ]
     },
     "execution_count": 59,
     "metadata": {},
     "output_type": "execute_result"
    }
   ],
   "source": [
    "np.dot(X, v_X) "
   ]
  },
  {
   "cell_type": "code",
   "execution_count": 60,
   "id": "90587253-4489-4880-a069-938ebfc1d0a1",
   "metadata": {},
   "outputs": [
    {
     "data": {
      "text/plain": [
       "array([ 0.10177364, -0.07075197, -0.270345  ])"
      ]
     },
     "execution_count": 60,
     "metadata": {},
     "output_type": "execute_result"
    }
   ],
   "source": [
    "lambda_X * v_X"
   ]
  },
  {
   "cell_type": "code",
   "execution_count": null,
   "id": "bcc9edf4-af5a-40f1-99f1-b76a6e4973d3",
   "metadata": {},
   "outputs": [],
   "source": []
  }
 ],
 "metadata": {
  "kernelspec": {
   "display_name": "Python 3 (ipykernel)",
   "language": "python",
   "name": "python3"
  },
  "language_info": {
   "codemirror_mode": {
    "name": "ipython",
    "version": 3
   },
   "file_extension": ".py",
   "mimetype": "text/x-python",
   "name": "python",
   "nbconvert_exporter": "python",
   "pygments_lexer": "ipython3",
   "version": "3.12.9"
  }
 },
 "nbformat": 4,
 "nbformat_minor": 5
}
