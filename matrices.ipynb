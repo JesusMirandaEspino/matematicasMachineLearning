{
 "cells": [
  {
   "cell_type": "code",
   "execution_count": 8,
   "id": "d174c4eb-17a6-49c9-b7fc-2f848c33eaed",
   "metadata": {},
   "outputs": [],
   "source": [
    "import pandas as pd\n",
    "import numpy as np"
   ]
  },
  {
   "cell_type": "code",
   "execution_count": 9,
   "id": "2b1dd5fe-0769-40a3-89d9-1b6426ebcc12",
   "metadata": {},
   "outputs": [],
   "source": [
    "A = np.array([ [2,3,1], [4,1,5] ]) "
   ]
  },
  {
   "cell_type": "code",
   "execution_count": 10,
   "id": "4b1ec3b8-a9a8-4963-abc0-290a00ad6833",
   "metadata": {},
   "outputs": [],
   "source": [
    "B = np.array([ [2,3], [4,1,], [8,7] ]) "
   ]
  },
  {
   "cell_type": "code",
   "execution_count": 11,
   "id": "5276b064-8530-4ef9-b346-e4b6370265af",
   "metadata": {},
   "outputs": [
    {
     "data": {
      "text/plain": [
       "array([[2, 3, 1],\n",
       "       [4, 1, 5]])"
      ]
     },
     "execution_count": 11,
     "metadata": {},
     "output_type": "execute_result"
    }
   ],
   "source": [
    "A"
   ]
  },
  {
   "cell_type": "code",
   "execution_count": 12,
   "id": "43b4178c-cd59-415d-bbd5-89265ec79e55",
   "metadata": {},
   "outputs": [
    {
     "data": {
      "text/plain": [
       "array([[2, 3],\n",
       "       [4, 1],\n",
       "       [8, 7]])"
      ]
     },
     "execution_count": 12,
     "metadata": {},
     "output_type": "execute_result"
    }
   ],
   "source": [
    "B"
   ]
  },
  {
   "cell_type": "code",
   "execution_count": 13,
   "id": "e0288284-061d-482e-a940-9b781da48d1f",
   "metadata": {},
   "outputs": [],
   "source": [
    "resultado = np.dot(A,B)"
   ]
  },
  {
   "cell_type": "code",
   "execution_count": 14,
   "id": "8d11507a-3191-4e72-be8c-9c489b4af596",
   "metadata": {},
   "outputs": [
    {
     "data": {
      "text/plain": [
       "array([[24, 16],\n",
       "       [52, 48]])"
      ]
     },
     "execution_count": 14,
     "metadata": {},
     "output_type": "execute_result"
    }
   ],
   "source": [
    "resultado"
   ]
  },
  {
   "cell_type": "code",
   "execution_count": 15,
   "id": "be6c0e92-4943-4428-8ffa-08dcc719839f",
   "metadata": {},
   "outputs": [],
   "source": [
    "escalar = 2"
   ]
  },
  {
   "cell_type": "code",
   "execution_count": 16,
   "id": "ca46bce2-0eb7-4108-8a8b-39f4e72f407f",
   "metadata": {},
   "outputs": [
    {
     "data": {
      "text/plain": [
       "array([[ 4,  6,  2],\n",
       "       [ 8,  2, 10]])"
      ]
     },
     "execution_count": 16,
     "metadata": {},
     "output_type": "execute_result"
    }
   ],
   "source": [
    "resultado2 = np.dot(A,escalar)\n",
    "resultado2"
   ]
  },
  {
   "cell_type": "code",
   "execution_count": 17,
   "id": "f32962b0-5483-40a3-acbc-2a74ea7d9cd2",
   "metadata": {},
   "outputs": [
    {
     "data": {
      "text/plain": [
       "array([[2, 4],\n",
       "       [3, 1],\n",
       "       [1, 5]])"
      ]
     },
     "execution_count": 17,
     "metadata": {},
     "output_type": "execute_result"
    }
   ],
   "source": [
    "# transpuesta\n",
    "A.T"
   ]
  },
  {
   "cell_type": "code",
   "execution_count": 18,
   "id": "f90744f2-d217-4c0e-b278-92a7504f280a",
   "metadata": {},
   "outputs": [],
   "source": [
    "# Ejercicios\n",
    "A = np.array([ [2,2,5], [2,1,6], [1, 6, 7]]) \n",
    "B = np.array([ [2,1,1], [1,9,8], [8, 1, 2]]) \n",
    "C = np.array([ [2,3], [1,6], [1, 1]]) "
   ]
  },
  {
   "cell_type": "code",
   "execution_count": 20,
   "id": "1891f15b-a5e3-4afb-b21e-3b1315ab93d9",
   "metadata": {},
   "outputs": [
    {
     "data": {
      "text/plain": [
       "array([[ 4,  3,  6],\n",
       "       [ 3, 10, 14],\n",
       "       [ 9,  7,  9]])"
      ]
     },
     "execution_count": 20,
     "metadata": {},
     "output_type": "execute_result"
    }
   ],
   "source": [
    "suma = np.add(A, B)\n",
    "suma"
   ]
  },
  {
   "cell_type": "code",
   "execution_count": 22,
   "id": "c6bdc1cc-977a-4c8d-b48c-1953105a6631",
   "metadata": {},
   "outputs": [
    {
     "data": {
      "text/plain": [
       "array([[ 30,  30,  75],\n",
       "       [ 30,  15,  90],\n",
       "       [ 15,  90, 105]])"
      ]
     },
     "execution_count": 22,
     "metadata": {},
     "output_type": "execute_result"
    }
   ],
   "source": [
    "producto_escalar = np.dot(15, A)\n",
    "producto_escalar"
   ]
  },
  {
   "cell_type": "code",
   "execution_count": 24,
   "id": "e19116e3-96f7-4798-a2d7-cafebb3b99f7",
   "metadata": {},
   "outputs": [
    {
     "data": {
      "text/plain": [
       "array([[46, 25, 28],\n",
       "       [53, 17, 22],\n",
       "       [64, 62, 63]])"
      ]
     },
     "execution_count": 24,
     "metadata": {},
     "output_type": "execute_result"
    }
   ],
   "source": [
    "producto_matrices = np.dot(A, B)\n",
    "producto_matrices"
   ]
  },
  {
   "cell_type": "code",
   "execution_count": 25,
   "id": "cf36a65f-a25a-4fff-9044-f99aed8a00e9",
   "metadata": {},
   "outputs": [
    {
     "data": {
      "text/plain": [
       "array([[2, 2, 1],\n",
       "       [2, 1, 6],\n",
       "       [5, 6, 7]])"
      ]
     },
     "execution_count": 25,
     "metadata": {},
     "output_type": "execute_result"
    }
   ],
   "source": [
    "A.T"
   ]
  },
  {
   "cell_type": "code",
   "execution_count": 26,
   "id": "9abcde9a-38dd-4ac7-b858-04e9c06718a7",
   "metadata": {},
   "outputs": [
    {
     "data": {
      "text/plain": [
       "np.float64(-18.999999999999996)"
      ]
     },
     "execution_count": 26,
     "metadata": {},
     "output_type": "execute_result"
    }
   ],
   "source": [
    "determinante = np.linalg.det(A)\n",
    "determinante"
   ]
  },
  {
   "cell_type": "code",
   "execution_count": 27,
   "id": "b7e715c8-f015-423e-84cb-eed10284e37c",
   "metadata": {},
   "outputs": [
    {
     "data": {
      "text/plain": [
       "array([[2, 2, 5],\n",
       "       [2, 1, 6],\n",
       "       [1, 6, 7]])"
      ]
     },
     "execution_count": 27,
     "metadata": {},
     "output_type": "execute_result"
    }
   ],
   "source": [
    "A"
   ]
  },
  {
   "cell_type": "code",
   "execution_count": 28,
   "id": "f2db1696-9164-405c-a287-509c6145a83d",
   "metadata": {},
   "outputs": [
    {
     "data": {
      "text/plain": [
       "np.int64(10)"
      ]
     },
     "execution_count": 28,
     "metadata": {},
     "output_type": "execute_result"
    }
   ],
   "source": [
    "trazado = np.trace(A)\n",
    "trazado"
   ]
  },
  {
   "cell_type": "code",
   "execution_count": null,
   "id": "a19640d0-10be-434d-9467-990f3b4215c1",
   "metadata": {},
   "outputs": [],
   "source": []
  }
 ],
 "metadata": {
  "kernelspec": {
   "display_name": "Python 3 (ipykernel)",
   "language": "python",
   "name": "python3"
  },
  "language_info": {
   "codemirror_mode": {
    "name": "ipython",
    "version": 3
   },
   "file_extension": ".py",
   "mimetype": "text/x-python",
   "name": "python",
   "nbconvert_exporter": "python",
   "pygments_lexer": "ipython3",
   "version": "3.12.9"
  }
 },
 "nbformat": 4,
 "nbformat_minor": 5
}
