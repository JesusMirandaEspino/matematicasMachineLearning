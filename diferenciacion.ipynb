{
 "cells": [
  {
   "cell_type": "code",
   "execution_count": 1,
   "id": "7e75e30e-8aac-438a-9186-54aba22efc3a",
   "metadata": {},
   "outputs": [],
   "source": [
    "import pandas as pd\n",
    "import numpy as np\n",
    "import matplotlib.pyplot as plt\n",
    "import torch\n",
    "import tensorflow as tf"
   ]
  },
  {
   "cell_type": "code",
   "execution_count": 2,
   "id": "a2dbb030-043b-4e9b-90a4-1edf18c1fb1d",
   "metadata": {},
   "outputs": [],
   "source": [
    "x = torch.tensor(5.0)"
   ]
  },
  {
   "cell_type": "code",
   "execution_count": 3,
   "id": "5ef18b3b-eba9-40bd-8615-b0b5df005b3c",
   "metadata": {},
   "outputs": [
    {
     "data": {
      "text/plain": [
       "tensor(5.)"
      ]
     },
     "execution_count": 3,
     "metadata": {},
     "output_type": "execute_result"
    }
   ],
   "source": [
    "x"
   ]
  },
  {
   "cell_type": "code",
   "execution_count": 4,
   "id": "20b5996f-0f88-4cab-b500-f733ffccf5bd",
   "metadata": {},
   "outputs": [
    {
     "data": {
      "text/plain": [
       "tensor(5., requires_grad=True)"
      ]
     },
     "execution_count": 4,
     "metadata": {},
     "output_type": "execute_result"
    }
   ],
   "source": [
    "x.requires_grad_()"
   ]
  },
  {
   "cell_type": "code",
   "execution_count": 5,
   "id": "5865cce4-316e-4d8f-bed2-df2f2721bf4b",
   "metadata": {},
   "outputs": [],
   "source": [
    "y = x**2"
   ]
  },
  {
   "cell_type": "code",
   "execution_count": 6,
   "id": "06527b88-71cc-46f7-b35b-cca3eb5377b4",
   "metadata": {},
   "outputs": [],
   "source": [
    "y.backward()"
   ]
  },
  {
   "cell_type": "code",
   "execution_count": 7,
   "id": "7bbfd36c-d754-4522-92b4-df185fa8349c",
   "metadata": {},
   "outputs": [
    {
     "data": {
      "text/plain": [
       "tensor(10.)"
      ]
     },
     "execution_count": 7,
     "metadata": {},
     "output_type": "execute_result"
    }
   ],
   "source": [
    "x.grad"
   ]
  },
  {
   "cell_type": "code",
   "execution_count": 8,
   "id": "0e7cc8ea-eb31-46c9-8441-483050831407",
   "metadata": {},
   "outputs": [],
   "source": [
    "x = tf.Variable(5.0)"
   ]
  },
  {
   "cell_type": "code",
   "execution_count": 10,
   "id": "0f171223-ea54-421e-ae80-2b0aee5bddf7",
   "metadata": {},
   "outputs": [],
   "source": [
    "with tf.GradientTape() as t:\n",
    "    t.watch(x)\n",
    "    y = x**2"
   ]
  },
  {
   "cell_type": "code",
   "execution_count": 12,
   "id": "844ff6e5-7ccb-487b-9bca-8e1df127fd1f",
   "metadata": {},
   "outputs": [
    {
     "data": {
      "text/plain": [
       "<tf.Tensor: shape=(), dtype=float32, numpy=10.0>"
      ]
     },
     "execution_count": 12,
     "metadata": {},
     "output_type": "execute_result"
    }
   ],
   "source": [
    "t.gradient(y, x)"
   ]
  },
  {
   "cell_type": "code",
   "execution_count": 13,
   "id": "908859c2-2a74-48c9-a205-d7b90dd10a36",
   "metadata": {},
   "outputs": [
    {
     "data": {
      "text/plain": [
       "tensor([0., 1., 2., 3., 4., 5., 6., 7.])"
      ]
     },
     "execution_count": 13,
     "metadata": {},
     "output_type": "execute_result"
    }
   ],
   "source": [
    "x = torch.tensor([0, 1, 2, 3, 4, 5, 6, 7.]) # P.ej.: Dosis del fármaco para tratar la enfermedad de Alzheimer\n",
    "x"
   ]
  },
  {
   "cell_type": "code",
   "execution_count": 14,
   "id": "627967de-3fa9-4248-a7d0-7aeef143a23c",
   "metadata": {},
   "outputs": [
    {
     "data": {
      "text/plain": [
       "tensor([ 1.8600,  1.3100,  0.6200,  0.3300,  0.0900, -0.6700, -1.2300, -1.3700])"
      ]
     },
     "execution_count": 14,
     "metadata": {},
     "output_type": "execute_result"
    }
   ],
   "source": [
    "y = torch.tensor([1.86, 1.31, .62, .33, .09, -.67, -1.23, -1.37]) # Ej: Puntuación de «olvido» del paciente\n",
    "y"
   ]
  },
  {
   "cell_type": "code",
   "execution_count": 15,
   "id": "1cc3209d-f5c4-4eb5-bdcb-11e5fd3ffd6b",
   "metadata": {},
   "outputs": [
    {
     "data": {
      "image/png": "[encoded data removed]",
      "text/plain": [
       "<Figure size 640x480 with 1 Axes>"
      ]
     },
     "metadata": {},
     "output_type": "display_data"
    }
   ],
   "source": [
    "fig, ax = plt.subplots()\n",
    "plt.title(\"Ensayo Clínico\")\n",
    "plt.xlabel(\"Dosis de la Droga (mL)\")\n",
    "plt.ylabel(\"Olvido\")\n",
    "_ = ax.scatter(x, y)"
   ]
  },
  {
   "cell_type": "code",
   "execution_count": 16,
   "id": "497af321-9fbd-4477-b2f9-f1441cccce1c",
   "metadata": {},
   "outputs": [
    {
     "data": {
      "text/plain": [
       "tensor([0.9000], requires_grad=True)"
      ]
     },
     "execution_count": 16,
     "metadata": {},
     "output_type": "execute_result"
    }
   ],
   "source": [
    "m = torch.tensor([0.9]).requires_grad_()\n",
    "m"
   ]
  },
  {
   "cell_type": "code",
   "execution_count": 17,
   "id": "85c76d9a-24e4-443f-8729-86454e2cf168",
   "metadata": {},
   "outputs": [
    {
     "data": {
      "text/plain": [
       "tensor([0.1000], requires_grad=True)"
      ]
     },
     "execution_count": 17,
     "metadata": {},
     "output_type": "execute_result"
    }
   ],
   "source": [
    "b = torch.tensor([0.1]).requires_grad_()\n",
    "b"
   ]
  },
  {
   "cell_type": "code",
   "execution_count": 18,
   "id": "18edd9dd-3e22-4ee6-82d5-90626a56eb48",
   "metadata": {},
   "outputs": [],
   "source": [
    "def regression(my_x, my_m, my_b):\n",
    "    return my_m*my_x + my_b"
   ]
  },
  {
   "cell_type": "code",
   "execution_count": 19,
   "id": "9c2a74ea-6931-41e6-9e6a-dbfe2f850d37",
   "metadata": {},
   "outputs": [],
   "source": [
    "def regression_plot(my_x, my_y, my_m, my_b):\n",
    "\n",
    "    fig, ax = plt.subplots()\n",
    "\n",
    "    ax.scatter(my_x, my_y)\n",
    "\n",
    "    x_min, x_max = ax.get_xlim()\n",
    "    y_min = regression(x_min, my_m, my_b).detach().item()\n",
    "    y_max = regression(x_max, my_m, my_b).detach().item()\n",
    "\n",
    "    ax.set_xlim([x_min, x_max])\n",
    "    _ = ax.plot([x_min, x_max], [y_min, y_max])"
   ]
  },
  {
   "cell_type": "code",
   "execution_count": 39,
   "id": "f49c2092-be0a-4ab1-a511-785f0282b0a0",
   "metadata": {},
   "outputs": [],
   "source": [
    "_min, x_max = ax.get_xlim()"
   ]
  },
  {
   "cell_type": "code",
   "execution_count": 40,
   "id": "265b0681-0a0e-4df0-827c-561ed323bcd9",
   "metadata": {},
   "outputs": [
    {
     "data": {
      "text/plain": [
       "np.float64(-0.35000000000000003)"
      ]
     },
     "execution_count": 40,
     "metadata": {},
     "output_type": "execute_result"
    }
   ],
   "source": [
    "_min"
   ]
  },
  {
   "cell_type": "code",
   "execution_count": 20,
   "id": "f624a17b-ab8a-4d31-a50c-c95534cfecda",
   "metadata": {},
   "outputs": [
    {
     "data": {
      "image/png": "[encoded data removed]",
      "text/plain": [
       "<Figure size 640x480 with 1 Axes>"
      ]
     },
     "metadata": {},
     "output_type": "display_data"
    }
   ],
   "source": [
    "regression_plot(x, y, m, b)"
   ]
  },
  {
   "cell_type": "code",
   "execution_count": 21,
   "id": "e012f67b-588e-4c88-a450-5d47b0be0d6a",
   "metadata": {},
   "outputs": [
    {
     "data": {
      "text/plain": [
       "tensor([0.1000, 1.0000, 1.9000, 2.8000, 3.7000, 4.6000, 5.5000, 6.4000],\n",
       "       grad_fn=<AddBackward0>)"
      ]
     },
     "execution_count": 21,
     "metadata": {},
     "output_type": "execute_result"
    }
   ],
   "source": [
    "yhat = regression(x, m, b)\n",
    "yhat"
   ]
  },
  {
   "cell_type": "code",
   "execution_count": 22,
   "id": "6ef1161a-fdf3-432c-a178-cc1ffbdca768",
   "metadata": {},
   "outputs": [],
   "source": [
    "def mse(my_yhat, my_y):\n",
    "    sigma = torch.sum((my_yhat - my_y)**2)\n",
    "    return sigma/len(my_y)"
   ]
  },
  {
   "cell_type": "code",
   "execution_count": 23,
   "id": "8bb4df3d-49cf-4538-a20a-22071c042044",
   "metadata": {},
   "outputs": [
    {
     "data": {
      "text/plain": [
       "tensor(19.6755, grad_fn=<DivBackward0>)"
      ]
     },
     "execution_count": 23,
     "metadata": {},
     "output_type": "execute_result"
    }
   ],
   "source": [
    "C = mse(yhat, y)\n",
    "C"
   ]
  },
  {
   "cell_type": "code",
   "execution_count": 24,
   "id": "00be2762-a146-49ae-8a0b-422cdf809158",
   "metadata": {},
   "outputs": [],
   "source": [
    "C.backward()"
   ]
  },
  {
   "cell_type": "code",
   "execution_count": 25,
   "id": "cfd2f5e4-51ca-4846-b554-c812e8ced65a",
   "metadata": {},
   "outputs": [
    {
     "data": {
      "text/plain": [
       "tensor([36.3050])"
      ]
     },
     "execution_count": 25,
     "metadata": {},
     "output_type": "execute_result"
    }
   ],
   "source": [
    "m.grad"
   ]
  },
  {
   "cell_type": "code",
   "execution_count": 26,
   "id": "22210a72-56d8-43e7-82cf-f9bc3407e7d0",
   "metadata": {},
   "outputs": [
    {
     "data": {
      "text/plain": [
       "tensor([6.2650])"
      ]
     },
     "execution_count": 26,
     "metadata": {},
     "output_type": "execute_result"
    }
   ],
   "source": [
    "b.grad"
   ]
  },
  {
   "cell_type": "code",
   "execution_count": 27,
   "id": "4eb829f5-3f88-46c1-8ad6-d916e6124690",
   "metadata": {},
   "outputs": [],
   "source": [
    "optimizer = torch.optim.SGD([m, b], lr=0.01)"
   ]
  },
  {
   "cell_type": "code",
   "execution_count": 28,
   "id": "9f9d2a20-65a0-4fca-aecc-4cf5209e5711",
   "metadata": {},
   "outputs": [],
   "source": [
    "optimizer.step()"
   ]
  },
  {
   "cell_type": "code",
   "execution_count": 29,
   "id": "7f23ada8-3f10-4392-844c-356a0b9678c4",
   "metadata": {},
   "outputs": [
    {
     "data": {
      "text/plain": [
       "tensor([0.5369], requires_grad=True)"
      ]
     },
     "execution_count": 29,
     "metadata": {},
     "output_type": "execute_result"
    }
   ],
   "source": [
    "m"
   ]
  },
  {
   "cell_type": "code",
   "execution_count": 30,
   "id": "43fb0c1a-5f46-434d-a6eb-fe4ccb06a91b",
   "metadata": {},
   "outputs": [
    {
     "data": {
      "text/plain": [
       "tensor([0.0374], requires_grad=True)"
      ]
     },
     "execution_count": 30,
     "metadata": {},
     "output_type": "execute_result"
    }
   ],
   "source": [
    "b"
   ]
  },
  {
   "cell_type": "code",
   "execution_count": 31,
   "id": "083779e8-d8de-487c-ada3-88b1ee8921c5",
   "metadata": {},
   "outputs": [
    {
     "data": {
      "image/png": "[encoded data removed]",
      "text/plain": [
       "<Figure size 640x480 with 1 Axes>"
      ]
     },
     "metadata": {},
     "output_type": "display_data"
    }
   ],
   "source": [
    "regression_plot(x, y, m, b)"
   ]
  },
  {
   "cell_type": "code",
   "execution_count": 32,
   "id": "e3c950a5-aee9-4c5d-ae81-5a3e7f67b8a0",
   "metadata": {},
   "outputs": [
    {
     "data": {
      "text/plain": [
       "tensor(8.5722, grad_fn=<DivBackward0>)"
      ]
     },
     "execution_count": 32,
     "metadata": {},
     "output_type": "execute_result"
    }
   ],
   "source": [
    "C = mse(regression(x, m, b), y)\n",
    "C"
   ]
  },
  {
   "cell_type": "code",
   "execution_count": 33,
   "id": "47ad69be-d8dc-443d-b6f6-464f8b583839",
   "metadata": {},
   "outputs": [
    {
     "name": "stdout",
     "output_type": "stream",
     "text": [
      "Epoch 0, coste 8.57, m grad 23.2, b grad 3.6\n",
      "Epoch 1, coste 4.08, m grad 14.8, b grad 1.91\n",
      "Epoch 2, coste 2.25, m grad 9.49, b grad 0.831\n",
      "Epoch 3, coste 1.51, m grad 6.11, b grad 0.15\n",
      "Epoch 4, coste 1.2, m grad 3.96, b grad -0.28\n",
      "Epoch 5, coste 1.07, m grad 2.59, b grad -0.552\n",
      "Epoch 6, coste 1.01, m grad 1.72, b grad -0.723\n",
      "Epoch 7, coste 0.981, m grad 1.17, b grad -0.829\n",
      "Epoch 8, coste 0.962, m grad 0.82, b grad -0.894\n",
      "Epoch 9, coste 0.948, m grad 0.595, b grad -0.934\n",
      "Epoch 10, coste 0.936, m grad 0.452, b grad -0.957\n",
      "Epoch 11, coste 0.925, m grad 0.361, b grad -0.969\n",
      "Epoch 12, coste 0.915, m grad 0.302, b grad -0.975\n",
      "Epoch 13, coste 0.904, m grad 0.265, b grad -0.977\n",
      "Epoch 14, coste 0.894, m grad 0.241, b grad -0.976\n",
      "Epoch 15, coste 0.884, m grad 0.225, b grad -0.973\n",
      "Epoch 16, coste 0.874, m grad 0.214, b grad -0.969\n",
      "Epoch 17, coste 0.864, m grad 0.207, b grad -0.965\n",
      "Epoch 18, coste 0.854, m grad 0.202, b grad -0.96\n",
      "Epoch 19, coste 0.845, m grad 0.199, b grad -0.955\n",
      "Epoch 20, coste 0.835, m grad 0.196, b grad -0.95\n",
      "Epoch 21, coste 0.826, m grad 0.194, b grad -0.945\n",
      "Epoch 22, coste 0.817, m grad 0.192, b grad -0.939\n",
      "Epoch 23, coste 0.808, m grad 0.191, b grad -0.934\n",
      "Epoch 24, coste 0.799, m grad 0.189, b grad -0.929\n",
      "Epoch 25, coste 0.79, m grad 0.188, b grad -0.923\n",
      "Epoch 26, coste 0.781, m grad 0.187, b grad -0.918\n",
      "Epoch 27, coste 0.772, m grad 0.186, b grad -0.913\n",
      "Epoch 28, coste 0.763, m grad 0.185, b grad -0.908\n",
      "Epoch 29, coste 0.755, m grad 0.184, b grad -0.902\n",
      "Epoch 30, coste 0.746, m grad 0.182, b grad -0.897\n",
      "Epoch 31, coste 0.738, m grad 0.181, b grad -0.892\n",
      "Epoch 32, coste 0.73, m grad 0.18, b grad -0.887\n",
      "Epoch 33, coste 0.721, m grad 0.179, b grad -0.882\n",
      "Epoch 34, coste 0.713, m grad 0.178, b grad -0.877\n",
      "Epoch 35, coste 0.705, m grad 0.177, b grad -0.872\n",
      "Epoch 36, coste 0.698, m grad 0.176, b grad -0.867\n",
      "Epoch 37, coste 0.69, m grad 0.175, b grad -0.862\n",
      "Epoch 38, coste 0.682, m grad 0.174, b grad -0.857\n",
      "Epoch 39, coste 0.674, m grad 0.173, b grad -0.852\n",
      "Epoch 40, coste 0.667, m grad 0.172, b grad -0.847\n",
      "Epoch 41, coste 0.659, m grad 0.171, b grad -0.842\n",
      "Epoch 42, coste 0.652, m grad 0.17, b grad -0.837\n",
      "Epoch 43, coste 0.645, m grad 0.169, b grad -0.832\n",
      "Epoch 44, coste 0.638, m grad 0.168, b grad -0.827\n",
      "Epoch 45, coste 0.631, m grad 0.167, b grad -0.823\n",
      "Epoch 46, coste 0.624, m grad 0.166, b grad -0.818\n",
      "Epoch 47, coste 0.617, m grad 0.165, b grad -0.813\n",
      "Epoch 48, coste 0.61, m grad 0.164, b grad -0.808\n",
      "Epoch 49, coste 0.603, m grad 0.163, b grad -0.804\n",
      "Epoch 50, coste 0.596, m grad 0.163, b grad -0.799\n",
      "Epoch 51, coste 0.59, m grad 0.162, b grad -0.795\n",
      "Epoch 52, coste 0.583, m grad 0.161, b grad -0.79\n",
      "Epoch 53, coste 0.577, m grad 0.16, b grad -0.785\n",
      "Epoch 54, coste 0.57, m grad 0.159, b grad -0.781\n",
      "Epoch 55, coste 0.564, m grad 0.158, b grad -0.776\n",
      "Epoch 56, coste 0.558, m grad 0.157, b grad -0.772\n",
      "Epoch 57, coste 0.551, m grad 0.156, b grad -0.767\n",
      "Epoch 58, coste 0.545, m grad 0.155, b grad -0.763\n",
      "Epoch 59, coste 0.539, m grad 0.154, b grad -0.759\n",
      "Epoch 60, coste 0.533, m grad 0.153, b grad -0.754\n",
      "Epoch 61, coste 0.527, m grad 0.152, b grad -0.75\n",
      "Epoch 62, coste 0.521, m grad 0.152, b grad -0.746\n",
      "Epoch 63, coste 0.516, m grad 0.151, b grad -0.741\n",
      "Epoch 64, coste 0.51, m grad 0.15, b grad -0.737\n",
      "Epoch 65, coste 0.504, m grad 0.149, b grad -0.733\n",
      "Epoch 66, coste 0.499, m grad 0.148, b grad -0.729\n",
      "Epoch 67, coste 0.493, m grad 0.147, b grad -0.724\n",
      "Epoch 68, coste 0.488, m grad 0.146, b grad -0.72\n",
      "Epoch 69, coste 0.482, m grad 0.146, b grad -0.716\n",
      "Epoch 70, coste 0.477, m grad 0.145, b grad -0.712\n",
      "Epoch 71, coste 0.472, m grad 0.144, b grad -0.708\n",
      "Epoch 72, coste 0.467, m grad 0.143, b grad -0.704\n",
      "Epoch 73, coste 0.462, m grad 0.142, b grad -0.7\n",
      "Epoch 74, coste 0.456, m grad 0.141, b grad -0.696\n",
      "Epoch 75, coste 0.451, m grad 0.141, b grad -0.692\n",
      "Epoch 76, coste 0.446, m grad 0.14, b grad -0.688\n",
      "Epoch 77, coste 0.442, m grad 0.139, b grad -0.684\n",
      "Epoch 78, coste 0.437, m grad 0.138, b grad -0.68\n",
      "Epoch 79, coste 0.432, m grad 0.137, b grad -0.676\n",
      "Epoch 80, coste 0.427, m grad 0.137, b grad -0.672\n",
      "Epoch 81, coste 0.422, m grad 0.136, b grad -0.668\n",
      "Epoch 82, coste 0.418, m grad 0.135, b grad -0.664\n",
      "Epoch 83, coste 0.413, m grad 0.134, b grad -0.66\n",
      "Epoch 84, coste 0.409, m grad 0.134, b grad -0.657\n",
      "Epoch 85, coste 0.404, m grad 0.133, b grad -0.653\n",
      "Epoch 86, coste 0.4, m grad 0.132, b grad -0.649\n",
      "Epoch 87, coste 0.395, m grad 0.131, b grad -0.645\n",
      "Epoch 88, coste 0.391, m grad 0.13, b grad -0.642\n",
      "Epoch 89, coste 0.387, m grad 0.13, b grad -0.638\n",
      "Epoch 90, coste 0.383, m grad 0.129, b grad -0.634\n",
      "Epoch 91, coste 0.378, m grad 0.128, b grad -0.63\n",
      "Epoch 92, coste 0.374, m grad 0.127, b grad -0.627\n",
      "Epoch 93, coste 0.37, m grad 0.127, b grad -0.623\n",
      "Epoch 94, coste 0.366, m grad 0.126, b grad -0.62\n",
      "Epoch 95, coste 0.362, m grad 0.125, b grad -0.616\n",
      "Epoch 96, coste 0.358, m grad 0.125, b grad -0.613\n",
      "Epoch 97, coste 0.354, m grad 0.124, b grad -0.609\n",
      "Epoch 98, coste 0.351, m grad 0.123, b grad -0.605\n",
      "Epoch 99, coste 0.347, m grad 0.122, b grad -0.602\n",
      "Epoch 100, coste 0.343, m grad 0.122, b grad -0.599\n",
      "Epoch 101, coste 0.339, m grad 0.121, b grad -0.595\n",
      "Epoch 102, coste 0.336, m grad 0.12, b grad -0.592\n",
      "Epoch 103, coste 0.332, m grad 0.12, b grad -0.588\n",
      "Epoch 104, coste 0.328, m grad 0.119, b grad -0.585\n",
      "Epoch 105, coste 0.325, m grad 0.118, b grad -0.581\n",
      "Epoch 106, coste 0.321, m grad 0.118, b grad -0.578\n",
      "Epoch 107, coste 0.318, m grad 0.117, b grad -0.575\n",
      "Epoch 108, coste 0.314, m grad 0.116, b grad -0.571\n",
      "Epoch 109, coste 0.311, m grad 0.116, b grad -0.568\n",
      "Epoch 110, coste 0.308, m grad 0.115, b grad -0.565\n",
      "Epoch 111, coste 0.304, m grad 0.114, b grad -0.562\n",
      "Epoch 112, coste 0.301, m grad 0.114, b grad -0.558\n",
      "Epoch 113, coste 0.298, m grad 0.113, b grad -0.555\n",
      "Epoch 114, coste 0.295, m grad 0.112, b grad -0.552\n",
      "Epoch 115, coste 0.291, m grad 0.112, b grad -0.549\n",
      "Epoch 116, coste 0.288, m grad 0.111, b grad -0.546\n",
      "Epoch 117, coste 0.285, m grad 0.11, b grad -0.542\n",
      "Epoch 118, coste 0.282, m grad 0.11, b grad -0.539\n",
      "Epoch 119, coste 0.279, m grad 0.109, b grad -0.536\n",
      "Epoch 120, coste 0.276, m grad 0.108, b grad -0.533\n",
      "Epoch 121, coste 0.273, m grad 0.108, b grad -0.53\n",
      "Epoch 122, coste 0.27, m grad 0.107, b grad -0.527\n",
      "Epoch 123, coste 0.267, m grad 0.107, b grad -0.524\n",
      "Epoch 124, coste 0.265, m grad 0.106, b grad -0.521\n",
      "Epoch 125, coste 0.262, m grad 0.105, b grad -0.518\n",
      "Epoch 126, coste 0.259, m grad 0.105, b grad -0.515\n",
      "Epoch 127, coste 0.256, m grad 0.104, b grad -0.512\n",
      "Epoch 128, coste 0.253, m grad 0.104, b grad -0.509\n",
      "Epoch 129, coste 0.251, m grad 0.103, b grad -0.506\n",
      "Epoch 130, coste 0.248, m grad 0.102, b grad -0.503\n",
      "Epoch 131, coste 0.245, m grad 0.102, b grad -0.5\n",
      "Epoch 132, coste 0.243, m grad 0.101, b grad -0.497\n",
      "Epoch 133, coste 0.24, m grad 0.101, b grad -0.495\n",
      "Epoch 134, coste 0.238, m grad 0.1, b grad -0.492\n",
      "Epoch 135, coste 0.235, m grad 0.0994, b grad -0.489\n",
      "Epoch 136, coste 0.233, m grad 0.0988, b grad -0.486\n",
      "Epoch 137, coste 0.23, m grad 0.0983, b grad -0.483\n",
      "Epoch 138, coste 0.228, m grad 0.0977, b grad -0.48\n",
      "Epoch 139, coste 0.226, m grad 0.0971, b grad -0.478\n",
      "Epoch 140, coste 0.223, m grad 0.0966, b grad -0.475\n",
      "Epoch 141, coste 0.221, m grad 0.096, b grad -0.472\n",
      "Epoch 142, coste 0.218, m grad 0.0955, b grad -0.469\n",
      "Epoch 143, coste 0.216, m grad 0.0949, b grad -0.467\n",
      "Epoch 144, coste 0.214, m grad 0.0944, b grad -0.464\n",
      "Epoch 145, coste 0.212, m grad 0.0938, b grad -0.461\n",
      "Epoch 146, coste 0.209, m grad 0.0933, b grad -0.459\n",
      "Epoch 147, coste 0.207, m grad 0.0927, b grad -0.456\n",
      "Epoch 148, coste 0.205, m grad 0.0922, b grad -0.453\n",
      "Epoch 149, coste 0.203, m grad 0.0917, b grad -0.451\n",
      "Epoch 150, coste 0.201, m grad 0.0911, b grad -0.448\n",
      "Epoch 151, coste 0.199, m grad 0.0906, b grad -0.446\n",
      "Epoch 152, coste 0.197, m grad 0.0901, b grad -0.443\n",
      "Epoch 153, coste 0.195, m grad 0.0896, b grad -0.441\n",
      "Epoch 154, coste 0.193, m grad 0.0891, b grad -0.438\n",
      "Epoch 155, coste 0.191, m grad 0.0886, b grad -0.435\n",
      "Epoch 156, coste 0.189, m grad 0.088, b grad -0.433\n",
      "Epoch 157, coste 0.187, m grad 0.0875, b grad -0.43\n",
      "Epoch 158, coste 0.185, m grad 0.087, b grad -0.428\n",
      "Epoch 159, coste 0.183, m grad 0.0865, b grad -0.426\n",
      "Epoch 160, coste 0.181, m grad 0.086, b grad -0.423\n",
      "Epoch 161, coste 0.179, m grad 0.0855, b grad -0.421\n",
      "Epoch 162, coste 0.177, m grad 0.085, b grad -0.418\n",
      "Epoch 163, coste 0.176, m grad 0.0845, b grad -0.416\n",
      "Epoch 164, coste 0.174, m grad 0.0841, b grad -0.413\n",
      "Epoch 165, coste 0.172, m grad 0.0836, b grad -0.411\n",
      "Epoch 166, coste 0.17, m grad 0.0831, b grad -0.409\n",
      "Epoch 167, coste 0.169, m grad 0.0826, b grad -0.406\n",
      "Epoch 168, coste 0.167, m grad 0.0821, b grad -0.404\n",
      "Epoch 169, coste 0.165, m grad 0.0817, b grad -0.402\n",
      "Epoch 170, coste 0.163, m grad 0.0812, b grad -0.399\n",
      "Epoch 171, coste 0.162, m grad 0.0807, b grad -0.397\n",
      "Epoch 172, coste 0.16, m grad 0.0803, b grad -0.395\n",
      "Epoch 173, coste 0.159, m grad 0.0798, b grad -0.392\n",
      "Epoch 174, coste 0.157, m grad 0.0793, b grad -0.39\n",
      "Epoch 175, coste 0.155, m grad 0.0789, b grad -0.388\n",
      "Epoch 176, coste 0.154, m grad 0.0784, b grad -0.386\n",
      "Epoch 177, coste 0.152, m grad 0.078, b grad -0.383\n",
      "Epoch 178, coste 0.151, m grad 0.0775, b grad -0.381\n",
      "Epoch 179, coste 0.149, m grad 0.0771, b grad -0.379\n",
      "Epoch 180, coste 0.148, m grad 0.0766, b grad -0.377\n",
      "Epoch 181, coste 0.146, m grad 0.0762, b grad -0.375\n",
      "Epoch 182, coste 0.145, m grad 0.0758, b grad -0.373\n",
      "Epoch 183, coste 0.143, m grad 0.0753, b grad -0.37\n",
      "Epoch 184, coste 0.142, m grad 0.0749, b grad -0.368\n",
      "Epoch 185, coste 0.141, m grad 0.0744, b grad -0.366\n",
      "Epoch 186, coste 0.139, m grad 0.074, b grad -0.364\n",
      "Epoch 187, coste 0.138, m grad 0.0736, b grad -0.362\n",
      "Epoch 188, coste 0.136, m grad 0.0732, b grad -0.36\n",
      "Epoch 189, coste 0.135, m grad 0.0727, b grad -0.358\n",
      "Epoch 190, coste 0.134, m grad 0.0723, b grad -0.356\n",
      "Epoch 191, coste 0.132, m grad 0.0719, b grad -0.354\n",
      "Epoch 192, coste 0.131, m grad 0.0715, b grad -0.352\n",
      "Epoch 193, coste 0.13, m grad 0.0711, b grad -0.35\n",
      "Epoch 194, coste 0.129, m grad 0.0707, b grad -0.348\n",
      "Epoch 195, coste 0.127, m grad 0.0703, b grad -0.346\n",
      "Epoch 196, coste 0.126, m grad 0.0699, b grad -0.344\n",
      "Epoch 197, coste 0.125, m grad 0.0695, b grad -0.342\n",
      "Epoch 198, coste 0.124, m grad 0.0691, b grad -0.34\n",
      "Epoch 199, coste 0.122, m grad 0.0687, b grad -0.338\n",
      "Epoch 200, coste 0.121, m grad 0.0683, b grad -0.336\n",
      "Epoch 201, coste 0.12, m grad 0.0679, b grad -0.334\n",
      "Epoch 202, coste 0.119, m grad 0.0675, b grad -0.332\n",
      "Epoch 203, coste 0.118, m grad 0.0671, b grad -0.33\n",
      "Epoch 204, coste 0.117, m grad 0.0667, b grad -0.328\n",
      "Epoch 205, coste 0.116, m grad 0.0663, b grad -0.326\n",
      "Epoch 206, coste 0.114, m grad 0.0659, b grad -0.324\n",
      "Epoch 207, coste 0.113, m grad 0.0656, b grad -0.322\n",
      "Epoch 208, coste 0.112, m grad 0.0652, b grad -0.321\n",
      "Epoch 209, coste 0.111, m grad 0.0648, b grad -0.319\n",
      "Epoch 210, coste 0.11, m grad 0.0644, b grad -0.317\n",
      "Epoch 211, coste 0.109, m grad 0.0641, b grad -0.315\n",
      "Epoch 212, coste 0.108, m grad 0.0637, b grad -0.313\n",
      "Epoch 213, coste 0.107, m grad 0.0633, b grad -0.311\n",
      "Epoch 214, coste 0.106, m grad 0.063, b grad -0.31\n",
      "Epoch 215, coste 0.105, m grad 0.0626, b grad -0.308\n",
      "Epoch 216, coste 0.104, m grad 0.0622, b grad -0.306\n",
      "Epoch 217, coste 0.103, m grad 0.0619, b grad -0.304\n",
      "Epoch 218, coste 0.102, m grad 0.0615, b grad -0.303\n",
      "Epoch 219, coste 0.101, m grad 0.0612, b grad -0.301\n",
      "Epoch 220, coste 0.1, m grad 0.0608, b grad -0.299\n",
      "Epoch 221, coste 0.0993, m grad 0.0605, b grad -0.297\n",
      "Epoch 222, coste 0.0984, m grad 0.0601, b grad -0.296\n",
      "Epoch 223, coste 0.0975, m grad 0.0598, b grad -0.294\n",
      "Epoch 224, coste 0.0966, m grad 0.0594, b grad -0.292\n",
      "Epoch 225, coste 0.0957, m grad 0.0591, b grad -0.291\n",
      "Epoch 226, coste 0.0948, m grad 0.0587, b grad -0.289\n",
      "Epoch 227, coste 0.0939, m grad 0.0584, b grad -0.287\n",
      "Epoch 228, coste 0.0931, m grad 0.0581, b grad -0.286\n",
      "Epoch 229, coste 0.0922, m grad 0.0577, b grad -0.284\n",
      "Epoch 230, coste 0.0914, m grad 0.0574, b grad -0.282\n",
      "Epoch 231, coste 0.0906, m grad 0.0571, b grad -0.281\n",
      "Epoch 232, coste 0.0898, m grad 0.0567, b grad -0.279\n",
      "Epoch 233, coste 0.089, m grad 0.0564, b grad -0.277\n",
      "Epoch 234, coste 0.0882, m grad 0.0561, b grad -0.276\n",
      "Epoch 235, coste 0.0874, m grad 0.0558, b grad -0.274\n",
      "Epoch 236, coste 0.0866, m grad 0.0554, b grad -0.273\n",
      "Epoch 237, coste 0.0858, m grad 0.0551, b grad -0.271\n",
      "Epoch 238, coste 0.085, m grad 0.0548, b grad -0.269\n",
      "Epoch 239, coste 0.0843, m grad 0.0545, b grad -0.268\n",
      "Epoch 240, coste 0.0835, m grad 0.0542, b grad -0.266\n",
      "Epoch 241, coste 0.0828, m grad 0.0539, b grad -0.265\n",
      "Epoch 242, coste 0.0821, m grad 0.0535, b grad -0.263\n",
      "Epoch 243, coste 0.0814, m grad 0.0532, b grad -0.262\n",
      "Epoch 244, coste 0.0807, m grad 0.0529, b grad -0.26\n",
      "Epoch 245, coste 0.0799, m grad 0.0526, b grad -0.259\n",
      "Epoch 246, coste 0.0793, m grad 0.0523, b grad -0.257\n",
      "Epoch 247, coste 0.0786, m grad 0.052, b grad -0.256\n",
      "Epoch 248, coste 0.0779, m grad 0.0517, b grad -0.254\n",
      "Epoch 249, coste 0.0772, m grad 0.0514, b grad -0.253\n",
      "Epoch 250, coste 0.0765, m grad 0.0511, b grad -0.251\n",
      "Epoch 251, coste 0.0759, m grad 0.0508, b grad -0.25\n",
      "Epoch 252, coste 0.0752, m grad 0.0505, b grad -0.249\n",
      "Epoch 253, coste 0.0746, m grad 0.0502, b grad -0.247\n",
      "Epoch 254, coste 0.074, m grad 0.05, b grad -0.246\n",
      "Epoch 255, coste 0.0733, m grad 0.0497, b grad -0.244\n",
      "Epoch 256, coste 0.0727, m grad 0.0494, b grad -0.243\n",
      "Epoch 257, coste 0.0721, m grad 0.0491, b grad -0.241\n",
      "Epoch 258, coste 0.0715, m grad 0.0488, b grad -0.24\n",
      "Epoch 259, coste 0.0709, m grad 0.0485, b grad -0.239\n",
      "Epoch 260, coste 0.0703, m grad 0.0483, b grad -0.237\n",
      "Epoch 261, coste 0.0697, m grad 0.048, b grad -0.236\n",
      "Epoch 262, coste 0.0692, m grad 0.0477, b grad -0.235\n",
      "Epoch 263, coste 0.0686, m grad 0.0474, b grad -0.233\n",
      "Epoch 264, coste 0.068, m grad 0.0471, b grad -0.232\n",
      "Epoch 265, coste 0.0675, m grad 0.0469, b grad -0.231\n",
      "Epoch 266, coste 0.0669, m grad 0.0466, b grad -0.229\n",
      "Epoch 267, coste 0.0664, m grad 0.0463, b grad -0.228\n",
      "Epoch 268, coste 0.0658, m grad 0.0461, b grad -0.227\n",
      "Epoch 269, coste 0.0653, m grad 0.0458, b grad -0.225\n",
      "Epoch 270, coste 0.0648, m grad 0.0455, b grad -0.224\n",
      "Epoch 271, coste 0.0642, m grad 0.0453, b grad -0.223\n",
      "Epoch 272, coste 0.0637, m grad 0.045, b grad -0.221\n",
      "Epoch 273, coste 0.0632, m grad 0.0448, b grad -0.22\n",
      "Epoch 274, coste 0.0627, m grad 0.0445, b grad -0.219\n",
      "Epoch 275, coste 0.0622, m grad 0.0442, b grad -0.218\n",
      "Epoch 276, coste 0.0617, m grad 0.044, b grad -0.216\n",
      "Epoch 277, coste 0.0612, m grad 0.0437, b grad -0.215\n",
      "Epoch 278, coste 0.0608, m grad 0.0435, b grad -0.214\n",
      "Epoch 279, coste 0.0603, m grad 0.0432, b grad -0.213\n",
      "Epoch 280, coste 0.0598, m grad 0.043, b grad -0.211\n",
      "Epoch 281, coste 0.0594, m grad 0.0427, b grad -0.21\n",
      "Epoch 282, coste 0.0589, m grad 0.0425, b grad -0.209\n",
      "Epoch 283, coste 0.0584, m grad 0.0422, b grad -0.208\n",
      "Epoch 284, coste 0.058, m grad 0.042, b grad -0.207\n",
      "Epoch 285, coste 0.0575, m grad 0.0418, b grad -0.205\n",
      "Epoch 286, coste 0.0571, m grad 0.0415, b grad -0.204\n",
      "Epoch 287, coste 0.0567, m grad 0.0413, b grad -0.203\n",
      "Epoch 288, coste 0.0562, m grad 0.041, b grad -0.202\n",
      "Epoch 289, coste 0.0558, m grad 0.0408, b grad -0.201\n",
      "Epoch 290, coste 0.0554, m grad 0.0406, b grad -0.199\n",
      "Epoch 291, coste 0.055, m grad 0.0403, b grad -0.198\n",
      "Epoch 292, coste 0.0546, m grad 0.0401, b grad -0.197\n",
      "Epoch 293, coste 0.0542, m grad 0.0399, b grad -0.196\n",
      "Epoch 294, coste 0.0538, m grad 0.0396, b grad -0.195\n",
      "Epoch 295, coste 0.0534, m grad 0.0394, b grad -0.194\n",
      "Epoch 296, coste 0.053, m grad 0.0392, b grad -0.193\n",
      "Epoch 297, coste 0.0526, m grad 0.039, b grad -0.192\n",
      "Epoch 298, coste 0.0522, m grad 0.0387, b grad -0.19\n",
      "Epoch 299, coste 0.0519, m grad 0.0385, b grad -0.189\n",
      "Epoch 300, coste 0.0515, m grad 0.0383, b grad -0.188\n",
      "Epoch 301, coste 0.0511, m grad 0.0381, b grad -0.187\n",
      "Epoch 302, coste 0.0508, m grad 0.0378, b grad -0.186\n",
      "Epoch 303, coste 0.0504, m grad 0.0376, b grad -0.185\n",
      "Epoch 304, coste 0.05, m grad 0.0374, b grad -0.184\n",
      "Epoch 305, coste 0.0497, m grad 0.0372, b grad -0.183\n",
      "Epoch 306, coste 0.0493, m grad 0.037, b grad -0.182\n",
      "Epoch 307, coste 0.049, m grad 0.0368, b grad -0.181\n",
      "Epoch 308, coste 0.0487, m grad 0.0366, b grad -0.18\n",
      "Epoch 309, coste 0.0483, m grad 0.0363, b grad -0.179\n",
      "Epoch 310, coste 0.048, m grad 0.0361, b grad -0.178\n",
      "Epoch 311, coste 0.0477, m grad 0.0359, b grad -0.177\n",
      "Epoch 312, coste 0.0473, m grad 0.0357, b grad -0.176\n",
      "Epoch 313, coste 0.047, m grad 0.0355, b grad -0.175\n",
      "Epoch 314, coste 0.0467, m grad 0.0353, b grad -0.174\n",
      "Epoch 315, coste 0.0464, m grad 0.0351, b grad -0.173\n",
      "Epoch 316, coste 0.0461, m grad 0.0349, b grad -0.172\n",
      "Epoch 317, coste 0.0458, m grad 0.0347, b grad -0.171\n",
      "Epoch 318, coste 0.0455, m grad 0.0345, b grad -0.17\n",
      "Epoch 319, coste 0.0452, m grad 0.0343, b grad -0.169\n",
      "Epoch 320, coste 0.0449, m grad 0.0341, b grad -0.168\n",
      "Epoch 321, coste 0.0446, m grad 0.0339, b grad -0.167\n",
      "Epoch 322, coste 0.0443, m grad 0.0337, b grad -0.166\n",
      "Epoch 323, coste 0.044, m grad 0.0335, b grad -0.165\n",
      "Epoch 324, coste 0.0437, m grad 0.0333, b grad -0.164\n",
      "Epoch 325, coste 0.0434, m grad 0.0331, b grad -0.163\n",
      "Epoch 326, coste 0.0432, m grad 0.0329, b grad -0.162\n",
      "Epoch 327, coste 0.0429, m grad 0.0328, b grad -0.161\n",
      "Epoch 328, coste 0.0426, m grad 0.0326, b grad -0.16\n",
      "Epoch 329, coste 0.0424, m grad 0.0324, b grad -0.159\n",
      "Epoch 330, coste 0.0421, m grad 0.0322, b grad -0.158\n",
      "Epoch 331, coste 0.0418, m grad 0.032, b grad -0.157\n",
      "Epoch 332, coste 0.0416, m grad 0.0318, b grad -0.156\n",
      "Epoch 333, coste 0.0413, m grad 0.0316, b grad -0.156\n",
      "Epoch 334, coste 0.0411, m grad 0.0315, b grad -0.155\n",
      "Epoch 335, coste 0.0408, m grad 0.0313, b grad -0.154\n",
      "Epoch 336, coste 0.0406, m grad 0.0311, b grad -0.153\n",
      "Epoch 337, coste 0.0403, m grad 0.0309, b grad -0.152\n",
      "Epoch 338, coste 0.0401, m grad 0.0307, b grad -0.151\n",
      "Epoch 339, coste 0.0399, m grad 0.0306, b grad -0.15\n",
      "Epoch 340, coste 0.0396, m grad 0.0304, b grad -0.149\n",
      "Epoch 341, coste 0.0394, m grad 0.0302, b grad -0.149\n",
      "Epoch 342, coste 0.0392, m grad 0.03, b grad -0.148\n",
      "Epoch 343, coste 0.0389, m grad 0.0299, b grad -0.147\n",
      "Epoch 344, coste 0.0387, m grad 0.0297, b grad -0.146\n",
      "Epoch 345, coste 0.0385, m grad 0.0295, b grad -0.145\n",
      "Epoch 346, coste 0.0383, m grad 0.0293, b grad -0.144\n",
      "Epoch 347, coste 0.0381, m grad 0.0292, b grad -0.143\n",
      "Epoch 348, coste 0.0378, m grad 0.029, b grad -0.143\n",
      "Epoch 349, coste 0.0376, m grad 0.0288, b grad -0.142\n",
      "Epoch 350, coste 0.0374, m grad 0.0287, b grad -0.141\n",
      "Epoch 351, coste 0.0372, m grad 0.0285, b grad -0.14\n",
      "Epoch 352, coste 0.037, m grad 0.0283, b grad -0.139\n",
      "Epoch 353, coste 0.0368, m grad 0.0282, b grad -0.139\n",
      "Epoch 354, coste 0.0366, m grad 0.028, b grad -0.138\n",
      "Epoch 355, coste 0.0364, m grad 0.0279, b grad -0.137\n",
      "Epoch 356, coste 0.0362, m grad 0.0277, b grad -0.136\n",
      "Epoch 357, coste 0.036, m grad 0.0275, b grad -0.135\n",
      "Epoch 358, coste 0.0358, m grad 0.0274, b grad -0.135\n",
      "Epoch 359, coste 0.0356, m grad 0.0272, b grad -0.134\n",
      "Epoch 360, coste 0.0355, m grad 0.0271, b grad -0.133\n",
      "Epoch 361, coste 0.0353, m grad 0.0269, b grad -0.132\n",
      "Epoch 362, coste 0.0351, m grad 0.0268, b grad -0.132\n",
      "Epoch 363, coste 0.0349, m grad 0.0266, b grad -0.131\n",
      "Epoch 364, coste 0.0347, m grad 0.0264, b grad -0.13\n",
      "Epoch 365, coste 0.0346, m grad 0.0263, b grad -0.129\n",
      "Epoch 366, coste 0.0344, m grad 0.0261, b grad -0.129\n",
      "Epoch 367, coste 0.0342, m grad 0.026, b grad -0.128\n",
      "Epoch 368, coste 0.034, m grad 0.0258, b grad -0.127\n",
      "Epoch 369, coste 0.0339, m grad 0.0257, b grad -0.126\n",
      "Epoch 370, coste 0.0337, m grad 0.0255, b grad -0.126\n",
      "Epoch 371, coste 0.0336, m grad 0.0254, b grad -0.125\n",
      "Epoch 372, coste 0.0334, m grad 0.0253, b grad -0.124\n",
      "Epoch 373, coste 0.0332, m grad 0.0251, b grad -0.123\n",
      "Epoch 374, coste 0.0331, m grad 0.025, b grad -0.123\n",
      "Epoch 375, coste 0.0329, m grad 0.0248, b grad -0.122\n",
      "Epoch 376, coste 0.0328, m grad 0.0247, b grad -0.121\n",
      "Epoch 377, coste 0.0326, m grad 0.0245, b grad -0.121\n",
      "Epoch 378, coste 0.0325, m grad 0.0244, b grad -0.12\n",
      "Epoch 379, coste 0.0323, m grad 0.0242, b grad -0.119\n",
      "Epoch 380, coste 0.0322, m grad 0.0241, b grad -0.119\n",
      "Epoch 381, coste 0.032, m grad 0.024, b grad -0.118\n",
      "Epoch 382, coste 0.0319, m grad 0.0238, b grad -0.117\n",
      "Epoch 383, coste 0.0317, m grad 0.0237, b grad -0.117\n",
      "Epoch 384, coste 0.0316, m grad 0.0236, b grad -0.116\n",
      "Epoch 385, coste 0.0314, m grad 0.0234, b grad -0.115\n",
      "Epoch 386, coste 0.0313, m grad 0.0233, b grad -0.115\n",
      "Epoch 387, coste 0.0312, m grad 0.0232, b grad -0.114\n",
      "Epoch 388, coste 0.031, m grad 0.023, b grad -0.113\n",
      "Epoch 389, coste 0.0309, m grad 0.0229, b grad -0.113\n",
      "Epoch 390, coste 0.0308, m grad 0.0228, b grad -0.112\n",
      "Epoch 391, coste 0.0306, m grad 0.0226, b grad -0.111\n",
      "Epoch 392, coste 0.0305, m grad 0.0225, b grad -0.111\n",
      "Epoch 393, coste 0.0304, m grad 0.0224, b grad -0.11\n",
      "Epoch 394, coste 0.0303, m grad 0.0222, b grad -0.109\n",
      "Epoch 395, coste 0.0301, m grad 0.0221, b grad -0.109\n",
      "Epoch 396, coste 0.03, m grad 0.022, b grad -0.108\n",
      "Epoch 397, coste 0.0299, m grad 0.0219, b grad -0.107\n",
      "Epoch 398, coste 0.0298, m grad 0.0217, b grad -0.107\n",
      "Epoch 399, coste 0.0297, m grad 0.0216, b grad -0.106\n",
      "Epoch 400, coste 0.0295, m grad 0.0215, b grad -0.106\n",
      "Epoch 401, coste 0.0294, m grad 0.0214, b grad -0.105\n",
      "Epoch 402, coste 0.0293, m grad 0.0212, b grad -0.104\n",
      "Epoch 403, coste 0.0292, m grad 0.0211, b grad -0.104\n",
      "Epoch 404, coste 0.0291, m grad 0.021, b grad -0.103\n",
      "Epoch 405, coste 0.029, m grad 0.0209, b grad -0.103\n",
      "Epoch 406, coste 0.0289, m grad 0.0207, b grad -0.102\n",
      "Epoch 407, coste 0.0288, m grad 0.0206, b grad -0.101\n",
      "Epoch 408, coste 0.0286, m grad 0.0205, b grad -0.101\n",
      "Epoch 409, coste 0.0285, m grad 0.0204, b grad -0.1\n",
      "Epoch 410, coste 0.0284, m grad 0.0203, b grad -0.0997\n",
      "Epoch 411, coste 0.0283, m grad 0.0202, b grad -0.0991\n",
      "Epoch 412, coste 0.0282, m grad 0.02, b grad -0.0985\n",
      "Epoch 413, coste 0.0281, m grad 0.0199, b grad -0.098\n",
      "Epoch 414, coste 0.028, m grad 0.0198, b grad -0.0974\n",
      "Epoch 415, coste 0.0279, m grad 0.0197, b grad -0.0968\n",
      "Epoch 416, coste 0.0278, m grad 0.0196, b grad -0.0963\n",
      "Epoch 417, coste 0.0277, m grad 0.0195, b grad -0.0957\n",
      "Epoch 418, coste 0.0276, m grad 0.0194, b grad -0.0952\n",
      "Epoch 419, coste 0.0276, m grad 0.0192, b grad -0.0946\n",
      "Epoch 420, coste 0.0275, m grad 0.0191, b grad -0.0941\n",
      "Epoch 421, coste 0.0274, m grad 0.019, b grad -0.0935\n",
      "Epoch 422, coste 0.0273, m grad 0.0189, b grad -0.093\n",
      "Epoch 423, coste 0.0272, m grad 0.0188, b grad -0.0925\n",
      "Epoch 424, coste 0.0271, m grad 0.0187, b grad -0.0919\n",
      "Epoch 425, coste 0.027, m grad 0.0186, b grad -0.0914\n",
      "Epoch 426, coste 0.0269, m grad 0.0185, b grad -0.0909\n",
      "Epoch 427, coste 0.0268, m grad 0.0184, b grad -0.0903\n",
      "Epoch 428, coste 0.0268, m grad 0.0183, b grad -0.0898\n",
      "Epoch 429, coste 0.0267, m grad 0.0182, b grad -0.0893\n",
      "Epoch 430, coste 0.0266, m grad 0.0181, b grad -0.0888\n",
      "Epoch 431, coste 0.0265, m grad 0.018, b grad -0.0883\n",
      "Epoch 432, coste 0.0264, m grad 0.0178, b grad -0.0878\n",
      "Epoch 433, coste 0.0263, m grad 0.0177, b grad -0.0873\n",
      "Epoch 434, coste 0.0263, m grad 0.0176, b grad -0.0868\n",
      "Epoch 435, coste 0.0262, m grad 0.0175, b grad -0.0863\n",
      "Epoch 436, coste 0.0261, m grad 0.0174, b grad -0.0858\n",
      "Epoch 437, coste 0.026, m grad 0.0173, b grad -0.0853\n",
      "Epoch 438, coste 0.026, m grad 0.0172, b grad -0.0848\n",
      "Epoch 439, coste 0.0259, m grad 0.0171, b grad -0.0843\n",
      "Epoch 440, coste 0.0258, m grad 0.017, b grad -0.0838\n",
      "Epoch 441, coste 0.0257, m grad 0.0169, b grad -0.0833\n",
      "Epoch 442, coste 0.0257, m grad 0.0168, b grad -0.0828\n",
      "Epoch 443, coste 0.0256, m grad 0.0167, b grad -0.0824\n",
      "Epoch 444, coste 0.0255, m grad 0.0167, b grad -0.0819\n",
      "Epoch 445, coste 0.0255, m grad 0.0166, b grad -0.0814\n",
      "Epoch 446, coste 0.0254, m grad 0.0165, b grad -0.0809\n",
      "Epoch 447, coste 0.0253, m grad 0.0164, b grad -0.0805\n",
      "Epoch 448, coste 0.0252, m grad 0.0163, b grad -0.08\n",
      "Epoch 449, coste 0.0252, m grad 0.0162, b grad -0.0796\n",
      "Epoch 450, coste 0.0251, m grad 0.0161, b grad -0.0791\n",
      "Epoch 451, coste 0.0251, m grad 0.016, b grad -0.0786\n",
      "Epoch 452, coste 0.025, m grad 0.0159, b grad -0.0782\n",
      "Epoch 453, coste 0.0249, m grad 0.0158, b grad -0.0777\n",
      "Epoch 454, coste 0.0249, m grad 0.0157, b grad -0.0773\n",
      "Epoch 455, coste 0.0248, m grad 0.0156, b grad -0.0768\n",
      "Epoch 456, coste 0.0247, m grad 0.0155, b grad -0.0764\n",
      "Epoch 457, coste 0.0247, m grad 0.0154, b grad -0.076\n",
      "Epoch 458, coste 0.0246, m grad 0.0154, b grad -0.0755\n",
      "Epoch 459, coste 0.0246, m grad 0.0153, b grad -0.0751\n",
      "Epoch 460, coste 0.0245, m grad 0.0152, b grad -0.0747\n",
      "Epoch 461, coste 0.0244, m grad 0.0151, b grad -0.0742\n",
      "Epoch 462, coste 0.0244, m grad 0.015, b grad -0.0738\n",
      "Epoch 463, coste 0.0243, m grad 0.0149, b grad -0.0734\n",
      "Epoch 464, coste 0.0243, m grad 0.0148, b grad -0.0729\n",
      "Epoch 465, coste 0.0242, m grad 0.0147, b grad -0.0725\n",
      "Epoch 466, coste 0.0242, m grad 0.0147, b grad -0.0721\n",
      "Epoch 467, coste 0.0241, m grad 0.0146, b grad -0.0717\n",
      "Epoch 468, coste 0.0241, m grad 0.0145, b grad -0.0713\n",
      "Epoch 469, coste 0.024, m grad 0.0144, b grad -0.0709\n",
      "Epoch 470, coste 0.0239, m grad 0.0143, b grad -0.0705\n",
      "Epoch 471, coste 0.0239, m grad 0.0142, b grad -0.0701\n",
      "Epoch 472, coste 0.0238, m grad 0.0142, b grad -0.0696\n",
      "Epoch 473, coste 0.0238, m grad 0.0141, b grad -0.0692\n",
      "Epoch 474, coste 0.0237, m grad 0.014, b grad -0.0688\n",
      "Epoch 475, coste 0.0237, m grad 0.0139, b grad -0.0685\n",
      "Epoch 476, coste 0.0236, m grad 0.0138, b grad -0.0681\n",
      "Epoch 477, coste 0.0236, m grad 0.0138, b grad -0.0677\n",
      "Epoch 478, coste 0.0236, m grad 0.0137, b grad -0.0673\n",
      "Epoch 479, coste 0.0235, m grad 0.0136, b grad -0.0669\n",
      "Epoch 480, coste 0.0235, m grad 0.0135, b grad -0.0665\n",
      "Epoch 481, coste 0.0234, m grad 0.0134, b grad -0.0661\n",
      "Epoch 482, coste 0.0234, m grad 0.0134, b grad -0.0657\n",
      "Epoch 483, coste 0.0233, m grad 0.0133, b grad -0.0654\n",
      "Epoch 484, coste 0.0233, m grad 0.0132, b grad -0.065\n",
      "Epoch 485, coste 0.0232, m grad 0.0131, b grad -0.0646\n",
      "Epoch 486, coste 0.0232, m grad 0.0131, b grad -0.0642\n",
      "Epoch 487, coste 0.0231, m grad 0.013, b grad -0.0639\n",
      "Epoch 488, coste 0.0231, m grad 0.0129, b grad -0.0635\n",
      "Epoch 489, coste 0.0231, m grad 0.0128, b grad -0.0631\n",
      "Epoch 490, coste 0.023, m grad 0.0128, b grad -0.0628\n",
      "Epoch 491, coste 0.023, m grad 0.0127, b grad -0.0624\n",
      "Epoch 492, coste 0.0229, m grad 0.0126, b grad -0.062\n",
      "Epoch 493, coste 0.0229, m grad 0.0125, b grad -0.0617\n",
      "Epoch 494, coste 0.0229, m grad 0.0125, b grad -0.0613\n",
      "Epoch 495, coste 0.0228, m grad 0.0124, b grad -0.061\n",
      "Epoch 496, coste 0.0228, m grad 0.0123, b grad -0.0606\n",
      "Epoch 497, coste 0.0227, m grad 0.0123, b grad -0.0603\n",
      "Epoch 498, coste 0.0227, m grad 0.0122, b grad -0.0599\n",
      "Epoch 499, coste 0.0227, m grad 0.0121, b grad -0.0596\n",
      "Epoch 500, coste 0.0226, m grad 0.012, b grad -0.0592\n",
      "Epoch 501, coste 0.0226, m grad 0.012, b grad -0.0589\n",
      "Epoch 502, coste 0.0226, m grad 0.0119, b grad -0.0586\n",
      "Epoch 503, coste 0.0225, m grad 0.0118, b grad -0.0582\n",
      "Epoch 504, coste 0.0225, m grad 0.0118, b grad -0.0579\n",
      "Epoch 505, coste 0.0225, m grad 0.0117, b grad -0.0575\n",
      "Epoch 506, coste 0.0224, m grad 0.0116, b grad -0.0572\n",
      "Epoch 507, coste 0.0224, m grad 0.0116, b grad -0.0569\n",
      "Epoch 508, coste 0.0224, m grad 0.0115, b grad -0.0566\n",
      "Epoch 509, coste 0.0223, m grad 0.0114, b grad -0.0562\n",
      "Epoch 510, coste 0.0223, m grad 0.0114, b grad -0.0559\n",
      "Epoch 511, coste 0.0223, m grad 0.0113, b grad -0.0556\n",
      "Epoch 512, coste 0.0222, m grad 0.0112, b grad -0.0553\n",
      "Epoch 513, coste 0.0222, m grad 0.0112, b grad -0.0549\n",
      "Epoch 514, coste 0.0222, m grad 0.0111, b grad -0.0546\n",
      "Epoch 515, coste 0.0221, m grad 0.011, b grad -0.0543\n",
      "Epoch 516, coste 0.0221, m grad 0.011, b grad -0.054\n",
      "Epoch 517, coste 0.0221, m grad 0.0109, b grad -0.0537\n",
      "Epoch 518, coste 0.022, m grad 0.0109, b grad -0.0534\n",
      "Epoch 519, coste 0.022, m grad 0.0108, b grad -0.0531\n",
      "Epoch 520, coste 0.022, m grad 0.0107, b grad -0.0528\n",
      "Epoch 521, coste 0.022, m grad 0.0107, b grad -0.0525\n",
      "Epoch 522, coste 0.0219, m grad 0.0106, b grad -0.0522\n",
      "Epoch 523, coste 0.0219, m grad 0.0105, b grad -0.0519\n",
      "Epoch 524, coste 0.0219, m grad 0.0105, b grad -0.0516\n",
      "Epoch 525, coste 0.0218, m grad 0.0104, b grad -0.0513\n",
      "Epoch 526, coste 0.0218, m grad 0.0104, b grad -0.051\n",
      "Epoch 527, coste 0.0218, m grad 0.0103, b grad -0.0507\n",
      "Epoch 528, coste 0.0218, m grad 0.0102, b grad -0.0504\n",
      "Epoch 529, coste 0.0217, m grad 0.0102, b grad -0.0501\n",
      "Epoch 530, coste 0.0217, m grad 0.0101, b grad -0.0498\n",
      "Epoch 531, coste 0.0217, m grad 0.0101, b grad -0.0495\n",
      "Epoch 532, coste 0.0217, m grad 0.01, b grad -0.0492\n",
      "Epoch 533, coste 0.0216, m grad 0.00995, b grad -0.0489\n",
      "Epoch 534, coste 0.0216, m grad 0.0099, b grad -0.0487\n",
      "Epoch 535, coste 0.0216, m grad 0.00984, b grad -0.0484\n",
      "Epoch 536, coste 0.0216, m grad 0.00978, b grad -0.0481\n",
      "Epoch 537, coste 0.0215, m grad 0.00973, b grad -0.0478\n",
      "Epoch 538, coste 0.0215, m grad 0.00967, b grad -0.0476\n",
      "Epoch 539, coste 0.0215, m grad 0.00961, b grad -0.0473\n",
      "Epoch 540, coste 0.0215, m grad 0.00956, b grad -0.047\n",
      "Epoch 541, coste 0.0214, m grad 0.0095, b grad -0.0467\n",
      "Epoch 542, coste 0.0214, m grad 0.00945, b grad -0.0465\n",
      "Epoch 543, coste 0.0214, m grad 0.00939, b grad -0.0462\n",
      "Epoch 544, coste 0.0214, m grad 0.00934, b grad -0.0459\n",
      "Epoch 545, coste 0.0213, m grad 0.00929, b grad -0.0457\n",
      "Epoch 546, coste 0.0213, m grad 0.00923, b grad -0.0454\n",
      "Epoch 547, coste 0.0213, m grad 0.00918, b grad -0.0451\n",
      "Epoch 548, coste 0.0213, m grad 0.00913, b grad -0.0449\n",
      "Epoch 549, coste 0.0213, m grad 0.00907, b grad -0.0446\n",
      "Epoch 550, coste 0.0212, m grad 0.00902, b grad -0.0444\n",
      "Epoch 551, coste 0.0212, m grad 0.00897, b grad -0.0441\n",
      "Epoch 552, coste 0.0212, m grad 0.00892, b grad -0.0439\n",
      "Epoch 553, coste 0.0212, m grad 0.00887, b grad -0.0436\n",
      "Epoch 554, coste 0.0212, m grad 0.00882, b grad -0.0433\n",
      "Epoch 555, coste 0.0211, m grad 0.00876, b grad -0.0431\n",
      "Epoch 556, coste 0.0211, m grad 0.00872, b grad -0.0429\n",
      "Epoch 557, coste 0.0211, m grad 0.00866, b grad -0.0426\n",
      "Epoch 558, coste 0.0211, m grad 0.00862, b grad -0.0424\n",
      "Epoch 559, coste 0.0211, m grad 0.00856, b grad -0.0421\n",
      "Epoch 560, coste 0.021, m grad 0.00851, b grad -0.0419\n",
      "Epoch 561, coste 0.021, m grad 0.00847, b grad -0.0416\n",
      "Epoch 562, coste 0.021, m grad 0.00842, b grad -0.0414\n",
      "Epoch 563, coste 0.021, m grad 0.00837, b grad -0.0412\n",
      "Epoch 564, coste 0.021, m grad 0.00832, b grad -0.0409\n",
      "Epoch 565, coste 0.021, m grad 0.00827, b grad -0.0407\n",
      "Epoch 566, coste 0.0209, m grad 0.00822, b grad -0.0404\n",
      "Epoch 567, coste 0.0209, m grad 0.00818, b grad -0.0402\n",
      "Epoch 568, coste 0.0209, m grad 0.00813, b grad -0.04\n",
      "Epoch 569, coste 0.0209, m grad 0.00808, b grad -0.0397\n",
      "Epoch 570, coste 0.0209, m grad 0.00804, b grad -0.0395\n",
      "Epoch 571, coste 0.0209, m grad 0.00799, b grad -0.0393\n",
      "Epoch 572, coste 0.0208, m grad 0.00794, b grad -0.0391\n",
      "Epoch 573, coste 0.0208, m grad 0.0079, b grad -0.0388\n",
      "Epoch 574, coste 0.0208, m grad 0.00785, b grad -0.0386\n",
      "Epoch 575, coste 0.0208, m grad 0.00781, b grad -0.0384\n",
      "Epoch 576, coste 0.0208, m grad 0.00776, b grad -0.0382\n",
      "Epoch 577, coste 0.0208, m grad 0.00772, b grad -0.038\n",
      "Epoch 578, coste 0.0208, m grad 0.00767, b grad -0.0377\n",
      "Epoch 579, coste 0.0207, m grad 0.00763, b grad -0.0375\n",
      "Epoch 580, coste 0.0207, m grad 0.00758, b grad -0.0373\n",
      "Epoch 581, coste 0.0207, m grad 0.00754, b grad -0.0371\n",
      "Epoch 582, coste 0.0207, m grad 0.0075, b grad -0.0369\n",
      "Epoch 583, coste 0.0207, m grad 0.00745, b grad -0.0367\n",
      "Epoch 584, coste 0.0207, m grad 0.00741, b grad -0.0364\n",
      "Epoch 585, coste 0.0207, m grad 0.00737, b grad -0.0362\n",
      "Epoch 586, coste 0.0206, m grad 0.00733, b grad -0.036\n",
      "Epoch 587, coste 0.0206, m grad 0.00728, b grad -0.0358\n",
      "Epoch 588, coste 0.0206, m grad 0.00724, b grad -0.0356\n",
      "Epoch 589, coste 0.0206, m grad 0.0072, b grad -0.0354\n",
      "Epoch 590, coste 0.0206, m grad 0.00716, b grad -0.0352\n",
      "Epoch 591, coste 0.0206, m grad 0.00712, b grad -0.035\n",
      "Epoch 592, coste 0.0206, m grad 0.00708, b grad -0.0348\n",
      "Epoch 593, coste 0.0205, m grad 0.00704, b grad -0.0346\n",
      "Epoch 594, coste 0.0205, m grad 0.00699, b grad -0.0344\n",
      "Epoch 595, coste 0.0205, m grad 0.00695, b grad -0.0342\n",
      "Epoch 596, coste 0.0205, m grad 0.00691, b grad -0.034\n",
      "Epoch 597, coste 0.0205, m grad 0.00687, b grad -0.0338\n",
      "Epoch 598, coste 0.0205, m grad 0.00684, b grad -0.0336\n",
      "Epoch 599, coste 0.0205, m grad 0.0068, b grad -0.0334\n",
      "Epoch 600, coste 0.0205, m grad 0.00676, b grad -0.0332\n",
      "Epoch 601, coste 0.0205, m grad 0.00672, b grad -0.033\n",
      "Epoch 602, coste 0.0204, m grad 0.00668, b grad -0.0328\n",
      "Epoch 603, coste 0.0204, m grad 0.00664, b grad -0.0327\n",
      "Epoch 604, coste 0.0204, m grad 0.0066, b grad -0.0325\n",
      "Epoch 605, coste 0.0204, m grad 0.00656, b grad -0.0323\n",
      "Epoch 606, coste 0.0204, m grad 0.00653, b grad -0.0321\n",
      "Epoch 607, coste 0.0204, m grad 0.00649, b grad -0.0319\n",
      "Epoch 608, coste 0.0204, m grad 0.00645, b grad -0.0317\n",
      "Epoch 609, coste 0.0204, m grad 0.00641, b grad -0.0315\n",
      "Epoch 610, coste 0.0204, m grad 0.00638, b grad -0.0314\n",
      "Epoch 611, coste 0.0203, m grad 0.00634, b grad -0.0312\n",
      "Epoch 612, coste 0.0203, m grad 0.0063, b grad -0.031\n",
      "Epoch 613, coste 0.0203, m grad 0.00627, b grad -0.0308\n",
      "Epoch 614, coste 0.0203, m grad 0.00623, b grad -0.0306\n",
      "Epoch 615, coste 0.0203, m grad 0.00619, b grad -0.0305\n",
      "Epoch 616, coste 0.0203, m grad 0.00616, b grad -0.0303\n",
      "Epoch 617, coste 0.0203, m grad 0.00612, b grad -0.0301\n",
      "Epoch 618, coste 0.0203, m grad 0.00609, b grad -0.0299\n",
      "Epoch 619, coste 0.0203, m grad 0.00605, b grad -0.0298\n",
      "Epoch 620, coste 0.0203, m grad 0.00602, b grad -0.0296\n",
      "Epoch 621, coste 0.0202, m grad 0.00598, b grad -0.0294\n",
      "Epoch 622, coste 0.0202, m grad 0.00595, b grad -0.0293\n",
      "Epoch 623, coste 0.0202, m grad 0.00592, b grad -0.0291\n",
      "Epoch 624, coste 0.0202, m grad 0.00588, b grad -0.0289\n",
      "Epoch 625, coste 0.0202, m grad 0.00585, b grad -0.0288\n",
      "Epoch 626, coste 0.0202, m grad 0.00581, b grad -0.0286\n",
      "Epoch 627, coste 0.0202, m grad 0.00578, b grad -0.0284\n",
      "Epoch 628, coste 0.0202, m grad 0.00575, b grad -0.0283\n",
      "Epoch 629, coste 0.0202, m grad 0.00571, b grad -0.0281\n",
      "Epoch 630, coste 0.0202, m grad 0.00568, b grad -0.0279\n",
      "Epoch 631, coste 0.0202, m grad 0.00565, b grad -0.0278\n",
      "Epoch 632, coste 0.0202, m grad 0.00562, b grad -0.0276\n",
      "Epoch 633, coste 0.0201, m grad 0.00558, b grad -0.0275\n",
      "Epoch 634, coste 0.0201, m grad 0.00555, b grad -0.0273\n",
      "Epoch 635, coste 0.0201, m grad 0.00552, b grad -0.0271\n",
      "Epoch 636, coste 0.0201, m grad 0.00549, b grad -0.027\n",
      "Epoch 637, coste 0.0201, m grad 0.00545, b grad -0.0268\n",
      "Epoch 638, coste 0.0201, m grad 0.00542, b grad -0.0267\n",
      "Epoch 639, coste 0.0201, m grad 0.00539, b grad -0.0265\n",
      "Epoch 640, coste 0.0201, m grad 0.00536, b grad -0.0264\n",
      "Epoch 641, coste 0.0201, m grad 0.00533, b grad -0.0262\n",
      "Epoch 642, coste 0.0201, m grad 0.0053, b grad -0.0261\n",
      "Epoch 643, coste 0.0201, m grad 0.00527, b grad -0.0259\n",
      "Epoch 644, coste 0.0201, m grad 0.00524, b grad -0.0258\n",
      "Epoch 645, coste 0.0201, m grad 0.00521, b grad -0.0256\n",
      "Epoch 646, coste 0.0201, m grad 0.00518, b grad -0.0255\n",
      "Epoch 647, coste 0.02, m grad 0.00515, b grad -0.0253\n",
      "Epoch 648, coste 0.02, m grad 0.00512, b grad -0.0252\n",
      "Epoch 649, coste 0.02, m grad 0.00509, b grad -0.025\n",
      "Epoch 650, coste 0.02, m grad 0.00506, b grad -0.0249\n",
      "Epoch 651, coste 0.02, m grad 0.00503, b grad -0.0247\n",
      "Epoch 652, coste 0.02, m grad 0.005, b grad -0.0246\n",
      "Epoch 653, coste 0.02, m grad 0.00497, b grad -0.0245\n",
      "Epoch 654, coste 0.02, m grad 0.00495, b grad -0.0243\n",
      "Epoch 655, coste 0.02, m grad 0.00492, b grad -0.0242\n",
      "Epoch 656, coste 0.02, m grad 0.00489, b grad -0.024\n",
      "Epoch 657, coste 0.02, m grad 0.00486, b grad -0.0239\n",
      "Epoch 658, coste 0.02, m grad 0.00483, b grad -0.0238\n",
      "Epoch 659, coste 0.02, m grad 0.0048, b grad -0.0236\n",
      "Epoch 660, coste 0.02, m grad 0.00478, b grad -0.0235\n",
      "Epoch 661, coste 0.02, m grad 0.00475, b grad -0.0234\n",
      "Epoch 662, coste 0.02, m grad 0.00472, b grad -0.0232\n",
      "Epoch 663, coste 0.0199, m grad 0.00469, b grad -0.0231\n",
      "Epoch 664, coste 0.0199, m grad 0.00467, b grad -0.0229\n",
      "Epoch 665, coste 0.0199, m grad 0.00464, b grad -0.0228\n",
      "Epoch 666, coste 0.0199, m grad 0.00461, b grad -0.0227\n",
      "Epoch 667, coste 0.0199, m grad 0.00459, b grad -0.0226\n",
      "Epoch 668, coste 0.0199, m grad 0.00456, b grad -0.0224\n",
      "Epoch 669, coste 0.0199, m grad 0.00453, b grad -0.0223\n",
      "Epoch 670, coste 0.0199, m grad 0.00451, b grad -0.0222\n",
      "Epoch 671, coste 0.0199, m grad 0.00448, b grad -0.022\n",
      "Epoch 672, coste 0.0199, m grad 0.00445, b grad -0.0219\n",
      "Epoch 673, coste 0.0199, m grad 0.00443, b grad -0.0218\n",
      "Epoch 674, coste 0.0199, m grad 0.00441, b grad -0.0217\n",
      "Epoch 675, coste 0.0199, m grad 0.00438, b grad -0.0215\n",
      "Epoch 676, coste 0.0199, m grad 0.00435, b grad -0.0214\n",
      "Epoch 677, coste 0.0199, m grad 0.00433, b grad -0.0213\n",
      "Epoch 678, coste 0.0199, m grad 0.0043, b grad -0.0212\n",
      "Epoch 679, coste 0.0199, m grad 0.00428, b grad -0.021\n",
      "Epoch 680, coste 0.0199, m grad 0.00425, b grad -0.0209\n",
      "Epoch 681, coste 0.0199, m grad 0.00423, b grad -0.0208\n",
      "Epoch 682, coste 0.0199, m grad 0.00421, b grad -0.0207\n",
      "Epoch 683, coste 0.0198, m grad 0.00418, b grad -0.0206\n",
      "Epoch 684, coste 0.0198, m grad 0.00416, b grad -0.0204\n",
      "Epoch 685, coste 0.0198, m grad 0.00413, b grad -0.0203\n",
      "Epoch 686, coste 0.0198, m grad 0.00411, b grad -0.0202\n",
      "Epoch 687, coste 0.0198, m grad 0.00409, b grad -0.0201\n",
      "Epoch 688, coste 0.0198, m grad 0.00406, b grad -0.02\n",
      "Epoch 689, coste 0.0198, m grad 0.00404, b grad -0.0199\n",
      "Epoch 690, coste 0.0198, m grad 0.00402, b grad -0.0197\n",
      "Epoch 691, coste 0.0198, m grad 0.00399, b grad -0.0196\n",
      "Epoch 692, coste 0.0198, m grad 0.00397, b grad -0.0195\n",
      "Epoch 693, coste 0.0198, m grad 0.00395, b grad -0.0194\n",
      "Epoch 694, coste 0.0198, m grad 0.00392, b grad -0.0193\n",
      "Epoch 695, coste 0.0198, m grad 0.0039, b grad -0.0192\n",
      "Epoch 696, coste 0.0198, m grad 0.00388, b grad -0.0191\n",
      "Epoch 697, coste 0.0198, m grad 0.00386, b grad -0.019\n",
      "Epoch 698, coste 0.0198, m grad 0.00383, b grad -0.0189\n",
      "Epoch 699, coste 0.0198, m grad 0.00381, b grad -0.0187\n",
      "Epoch 700, coste 0.0198, m grad 0.00379, b grad -0.0186\n",
      "Epoch 701, coste 0.0198, m grad 0.00377, b grad -0.0185\n",
      "Epoch 702, coste 0.0198, m grad 0.00375, b grad -0.0184\n",
      "Epoch 703, coste 0.0198, m grad 0.00372, b grad -0.0183\n",
      "Epoch 704, coste 0.0198, m grad 0.0037, b grad -0.0182\n",
      "Epoch 705, coste 0.0198, m grad 0.00368, b grad -0.0181\n",
      "Epoch 706, coste 0.0198, m grad 0.00366, b grad -0.018\n",
      "Epoch 707, coste 0.0198, m grad 0.00364, b grad -0.0179\n",
      "Epoch 708, coste 0.0198, m grad 0.00362, b grad -0.0178\n",
      "Epoch 709, coste 0.0197, m grad 0.0036, b grad -0.0177\n",
      "Epoch 710, coste 0.0197, m grad 0.00358, b grad -0.0176\n",
      "Epoch 711, coste 0.0197, m grad 0.00356, b grad -0.0175\n",
      "Epoch 712, coste 0.0197, m grad 0.00354, b grad -0.0174\n",
      "Epoch 713, coste 0.0197, m grad 0.00352, b grad -0.0173\n",
      "Epoch 714, coste 0.0197, m grad 0.00349, b grad -0.0172\n",
      "Epoch 715, coste 0.0197, m grad 0.00347, b grad -0.0171\n",
      "Epoch 716, coste 0.0197, m grad 0.00345, b grad -0.017\n",
      "Epoch 717, coste 0.0197, m grad 0.00343, b grad -0.0169\n",
      "Epoch 718, coste 0.0197, m grad 0.00341, b grad -0.0168\n",
      "Epoch 719, coste 0.0197, m grad 0.0034, b grad -0.0167\n",
      "Epoch 720, coste 0.0197, m grad 0.00338, b grad -0.0166\n",
      "Epoch 721, coste 0.0197, m grad 0.00336, b grad -0.0165\n",
      "Epoch 722, coste 0.0197, m grad 0.00334, b grad -0.0164\n",
      "Epoch 723, coste 0.0197, m grad 0.00332, b grad -0.0163\n",
      "Epoch 724, coste 0.0197, m grad 0.0033, b grad -0.0162\n",
      "Epoch 725, coste 0.0197, m grad 0.00328, b grad -0.0161\n",
      "Epoch 726, coste 0.0197, m grad 0.00326, b grad -0.016\n",
      "Epoch 727, coste 0.0197, m grad 0.00324, b grad -0.0159\n",
      "Epoch 728, coste 0.0197, m grad 0.00322, b grad -0.0159\n",
      "Epoch 729, coste 0.0197, m grad 0.00321, b grad -0.0158\n",
      "Epoch 730, coste 0.0197, m grad 0.00319, b grad -0.0157\n",
      "Epoch 731, coste 0.0197, m grad 0.00317, b grad -0.0156\n",
      "Epoch 732, coste 0.0197, m grad 0.00315, b grad -0.0155\n",
      "Epoch 733, coste 0.0197, m grad 0.00313, b grad -0.0154\n",
      "Epoch 734, coste 0.0197, m grad 0.00311, b grad -0.0153\n",
      "Epoch 735, coste 0.0197, m grad 0.0031, b grad -0.0152\n",
      "Epoch 736, coste 0.0197, m grad 0.00308, b grad -0.0151\n",
      "Epoch 737, coste 0.0197, m grad 0.00306, b grad -0.015\n",
      "Epoch 738, coste 0.0197, m grad 0.00304, b grad -0.015\n",
      "Epoch 739, coste 0.0197, m grad 0.00302, b grad -0.0149\n",
      "Epoch 740, coste 0.0197, m grad 0.00301, b grad -0.0148\n",
      "Epoch 741, coste 0.0197, m grad 0.00299, b grad -0.0147\n",
      "Epoch 742, coste 0.0197, m grad 0.00297, b grad -0.0146\n",
      "Epoch 743, coste 0.0197, m grad 0.00296, b grad -0.0145\n",
      "Epoch 744, coste 0.0197, m grad 0.00294, b grad -0.0145\n",
      "Epoch 745, coste 0.0197, m grad 0.00292, b grad -0.0144\n",
      "Epoch 746, coste 0.0197, m grad 0.0029, b grad -0.0143\n",
      "Epoch 747, coste 0.0196, m grad 0.00289, b grad -0.0142\n",
      "Epoch 748, coste 0.0196, m grad 0.00287, b grad -0.0141\n",
      "Epoch 749, coste 0.0196, m grad 0.00285, b grad -0.014\n",
      "Epoch 750, coste 0.0196, m grad 0.00284, b grad -0.014\n",
      "Epoch 751, coste 0.0196, m grad 0.00282, b grad -0.0139\n",
      "Epoch 752, coste 0.0196, m grad 0.00281, b grad -0.0138\n",
      "Epoch 753, coste 0.0196, m grad 0.00279, b grad -0.0137\n",
      "Epoch 754, coste 0.0196, m grad 0.00277, b grad -0.0136\n",
      "Epoch 755, coste 0.0196, m grad 0.00276, b grad -0.0136\n",
      "Epoch 756, coste 0.0196, m grad 0.00274, b grad -0.0135\n",
      "Epoch 757, coste 0.0196, m grad 0.00273, b grad -0.0134\n",
      "Epoch 758, coste 0.0196, m grad 0.00271, b grad -0.0133\n",
      "Epoch 759, coste 0.0196, m grad 0.00269, b grad -0.0132\n",
      "Epoch 760, coste 0.0196, m grad 0.00268, b grad -0.0132\n",
      "Epoch 761, coste 0.0196, m grad 0.00266, b grad -0.0131\n",
      "Epoch 762, coste 0.0196, m grad 0.00265, b grad -0.013\n",
      "Epoch 763, coste 0.0196, m grad 0.00263, b grad -0.0129\n",
      "Epoch 764, coste 0.0196, m grad 0.00262, b grad -0.0129\n",
      "Epoch 765, coste 0.0196, m grad 0.0026, b grad -0.0128\n",
      "Epoch 766, coste 0.0196, m grad 0.00259, b grad -0.0127\n",
      "Epoch 767, coste 0.0196, m grad 0.00257, b grad -0.0127\n",
      "Epoch 768, coste 0.0196, m grad 0.00256, b grad -0.0126\n",
      "Epoch 769, coste 0.0196, m grad 0.00254, b grad -0.0125\n",
      "Epoch 770, coste 0.0196, m grad 0.00253, b grad -0.0124\n",
      "Epoch 771, coste 0.0196, m grad 0.00251, b grad -0.0124\n",
      "Epoch 772, coste 0.0196, m grad 0.0025, b grad -0.0123\n",
      "Epoch 773, coste 0.0196, m grad 0.00248, b grad -0.0122\n",
      "Epoch 774, coste 0.0196, m grad 0.00247, b grad -0.0121\n",
      "Epoch 775, coste 0.0196, m grad 0.00246, b grad -0.0121\n",
      "Epoch 776, coste 0.0196, m grad 0.00244, b grad -0.012\n",
      "Epoch 777, coste 0.0196, m grad 0.00243, b grad -0.0119\n",
      "Epoch 778, coste 0.0196, m grad 0.00241, b grad -0.0119\n",
      "Epoch 779, coste 0.0196, m grad 0.0024, b grad -0.0118\n",
      "Epoch 780, coste 0.0196, m grad 0.00239, b grad -0.0117\n",
      "Epoch 781, coste 0.0196, m grad 0.00237, b grad -0.0117\n",
      "Epoch 782, coste 0.0196, m grad 0.00236, b grad -0.0116\n",
      "Epoch 783, coste 0.0196, m grad 0.00235, b grad -0.0115\n",
      "Epoch 784, coste 0.0196, m grad 0.00233, b grad -0.0115\n",
      "Epoch 785, coste 0.0196, m grad 0.00232, b grad -0.0114\n",
      "Epoch 786, coste 0.0196, m grad 0.0023, b grad -0.0113\n",
      "Epoch 787, coste 0.0196, m grad 0.00229, b grad -0.0113\n",
      "Epoch 788, coste 0.0196, m grad 0.00228, b grad -0.0112\n",
      "Epoch 789, coste 0.0196, m grad 0.00227, b grad -0.0111\n",
      "Epoch 790, coste 0.0196, m grad 0.00225, b grad -0.0111\n",
      "Epoch 791, coste 0.0196, m grad 0.00224, b grad -0.011\n",
      "Epoch 792, coste 0.0196, m grad 0.00223, b grad -0.0109\n",
      "Epoch 793, coste 0.0196, m grad 0.00221, b grad -0.0109\n",
      "Epoch 794, coste 0.0196, m grad 0.0022, b grad -0.0108\n",
      "Epoch 795, coste 0.0196, m grad 0.00219, b grad -0.0108\n",
      "Epoch 796, coste 0.0196, m grad 0.00218, b grad -0.0107\n",
      "Epoch 797, coste 0.0196, m grad 0.00216, b grad -0.0106\n",
      "Epoch 798, coste 0.0196, m grad 0.00215, b grad -0.0106\n",
      "Epoch 799, coste 0.0196, m grad 0.00214, b grad -0.0105\n",
      "Epoch 800, coste 0.0196, m grad 0.00213, b grad -0.0105\n",
      "Epoch 801, coste 0.0196, m grad 0.00211, b grad -0.0104\n",
      "Epoch 802, coste 0.0196, m grad 0.0021, b grad -0.0103\n",
      "Epoch 803, coste 0.0196, m grad 0.00209, b grad -0.0103\n",
      "Epoch 804, coste 0.0196, m grad 0.00208, b grad -0.0102\n",
      "Epoch 805, coste 0.0196, m grad 0.00207, b grad -0.0102\n",
      "Epoch 806, coste 0.0196, m grad 0.00205, b grad -0.0101\n",
      "Epoch 807, coste 0.0196, m grad 0.00204, b grad -0.01\n",
      "Epoch 808, coste 0.0196, m grad 0.00203, b grad -0.00998\n",
      "Epoch 809, coste 0.0196, m grad 0.00202, b grad -0.00992\n",
      "Epoch 810, coste 0.0196, m grad 0.00201, b grad -0.00987\n",
      "Epoch 811, coste 0.0196, m grad 0.002, b grad -0.00981\n",
      "Epoch 812, coste 0.0196, m grad 0.00198, b grad -0.00975\n",
      "Epoch 813, coste 0.0196, m grad 0.00197, b grad -0.0097\n",
      "Epoch 814, coste 0.0195, m grad 0.00196, b grad -0.00964\n",
      "Epoch 815, coste 0.0195, m grad 0.00195, b grad -0.00958\n",
      "Epoch 816, coste 0.0195, m grad 0.00194, b grad -0.00953\n",
      "Epoch 817, coste 0.0195, m grad 0.00193, b grad -0.00947\n",
      "Epoch 818, coste 0.0195, m grad 0.00192, b grad -0.00942\n",
      "Epoch 819, coste 0.0195, m grad 0.0019, b grad -0.00937\n",
      "Epoch 820, coste 0.0195, m grad 0.00189, b grad -0.00931\n",
      "Epoch 821, coste 0.0195, m grad 0.00188, b grad -0.00926\n",
      "Epoch 822, coste 0.0195, m grad 0.00187, b grad -0.0092\n",
      "Epoch 823, coste 0.0195, m grad 0.00186, b grad -0.00915\n",
      "Epoch 824, coste 0.0195, m grad 0.00185, b grad -0.0091\n",
      "Epoch 825, coste 0.0195, m grad 0.00184, b grad -0.00905\n",
      "Epoch 826, coste 0.0195, m grad 0.00183, b grad -0.00899\n",
      "Epoch 827, coste 0.0195, m grad 0.00182, b grad -0.00894\n",
      "Epoch 828, coste 0.0195, m grad 0.00181, b grad -0.00889\n",
      "Epoch 829, coste 0.0195, m grad 0.0018, b grad -0.00884\n",
      "Epoch 830, coste 0.0195, m grad 0.00179, b grad -0.00879\n",
      "Epoch 831, coste 0.0195, m grad 0.00178, b grad -0.00874\n",
      "Epoch 832, coste 0.0195, m grad 0.00177, b grad -0.00869\n",
      "Epoch 833, coste 0.0195, m grad 0.00176, b grad -0.00864\n",
      "Epoch 834, coste 0.0195, m grad 0.00175, b grad -0.00859\n",
      "Epoch 835, coste 0.0195, m grad 0.00174, b grad -0.00854\n",
      "Epoch 836, coste 0.0195, m grad 0.00173, b grad -0.00849\n",
      "Epoch 837, coste 0.0195, m grad 0.00172, b grad -0.00844\n",
      "Epoch 838, coste 0.0195, m grad 0.00171, b grad -0.00839\n",
      "Epoch 839, coste 0.0195, m grad 0.0017, b grad -0.00834\n",
      "Epoch 840, coste 0.0195, m grad 0.00169, b grad -0.00829\n",
      "Epoch 841, coste 0.0195, m grad 0.00168, b grad -0.00825\n",
      "Epoch 842, coste 0.0195, m grad 0.00167, b grad -0.0082\n",
      "Epoch 843, coste 0.0195, m grad 0.00166, b grad -0.00815\n",
      "Epoch 844, coste 0.0195, m grad 0.00165, b grad -0.0081\n",
      "Epoch 845, coste 0.0195, m grad 0.00164, b grad -0.00806\n",
      "Epoch 846, coste 0.0195, m grad 0.00163, b grad -0.00801\n",
      "Epoch 847, coste 0.0195, m grad 0.00162, b grad -0.00797\n",
      "Epoch 848, coste 0.0195, m grad 0.00161, b grad -0.00792\n",
      "Epoch 849, coste 0.0195, m grad 0.0016, b grad -0.00787\n",
      "Epoch 850, coste 0.0195, m grad 0.00159, b grad -0.00783\n",
      "Epoch 851, coste 0.0195, m grad 0.00158, b grad -0.00778\n",
      "Epoch 852, coste 0.0195, m grad 0.00157, b grad -0.00774\n",
      "Epoch 853, coste 0.0195, m grad 0.00157, b grad -0.00769\n",
      "Epoch 854, coste 0.0195, m grad 0.00156, b grad -0.00765\n",
      "Epoch 855, coste 0.0195, m grad 0.00155, b grad -0.00761\n",
      "Epoch 856, coste 0.0195, m grad 0.00154, b grad -0.00756\n",
      "Epoch 857, coste 0.0195, m grad 0.00153, b grad -0.00752\n",
      "Epoch 858, coste 0.0195, m grad 0.00152, b grad -0.00747\n",
      "Epoch 859, coste 0.0195, m grad 0.00151, b grad -0.00743\n",
      "Epoch 860, coste 0.0195, m grad 0.0015, b grad -0.00739\n",
      "Epoch 861, coste 0.0195, m grad 0.00149, b grad -0.00735\n",
      "Epoch 862, coste 0.0195, m grad 0.00149, b grad -0.0073\n",
      "Epoch 863, coste 0.0195, m grad 0.00148, b grad -0.00726\n",
      "Epoch 864, coste 0.0195, m grad 0.00147, b grad -0.00722\n",
      "Epoch 865, coste 0.0195, m grad 0.00146, b grad -0.00718\n",
      "Epoch 866, coste 0.0195, m grad 0.00145, b grad -0.00714\n",
      "Epoch 867, coste 0.0195, m grad 0.00144, b grad -0.0071\n",
      "Epoch 868, coste 0.0195, m grad 0.00143, b grad -0.00705\n",
      "Epoch 869, coste 0.0195, m grad 0.00143, b grad -0.00701\n",
      "Epoch 870, coste 0.0195, m grad 0.00142, b grad -0.00697\n",
      "Epoch 871, coste 0.0195, m grad 0.00141, b grad -0.00693\n",
      "Epoch 872, coste 0.0195, m grad 0.0014, b grad -0.00689\n",
      "Epoch 873, coste 0.0195, m grad 0.00139, b grad -0.00685\n",
      "Epoch 874, coste 0.0195, m grad 0.00138, b grad -0.00681\n",
      "Epoch 875, coste 0.0195, m grad 0.00138, b grad -0.00678\n",
      "Epoch 876, coste 0.0195, m grad 0.00137, b grad -0.00674\n",
      "Epoch 877, coste 0.0195, m grad 0.00136, b grad -0.0067\n",
      "Epoch 878, coste 0.0195, m grad 0.00135, b grad -0.00666\n",
      "Epoch 879, coste 0.0195, m grad 0.00135, b grad -0.00662\n",
      "Epoch 880, coste 0.0195, m grad 0.00134, b grad -0.00658\n",
      "Epoch 881, coste 0.0195, m grad 0.00133, b grad -0.00654\n",
      "Epoch 882, coste 0.0195, m grad 0.00132, b grad -0.00651\n",
      "Epoch 883, coste 0.0195, m grad 0.00132, b grad -0.00647\n",
      "Epoch 884, coste 0.0195, m grad 0.00131, b grad -0.00643\n",
      "Epoch 885, coste 0.0195, m grad 0.0013, b grad -0.00639\n",
      "Epoch 886, coste 0.0195, m grad 0.00129, b grad -0.00636\n",
      "Epoch 887, coste 0.0195, m grad 0.00128, b grad -0.00632\n",
      "Epoch 888, coste 0.0195, m grad 0.00128, b grad -0.00628\n",
      "Epoch 889, coste 0.0195, m grad 0.00127, b grad -0.00625\n",
      "Epoch 890, coste 0.0195, m grad 0.00126, b grad -0.00621\n",
      "Epoch 891, coste 0.0195, m grad 0.00126, b grad -0.00618\n",
      "Epoch 892, coste 0.0195, m grad 0.00125, b grad -0.00614\n",
      "Epoch 893, coste 0.0195, m grad 0.00124, b grad -0.00611\n",
      "Epoch 894, coste 0.0195, m grad 0.00123, b grad -0.00607\n",
      "Epoch 895, coste 0.0195, m grad 0.00123, b grad -0.00604\n",
      "Epoch 896, coste 0.0195, m grad 0.00122, b grad -0.006\n",
      "Epoch 897, coste 0.0195, m grad 0.00121, b grad -0.00597\n",
      "Epoch 898, coste 0.0195, m grad 0.00121, b grad -0.00593\n",
      "Epoch 899, coste 0.0195, m grad 0.0012, b grad -0.0059\n",
      "Epoch 900, coste 0.0195, m grad 0.00119, b grad -0.00586\n",
      "Epoch 901, coste 0.0195, m grad 0.00119, b grad -0.00583\n",
      "Epoch 902, coste 0.0195, m grad 0.00118, b grad -0.0058\n",
      "Epoch 903, coste 0.0195, m grad 0.00117, b grad -0.00576\n",
      "Epoch 904, coste 0.0195, m grad 0.00116, b grad -0.00573\n",
      "Epoch 905, coste 0.0195, m grad 0.00116, b grad -0.0057\n",
      "Epoch 906, coste 0.0195, m grad 0.00115, b grad -0.00566\n",
      "Epoch 907, coste 0.0195, m grad 0.00114, b grad -0.00563\n",
      "Epoch 908, coste 0.0195, m grad 0.00114, b grad -0.0056\n",
      "Epoch 909, coste 0.0195, m grad 0.00113, b grad -0.00557\n",
      "Epoch 910, coste 0.0195, m grad 0.00113, b grad -0.00553\n",
      "Epoch 911, coste 0.0195, m grad 0.00112, b grad -0.0055\n",
      "Epoch 912, coste 0.0195, m grad 0.00111, b grad -0.00547\n",
      "Epoch 913, coste 0.0195, m grad 0.00111, b grad -0.00544\n",
      "Epoch 914, coste 0.0195, m grad 0.0011, b grad -0.00541\n",
      "Epoch 915, coste 0.0195, m grad 0.00109, b grad -0.00538\n",
      "Epoch 916, coste 0.0195, m grad 0.00109, b grad -0.00535\n",
      "Epoch 917, coste 0.0195, m grad 0.00108, b grad -0.00531\n",
      "Epoch 918, coste 0.0195, m grad 0.00107, b grad -0.00528\n",
      "Epoch 919, coste 0.0195, m grad 0.00107, b grad -0.00525\n",
      "Epoch 920, coste 0.0195, m grad 0.00106, b grad -0.00522\n",
      "Epoch 921, coste 0.0195, m grad 0.00106, b grad -0.00519\n",
      "Epoch 922, coste 0.0195, m grad 0.00105, b grad -0.00516\n",
      "Epoch 923, coste 0.0195, m grad 0.00104, b grad -0.00513\n",
      "Epoch 924, coste 0.0195, m grad 0.00104, b grad -0.0051\n",
      "Epoch 925, coste 0.0195, m grad 0.00103, b grad -0.00507\n",
      "Epoch 926, coste 0.0195, m grad 0.00103, b grad -0.00504\n",
      "Epoch 927, coste 0.0195, m grad 0.00102, b grad -0.00502\n",
      "Epoch 928, coste 0.0195, m grad 0.00101, b grad -0.00499\n",
      "Epoch 929, coste 0.0195, m grad 0.00101, b grad -0.00496\n",
      "Epoch 930, coste 0.0195, m grad 0.001, b grad -0.00493\n",
      "Epoch 931, coste 0.0195, m grad 0.000997, b grad -0.0049\n",
      "Epoch 932, coste 0.0195, m grad 0.000991, b grad -0.00487\n",
      "Epoch 933, coste 0.0195, m grad 0.000986, b grad -0.00484\n",
      "Epoch 934, coste 0.0195, m grad 0.000979, b grad -0.00482\n",
      "Epoch 935, coste 0.0195, m grad 0.000973, b grad -0.00479\n",
      "Epoch 936, coste 0.0195, m grad 0.000968, b grad -0.00476\n",
      "Epoch 937, coste 0.0195, m grad 0.000962, b grad -0.00473\n",
      "Epoch 938, coste 0.0195, m grad 0.000956, b grad -0.00471\n",
      "Epoch 939, coste 0.0195, m grad 0.000951, b grad -0.00468\n",
      "Epoch 940, coste 0.0195, m grad 0.000946, b grad -0.00465\n",
      "Epoch 941, coste 0.0195, m grad 0.000941, b grad -0.00463\n",
      "Epoch 942, coste 0.0195, m grad 0.000935, b grad -0.0046\n",
      "Epoch 943, coste 0.0195, m grad 0.00093, b grad -0.00457\n",
      "Epoch 944, coste 0.0195, m grad 0.000925, b grad -0.00455\n",
      "Epoch 945, coste 0.0195, m grad 0.000919, b grad -0.00452\n",
      "Epoch 946, coste 0.0195, m grad 0.000914, b grad -0.00449\n",
      "Epoch 947, coste 0.0195, m grad 0.000908, b grad -0.00447\n",
      "Epoch 948, coste 0.0195, m grad 0.000903, b grad -0.00444\n",
      "Epoch 949, coste 0.0195, m grad 0.000898, b grad -0.00442\n",
      "Epoch 950, coste 0.0195, m grad 0.000893, b grad -0.00439\n",
      "Epoch 951, coste 0.0195, m grad 0.000887, b grad -0.00437\n",
      "Epoch 952, coste 0.0195, m grad 0.000882, b grad -0.00434\n",
      "Epoch 953, coste 0.0195, m grad 0.000877, b grad -0.00432\n",
      "Epoch 954, coste 0.0195, m grad 0.000872, b grad -0.00429\n",
      "Epoch 955, coste 0.0195, m grad 0.000867, b grad -0.00427\n",
      "Epoch 956, coste 0.0195, m grad 0.000862, b grad -0.00424\n",
      "Epoch 957, coste 0.0195, m grad 0.000858, b grad -0.00422\n",
      "Epoch 958, coste 0.0195, m grad 0.000853, b grad -0.00419\n",
      "Epoch 959, coste 0.0195, m grad 0.000848, b grad -0.00417\n",
      "Epoch 960, coste 0.0195, m grad 0.000843, b grad -0.00414\n",
      "Epoch 961, coste 0.0195, m grad 0.000838, b grad -0.00412\n",
      "Epoch 962, coste 0.0195, m grad 0.000834, b grad -0.0041\n",
      "Epoch 963, coste 0.0195, m grad 0.000829, b grad -0.00407\n",
      "Epoch 964, coste 0.0195, m grad 0.000824, b grad -0.00405\n",
      "Epoch 965, coste 0.0195, m grad 0.000819, b grad -0.00403\n",
      "Epoch 966, coste 0.0195, m grad 0.000814, b grad -0.004\n",
      "Epoch 967, coste 0.0195, m grad 0.00081, b grad -0.00398\n",
      "Epoch 968, coste 0.0195, m grad 0.000805, b grad -0.00396\n",
      "Epoch 969, coste 0.0195, m grad 0.0008, b grad -0.00393\n",
      "Epoch 970, coste 0.0195, m grad 0.000796, b grad -0.00391\n",
      "Epoch 971, coste 0.0195, m grad 0.000791, b grad -0.00389\n",
      "Epoch 972, coste 0.0195, m grad 0.000786, b grad -0.00387\n",
      "Epoch 973, coste 0.0195, m grad 0.000781, b grad -0.00384\n",
      "Epoch 974, coste 0.0195, m grad 0.000776, b grad -0.00382\n",
      "Epoch 975, coste 0.0195, m grad 0.000772, b grad -0.0038\n",
      "Epoch 976, coste 0.0195, m grad 0.000768, b grad -0.00378\n",
      "Epoch 977, coste 0.0195, m grad 0.000763, b grad -0.00376\n",
      "Epoch 978, coste 0.0195, m grad 0.000759, b grad -0.00373\n",
      "Epoch 979, coste 0.0195, m grad 0.000754, b grad -0.00371\n",
      "Epoch 980, coste 0.0195, m grad 0.00075, b grad -0.00369\n",
      "Epoch 981, coste 0.0195, m grad 0.000746, b grad -0.00367\n",
      "Epoch 982, coste 0.0195, m grad 0.000742, b grad -0.00365\n",
      "Epoch 983, coste 0.0195, m grad 0.000738, b grad -0.00363\n",
      "Epoch 984, coste 0.0195, m grad 0.000733, b grad -0.00361\n",
      "Epoch 985, coste 0.0195, m grad 0.000729, b grad -0.00359\n",
      "Epoch 986, coste 0.0195, m grad 0.000725, b grad -0.00357\n",
      "Epoch 987, coste 0.0195, m grad 0.000721, b grad -0.00355\n",
      "Epoch 988, coste 0.0195, m grad 0.000716, b grad -0.00352\n",
      "Epoch 989, coste 0.0195, m grad 0.000713, b grad -0.0035\n",
      "Epoch 990, coste 0.0195, m grad 0.000709, b grad -0.00348\n",
      "Epoch 991, coste 0.0195, m grad 0.000704, b grad -0.00346\n",
      "Epoch 992, coste 0.0195, m grad 0.000701, b grad -0.00344\n",
      "Epoch 993, coste 0.0195, m grad 0.000697, b grad -0.00342\n",
      "Epoch 994, coste 0.0195, m grad 0.000692, b grad -0.0034\n",
      "Epoch 995, coste 0.0195, m grad 0.000689, b grad -0.00338\n",
      "Epoch 996, coste 0.0195, m grad 0.000685, b grad -0.00337\n",
      "Epoch 997, coste 0.0195, m grad 0.00068, b grad -0.00335\n",
      "Epoch 998, coste 0.0195, m grad 0.000677, b grad -0.00333\n",
      "Epoch 999, coste 0.0195, m grad 0.000673, b grad -0.00331\n"
     ]
    }
   ],
   "source": [
    "\n",
    "epochs = 1000\n",
    "for epoch in range(epochs):\n",
    "\n",
    "    optimizer.zero_grad() # Reinicial gradiente a zero; si no, se acumularía\n",
    "\n",
    "    yhat = regression(x, m, b) # Paso 1\n",
    "    C = mse(yhat, y) # Paso 2\n",
    "\n",
    "    C.backward() # Paso 3\n",
    "    optimizer.step() # Paso 4\n",
    "\n",
    "    print('Epoch {}, coste {}, m grad {}, b grad {}'.format(epoch, '%.3g' % C.item(), '%.3g' % m.grad.item(), '%.3g' % b.grad.item()))"
   ]
  },
  {
   "cell_type": "code",
   "execution_count": 41,
   "id": "e9d5d592-323c-47f1-8a6d-b64cda5a5d6a",
   "metadata": {},
   "outputs": [
    {
     "data": {
      "text/plain": [
       "tensor([ 1.8600,  1.3100,  0.6200,  0.3300,  0.0900, -0.6700, -1.2300, -1.3700])"
      ]
     },
     "execution_count": 41,
     "metadata": {},
     "output_type": "execute_result"
    }
   ],
   "source": [
    "y"
   ]
  },
  {
   "cell_type": "code",
   "execution_count": 42,
   "id": "e01959e8-165d-4f07-8b72-f750fa9382b4",
   "metadata": {},
   "outputs": [
    {
     "data": {
      "text/plain": [
       "tensor([0., 1., 2., 3., 4., 5., 6., 7.])"
      ]
     },
     "execution_count": 42,
     "metadata": {},
     "output_type": "execute_result"
    }
   ],
   "source": [
    "x"
   ]
  },
  {
   "cell_type": "code",
   "execution_count": 34,
   "id": "d0c5b370-1ec4-441e-84b2-5f118a740695",
   "metadata": {},
   "outputs": [
    {
     "data": {
      "image/png": "[encoded data removed]",
      "text/plain": [
       "<Figure size 640x480 with 1 Axes>"
      ]
     },
     "metadata": {},
     "output_type": "display_data"
    }
   ],
   "source": [
    "regression_plot(x, y, m, b)"
   ]
  },
  {
   "cell_type": "code",
   "execution_count": 35,
   "id": "fd850f37-7afb-4061-861a-f2580c6a2f4e",
   "metadata": {},
   "outputs": [
    {
     "data": {
      "text/plain": [
       "-0.4681258499622345"
      ]
     },
     "execution_count": 35,
     "metadata": {},
     "output_type": "execute_result"
    }
   ],
   "source": [
    "m.item()"
   ]
  },
  {
   "cell_type": "code",
   "execution_count": 36,
   "id": "7ab73332-8555-4b64-88ef-d9b8bbc27b2b",
   "metadata": {},
   "outputs": [
    {
     "data": {
      "text/plain": [
       "1.7542961835861206"
      ]
     },
     "execution_count": 36,
     "metadata": {},
     "output_type": "execute_result"
    }
   ],
   "source": [
    "b.item()"
   ]
  },
  {
   "cell_type": "code",
   "execution_count": 44,
   "id": "4bd84207-4c85-4f7a-9b3f-f23a207a8be2",
   "metadata": {},
   "outputs": [],
   "source": [
    "def regression_plotText(my_x, my_y, my_m, my_b):\n",
    "\n",
    "    fig, ax = plt.subplots()\n",
    "\n",
    "    ax.scatter(my_x, my_y)\n",
    "\n",
    "    x_min, x_max = ax.get_xlim()\n",
    "    y_min = regression(x_min, my_m, my_b).detach().item()\n",
    "    y_max = regression(x_max, my_m, my_b).detach().item()\n",
    "\n",
    "    print(x_min)\n",
    "    print(x_max)\n",
    "    print(y_min)\n",
    "    print(y_max)\n",
    "\n",
    "    ax.set_xlim([x_min, x_max])\n",
    "    _ = ax.plot([x_min, x_max], [y_min, y_max])"
   ]
  },
  {
   "cell_type": "code",
   "execution_count": 45,
   "id": "295ef06d-086f-43af-810f-ab0b9855e1c8",
   "metadata": {},
   "outputs": [
    {
     "name": "stdout",
     "output_type": "stream",
     "text": [
      "-0.35000000000000003\n",
      "7.35\n",
      "1.918140172958374\n",
      "-1.6864286661148071\n"
     ]
    },
    {
     "data": {
      "image/png": "[encoded data removed]",
      "text/plain": [
       "<Figure size 640x480 with 1 Axes>"
      ]
     },
     "metadata": {},
     "output_type": "display_data"
    }
   ],
   "source": [
    "regression_plotText(x, y, m, b)"
   ]
  },
  {
   "cell_type": "code",
   "execution_count": null,
   "id": "35a9a710-dba6-46d2-942b-1155f7dcf202",
   "metadata": {},
   "outputs": [],
   "source": []
  }
 ],
 "metadata": {
  "kernelspec": {
   "display_name": "Python 3 (ipykernel)",
   "language": "python",
   "name": "python3"
  },
  "language_info": {
   "codemirror_mode": {
    "name": "ipython",
    "version": 3
   },
   "file_extension": ".py",
   "mimetype": "text/x-python",
   "name": "python",
   "nbconvert_exporter": "python",
   "pygments_lexer": "ipython3",
   "version": "3.12.9"
  }
 },
 "nbformat": 4,
 "nbformat_minor": 5
}
