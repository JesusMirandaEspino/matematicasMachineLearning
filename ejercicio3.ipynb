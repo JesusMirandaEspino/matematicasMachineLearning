{
 "cells": [
  {
   "cell_type": "code",
   "execution_count": 1,
   "id": "db30061e-f680-40f5-80b7-b811025f7761",
   "metadata": {},
   "outputs": [],
   "source": [
    "import numpy as np\n",
    "import matplotlib.pyplot as plt\n",
    "import torch\n",
    "import math"
   ]
  },
  {
   "cell_type": "code",
   "execution_count": 2,
   "id": "e807c852-0d17-43a0-af38-3ddbc734ef39",
   "metadata": {},
   "outputs": [
    {
     "data": {
      "text/plain": [
       "tensor(0., requires_grad=True)"
      ]
     },
     "execution_count": 2,
     "metadata": {},
     "output_type": "execute_result"
    }
   ],
   "source": [
    "x = torch.tensor(0.).requires_grad_()\n",
    "x"
   ]
  },
  {
   "cell_type": "code",
   "execution_count": 3,
   "id": "0f6f8573-36ef-448d-8f7e-e9749deedaf6",
   "metadata": {},
   "outputs": [
    {
     "data": {
      "text/plain": [
       "tensor(0., requires_grad=True)"
      ]
     },
     "execution_count": 3,
     "metadata": {},
     "output_type": "execute_result"
    }
   ],
   "source": [
    "y = torch.tensor(0.).requires_grad_()\n",
    "y"
   ]
  },
  {
   "cell_type": "code",
   "execution_count": 5,
   "id": "6c9920b8-4972-4bb5-9c69-68b6ff721b66",
   "metadata": {},
   "outputs": [],
   "source": [
    "def f(my_x, my_y):\n",
    "    return my_x**2 - my_y**2"
   ]
  },
  {
   "cell_type": "code",
   "execution_count": 6,
   "id": "64e910b1-fc76-42fa-a35f-10f77a98ff63",
   "metadata": {},
   "outputs": [
    {
     "data": {
      "text/plain": [
       "tensor(0., grad_fn=<SubBackward0>)"
      ]
     },
     "execution_count": 6,
     "metadata": {},
     "output_type": "execute_result"
    }
   ],
   "source": [
    "z = f(x, y) # Forward pass\n",
    "z"
   ]
  },
  {
   "cell_type": "code",
   "execution_count": 7,
   "id": "0f1ee05d-8590-449a-a322-3b2286f6655c",
   "metadata": {},
   "outputs": [],
   "source": [
    "z.backward()"
   ]
  },
  {
   "cell_type": "code",
   "execution_count": 8,
   "id": "aea1524c-a66b-4c7d-b006-e789bf3f0fdf",
   "metadata": {},
   "outputs": [
    {
     "data": {
      "text/plain": [
       "tensor(0.)"
      ]
     },
     "execution_count": 8,
     "metadata": {},
     "output_type": "execute_result"
    }
   ],
   "source": [
    "x.grad"
   ]
  },
  {
   "cell_type": "code",
   "execution_count": 9,
   "id": "09732262-eeed-4395-b1f5-7b480f8d4d4c",
   "metadata": {},
   "outputs": [
    {
     "data": {
      "text/plain": [
       "tensor(-0.)"
      ]
     },
     "execution_count": 9,
     "metadata": {},
     "output_type": "execute_result"
    }
   ],
   "source": [
    "y.grad"
   ]
  },
  {
   "cell_type": "code",
   "execution_count": 10,
   "id": "7765be97-9cb4-4dfb-9f1b-b3d349f6c0ad",
   "metadata": {},
   "outputs": [],
   "source": [
    "def cylinder_vol(my_r, my_l):\n",
    "    return math.pi * my_r**2 * my_l"
   ]
  },
  {
   "cell_type": "code",
   "execution_count": 11,
   "id": "8963d339-16ac-40f7-933f-722535a078cc",
   "metadata": {},
   "outputs": [
    {
     "data": {
      "text/plain": [
       "tensor(3., requires_grad=True)"
      ]
     },
     "execution_count": 11,
     "metadata": {},
     "output_type": "execute_result"
    }
   ],
   "source": [
    "r = torch.tensor(3.).requires_grad_()\n",
    "r"
   ]
  },
  {
   "cell_type": "code",
   "execution_count": 12,
   "id": "c40bb20b-9876-483a-8017-3a962ad7121a",
   "metadata": {},
   "outputs": [
    {
     "data": {
      "text/plain": [
       "tensor(5., requires_grad=True)"
      ]
     },
     "execution_count": 12,
     "metadata": {},
     "output_type": "execute_result"
    }
   ],
   "source": [
    "l = torch.tensor(5.).requires_grad_()\n",
    "l"
   ]
  },
  {
   "cell_type": "code",
   "execution_count": 13,
   "id": "245598b1-6848-4911-bec6-c324980f303a",
   "metadata": {},
   "outputs": [
    {
     "data": {
      "text/plain": [
       "tensor(141.3717, grad_fn=<MulBackward0>)"
      ]
     },
     "execution_count": 13,
     "metadata": {},
     "output_type": "execute_result"
    }
   ],
   "source": [
    "# Entonces el volumen sería de 141.4 metros cúbicos:\n",
    "v = cylinder_vol(r, l)\n",
    "v"
   ]
  },
  {
   "cell_type": "code",
   "execution_count": 14,
   "id": "a8bb389b-4ac4-4d74-a2a0-318e2e04665d",
   "metadata": {},
   "outputs": [],
   "source": [
    "v.backward()"
   ]
  },
  {
   "cell_type": "code",
   "execution_count": 15,
   "id": "06fdcaf1-6e98-47bf-ad1e-b7be33bafb47",
   "metadata": {},
   "outputs": [
    {
     "data": {
      "text/plain": [
       "tensor(28.2743)"
      ]
     },
     "execution_count": 15,
     "metadata": {},
     "output_type": "execute_result"
    }
   ],
   "source": [
    "l.grad"
   ]
  },
  {
   "cell_type": "code",
   "execution_count": 16,
   "id": "e7604ff6-e6a9-477a-8a7e-be572edf9ca9",
   "metadata": {},
   "outputs": [
    {
     "data": {
      "text/plain": [
       "28.274333882308138"
      ]
     },
     "execution_count": 16,
     "metadata": {},
     "output_type": "execute_result"
    }
   ],
   "source": [
    "math.pi * 3**2"
   ]
  },
  {
   "cell_type": "code",
   "execution_count": 17,
   "id": "5743c34c-4949-426b-b7d2-1645566963d1",
   "metadata": {},
   "outputs": [
    {
     "data": {
      "text/plain": [
       "169.64600329384882"
      ]
     },
     "execution_count": 17,
     "metadata": {},
     "output_type": "execute_result"
    }
   ],
   "source": [
    "cylinder_vol(3, 6)"
   ]
  },
  {
   "cell_type": "code",
   "execution_count": 18,
   "id": "374344d6-ce7a-4365-a3bd-54060c7591d4",
   "metadata": {},
   "outputs": [
    {
     "data": {
      "text/plain": [
       "28.274333882308127"
      ]
     },
     "execution_count": 18,
     "metadata": {},
     "output_type": "execute_result"
    }
   ],
   "source": [
    "cylinder_vol(3, 6) - cylinder_vol(3, 5)"
   ]
  },
  {
   "cell_type": "code",
   "execution_count": 19,
   "id": "160539ad-a057-45a0-a649-3aaa28f85d74",
   "metadata": {},
   "outputs": [
    {
     "data": {
      "text/plain": [
       "28.274333882308156"
      ]
     },
     "execution_count": 19,
     "metadata": {},
     "output_type": "execute_result"
    }
   ],
   "source": [
    "cylinder_vol(3, 7) - cylinder_vol(3, 6)"
   ]
  },
  {
   "cell_type": "code",
   "execution_count": 20,
   "id": "02a9936b-69ff-4110-be1f-cda436dad8d3",
   "metadata": {},
   "outputs": [
    {
     "data": {
      "text/plain": [
       "tensor(94.2478)"
      ]
     },
     "execution_count": 20,
     "metadata": {},
     "output_type": "execute_result"
    }
   ],
   "source": [
    "r.grad"
   ]
  },
  {
   "cell_type": "code",
   "execution_count": 21,
   "id": "5d8e52f5-576e-40c6-9366-3cfbffb61cbd",
   "metadata": {},
   "outputs": [
    {
     "data": {
      "text/plain": [
       "94.24777960769379"
      ]
     },
     "execution_count": 21,
     "metadata": {},
     "output_type": "execute_result"
    }
   ],
   "source": [
    "2 * math.pi * 3 * 5"
   ]
  },
  {
   "cell_type": "code",
   "execution_count": 22,
   "id": "4836f1db-5226-44a2-a6d8-575561464575",
   "metadata": {},
   "outputs": [],
   "source": [
    "delta = 1e-6"
   ]
  },
  {
   "cell_type": "code",
   "execution_count": 23,
   "id": "79f234d8-fa19-40f6-a843-da8c557ea113",
   "metadata": {},
   "outputs": [
    {
     "data": {
      "text/plain": [
       "94.24779531741478"
      ]
     },
     "execution_count": 23,
     "metadata": {},
     "output_type": "execute_result"
    }
   ],
   "source": [
    "(cylinder_vol(3 + delta, 5) - cylinder_vol(3, 5)) / delta"
   ]
  },
  {
   "cell_type": "code",
   "execution_count": null,
   "id": "5fd81d09-55fa-40b6-a917-fb123549e588",
   "metadata": {},
   "outputs": [],
   "source": []
  }
 ],
 "metadata": {
  "kernelspec": {
   "display_name": "Python 3 (ipykernel)",
   "language": "python",
   "name": "python3"
  },
  "language_info": {
   "codemirror_mode": {
    "name": "ipython",
    "version": 3
   },
   "file_extension": ".py",
   "mimetype": "text/x-python",
   "name": "python",
   "nbconvert_exporter": "python",
   "pygments_lexer": "ipython3",
   "version": "3.12.9"
  }
 },
 "nbformat": 4,
 "nbformat_minor": 5
}
