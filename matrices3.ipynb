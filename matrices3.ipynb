{
 "cells": [
  {
   "cell_type": "code",
   "execution_count": 2,
   "id": "03189daa-2961-4bd4-9a4e-b623c699d44b",
   "metadata": {},
   "outputs": [],
   "source": [
    "import pandas as pd\n",
    "import numpy as np\n",
    "import matplotlib.pyplot as plt\n",
    "import torch\n",
    "import tensorflow as tf"
   ]
  },
  {
   "cell_type": "code",
   "execution_count": 3,
   "id": "8046253e-92cd-4859-9493-f6b3ba2b7fa3",
   "metadata": {},
   "outputs": [
    {
     "data": {
      "text/plain": [
       "array([[1, 2],\n",
       "       [3, 4]])"
      ]
     },
     "execution_count": 3,
     "metadata": {},
     "output_type": "execute_result"
    }
   ],
   "source": [
    "X = np.array([[1, 2], [3, 4]])\n",
    "X"
   ]
  },
  {
   "cell_type": "code",
   "execution_count": 4,
   "id": "991fde67-e1d6-4e26-aa26-06a6025dd45b",
   "metadata": {},
   "outputs": [
    {
     "data": {
      "text/plain": [
       "5.477225575051661"
      ]
     },
     "execution_count": 4,
     "metadata": {},
     "output_type": "execute_result"
    }
   ],
   "source": [
    "(1**2 + 2**2 + 3**2 + 4**2)**(1/2)"
   ]
  },
  {
   "cell_type": "code",
   "execution_count": 5,
   "id": "41b8170e-46b5-4ccf-819a-cdd3adc6f36d",
   "metadata": {},
   "outputs": [
    {
     "data": {
      "text/plain": [
       "np.float64(5.477225575051661)"
      ]
     },
     "execution_count": 5,
     "metadata": {},
     "output_type": "execute_result"
    }
   ],
   "source": [
    "np.linalg.norm(X)"
   ]
  },
  {
   "cell_type": "code",
   "execution_count": 6,
   "id": "f1a73d47-48f0-41cd-930c-ceffeb8420f9",
   "metadata": {},
   "outputs": [],
   "source": [
    "X_pt = torch.tensor([[1, 2], [3, 4.]])"
   ]
  },
  {
   "cell_type": "code",
   "execution_count": 7,
   "id": "4ae02357-4cd1-47c4-89ac-6574feae1ed3",
   "metadata": {},
   "outputs": [
    {
     "data": {
      "text/plain": [
       "tensor(5.4772)"
      ]
     },
     "execution_count": 7,
     "metadata": {},
     "output_type": "execute_result"
    }
   ],
   "source": [
    "torch.norm(X_pt)"
   ]
  },
  {
   "cell_type": "code",
   "execution_count": 8,
   "id": "30ea734b-a71b-484b-acb5-439da70c979e",
   "metadata": {},
   "outputs": [],
   "source": [
    "X_tf = tf.Variable([[1, 2], [3, 4.]])"
   ]
  },
  {
   "cell_type": "code",
   "execution_count": 9,
   "id": "43d24d2c-1b0f-41d6-9735-a4769183660c",
   "metadata": {},
   "outputs": [
    {
     "data": {
      "text/plain": [
       "<tf.Tensor: shape=(), dtype=float32, numpy=5.4772257804870605>"
      ]
     },
     "execution_count": 9,
     "metadata": {},
     "output_type": "execute_result"
    }
   ],
   "source": [
    "tf.norm(X_tf)"
   ]
  },
  {
   "cell_type": "code",
   "execution_count": 10,
   "id": "f85675d9-24d9-4a4c-8a4f-66c97c7b2833",
   "metadata": {},
   "outputs": [
    {
     "data": {
      "text/plain": [
       "array([[3, 4],\n",
       "       [5, 6],\n",
       "       [7, 8]])"
      ]
     },
     "execution_count": 10,
     "metadata": {},
     "output_type": "execute_result"
    }
   ],
   "source": [
    "A = np.array([[3, 4], [5, 6], [7, 8]])\n",
    "A"
   ]
  },
  {
   "cell_type": "code",
   "execution_count": 11,
   "id": "c36922da-0f7d-45ed-a1cf-1223de7b79bd",
   "metadata": {},
   "outputs": [
    {
     "data": {
      "text/plain": [
       "array([1, 2])"
      ]
     },
     "execution_count": 11,
     "metadata": {},
     "output_type": "execute_result"
    }
   ],
   "source": [
    "b = np.array([1, 2])\n",
    "b"
   ]
  },
  {
   "cell_type": "code",
   "execution_count": 12,
   "id": "1599681f-6697-4f00-b734-32a68781f71c",
   "metadata": {},
   "outputs": [
    {
     "data": {
      "text/plain": [
       "array([11, 17, 23])"
      ]
     },
     "execution_count": 12,
     "metadata": {},
     "output_type": "execute_result"
    }
   ],
   "source": [
    "np.dot(A, b)"
   ]
  },
  {
   "cell_type": "code",
   "execution_count": 13,
   "id": "12931440-8f25-448c-944a-081e8deacfd0",
   "metadata": {},
   "outputs": [
    {
     "data": {
      "text/plain": [
       "tensor([[3, 4],\n",
       "        [5, 6],\n",
       "        [7, 8]])"
      ]
     },
     "execution_count": 13,
     "metadata": {},
     "output_type": "execute_result"
    }
   ],
   "source": [
    "A_pt = torch.tensor([[3, 4], [5, 6], [7, 8]])\n",
    "A_pt"
   ]
  },
  {
   "cell_type": "code",
   "execution_count": 14,
   "id": "581fcf84-88ca-4c77-a131-bd9f4fa38e1a",
   "metadata": {},
   "outputs": [
    {
     "data": {
      "text/plain": [
       "tensor([1, 2])"
      ]
     },
     "execution_count": 14,
     "metadata": {},
     "output_type": "execute_result"
    }
   ],
   "source": [
    "b_pt = torch.tensor([1, 2])\n",
    "b_pt"
   ]
  },
  {
   "cell_type": "code",
   "execution_count": 15,
   "id": "d5690d2c-c6b9-4602-b8d1-f1894f172403",
   "metadata": {},
   "outputs": [
    {
     "data": {
      "text/plain": [
       "tensor([11, 17, 23])"
      ]
     },
     "execution_count": 15,
     "metadata": {},
     "output_type": "execute_result"
    }
   ],
   "source": [
    "torch.matmul(A_pt, b_pt)"
   ]
  },
  {
   "cell_type": "code",
   "execution_count": 16,
   "id": "8a51419e-5b36-4797-ad86-437a1de606ae",
   "metadata": {},
   "outputs": [
    {
     "data": {
      "text/plain": [
       "<tf.Variable 'Variable:0' shape=(3, 2) dtype=int32, numpy=\n",
       "array([[3, 4],\n",
       "       [5, 6],\n",
       "       [7, 8]], dtype=int32)>"
      ]
     },
     "execution_count": 16,
     "metadata": {},
     "output_type": "execute_result"
    }
   ],
   "source": [
    "A_tf = tf.Variable([[3, 4], [5, 6], [7, 8]])\n",
    "A_tf"
   ]
  },
  {
   "cell_type": "code",
   "execution_count": 17,
   "id": "bfbf1ea4-151e-4419-b149-7a5686f43791",
   "metadata": {},
   "outputs": [
    {
     "data": {
      "text/plain": [
       "<tf.Variable 'Variable:0' shape=(2,) dtype=int32, numpy=array([1, 2], dtype=int32)>"
      ]
     },
     "execution_count": 17,
     "metadata": {},
     "output_type": "execute_result"
    }
   ],
   "source": [
    "b_tf = tf.Variable([1, 2])\n",
    "b_tf"
   ]
  },
  {
   "cell_type": "code",
   "execution_count": 18,
   "id": "e8be7b67-b22a-41cf-95fb-d542a79338e4",
   "metadata": {},
   "outputs": [
    {
     "data": {
      "text/plain": [
       "<tf.Tensor: shape=(3,), dtype=int32, numpy=array([11, 17, 23], dtype=int32)>"
      ]
     },
     "execution_count": 18,
     "metadata": {},
     "output_type": "execute_result"
    }
   ],
   "source": [
    "tf.linalg.matvec(A_tf, b_tf)"
   ]
  },
  {
   "cell_type": "code",
   "execution_count": 19,
   "id": "27886ca5-103f-4520-8ece-5dea4e577e48",
   "metadata": {},
   "outputs": [
    {
     "data": {
      "text/plain": [
       "array([[3, 4],\n",
       "       [5, 6],\n",
       "       [7, 8]])"
      ]
     },
     "execution_count": 19,
     "metadata": {},
     "output_type": "execute_result"
    }
   ],
   "source": [
    "A"
   ]
  },
  {
   "cell_type": "code",
   "execution_count": 20,
   "id": "086c8dd0-6d89-475a-8ed6-ad083e50e01f",
   "metadata": {},
   "outputs": [
    {
     "data": {
      "text/plain": [
       "array([[1, 9],\n",
       "       [2, 0]])"
      ]
     },
     "execution_count": 20,
     "metadata": {},
     "output_type": "execute_result"
    }
   ],
   "source": [
    "B = np.array([[1, 9], [2, 0]])\n",
    "B"
   ]
  },
  {
   "cell_type": "code",
   "execution_count": 21,
   "id": "58260c35-40f3-4d19-a89f-df7fa679d87c",
   "metadata": {},
   "outputs": [
    {
     "data": {
      "text/plain": [
       "array([[11, 27],\n",
       "       [17, 45],\n",
       "       [23, 63]])"
      ]
     },
     "execution_count": 21,
     "metadata": {},
     "output_type": "execute_result"
    }
   ],
   "source": [
    "np.dot(A, B)"
   ]
  },
  {
   "cell_type": "code",
   "execution_count": null,
   "id": "e086ab34-74d9-4060-974b-4021a41bff33",
   "metadata": {},
   "outputs": [],
   "source": []
  },
  {
   "cell_type": "code",
   "execution_count": 22,
   "id": "712b745c-fe4e-44cc-b7ce-b6c8c1935f08",
   "metadata": {},
   "outputs": [
    {
     "data": {
      "text/plain": [
       "tensor([[1, 9],\n",
       "        [2, 0]])"
      ]
     },
     "execution_count": 22,
     "metadata": {},
     "output_type": "execute_result"
    }
   ],
   "source": [
    "B_pt = torch.from_numpy(B)\n",
    "B_pt"
   ]
  },
  {
   "cell_type": "code",
   "execution_count": 23,
   "id": "0a2365bb-732f-46eb-9919-be0fbfe5e9cb",
   "metadata": {},
   "outputs": [
    {
     "data": {
      "text/plain": [
       "tensor([[1, 9],\n",
       "        [2, 0]])"
      ]
     },
     "execution_count": 23,
     "metadata": {},
     "output_type": "execute_result"
    }
   ],
   "source": [
    "B_pt = torch.tensor([[1, 2], [9, 0]]).T\n",
    "B_pt"
   ]
  },
  {
   "cell_type": "code",
   "execution_count": 24,
   "id": "92914299-b498-4460-9dcf-2e20fe7a351d",
   "metadata": {},
   "outputs": [
    {
     "data": {
      "text/plain": [
       "tensor([[11, 27],\n",
       "        [17, 45],\n",
       "        [23, 63]])"
      ]
     },
     "execution_count": 24,
     "metadata": {},
     "output_type": "execute_result"
    }
   ],
   "source": [
    "torch.matmul(A_pt, B_pt)"
   ]
  },
  {
   "cell_type": "code",
   "execution_count": 25,
   "id": "87c2a9ab-d65b-4fe5-9286-11f0b7b3e4a9",
   "metadata": {},
   "outputs": [
    {
     "data": {
      "text/plain": [
       "<tf.Tensor: shape=(2, 2), dtype=int32, numpy=\n",
       "array([[1, 9],\n",
       "       [2, 0]], dtype=int32)>"
      ]
     },
     "execution_count": 25,
     "metadata": {},
     "output_type": "execute_result"
    }
   ],
   "source": [
    "B_tf = tf.convert_to_tensor(B, dtype=tf.int32)\n",
    "B_tf"
   ]
  },
  {
   "cell_type": "code",
   "execution_count": 26,
   "id": "35555662-c6ef-4f5c-bacb-7fb98f5891de",
   "metadata": {},
   "outputs": [
    {
     "data": {
      "text/plain": [
       "<tf.Tensor: shape=(3, 2), dtype=int32, numpy=\n",
       "array([[11, 27],\n",
       "       [17, 45],\n",
       "       [23, 63]], dtype=int32)>"
      ]
     },
     "execution_count": 26,
     "metadata": {},
     "output_type": "execute_result"
    }
   ],
   "source": [
    "tf.matmul(A_tf, B_tf)"
   ]
  },
  {
   "cell_type": "code",
   "execution_count": 27,
   "id": "1727e608-1b28-406e-80d3-9136138fede9",
   "metadata": {},
   "outputs": [
    {
     "data": {
      "text/plain": [
       "array([[0, 1, 2],\n",
       "       [1, 7, 8],\n",
       "       [2, 8, 9]])"
      ]
     },
     "execution_count": 27,
     "metadata": {},
     "output_type": "execute_result"
    }
   ],
   "source": [
    "X_sym = np.array([[0, 1, 2], [1, 7, 8], [2, 8, 9]])\n",
    "X_sym"
   ]
  },
  {
   "cell_type": "code",
   "execution_count": 28,
   "id": "982552d5-5f96-4787-8566-3db454a5d19a",
   "metadata": {},
   "outputs": [
    {
     "data": {
      "text/plain": [
       "array([[0, 1, 2],\n",
       "       [1, 7, 8],\n",
       "       [2, 8, 9]])"
      ]
     },
     "execution_count": 28,
     "metadata": {},
     "output_type": "execute_result"
    }
   ],
   "source": [
    "X_sym.T"
   ]
  },
  {
   "cell_type": "code",
   "execution_count": 29,
   "id": "c8d914dc-2fd8-4090-9008-c8f47d1aaa2d",
   "metadata": {},
   "outputs": [
    {
     "data": {
      "text/plain": [
       "array([[ True,  True,  True],\n",
       "       [ True,  True,  True],\n",
       "       [ True,  True,  True]])"
      ]
     },
     "execution_count": 29,
     "metadata": {},
     "output_type": "execute_result"
    }
   ],
   "source": [
    "X_sym.T == X_sym"
   ]
  },
  {
   "cell_type": "code",
   "execution_count": 30,
   "id": "b6dd709d-9586-48e5-b907-3ccfa3737056",
   "metadata": {},
   "outputs": [
    {
     "data": {
      "text/plain": [
       "array([[0, 1, 2],\n",
       "       [1, 7, 8],\n",
       "       [2, 8, 9]])"
      ]
     },
     "execution_count": 30,
     "metadata": {},
     "output_type": "execute_result"
    }
   ],
   "source": [
    "X_sym.T"
   ]
  },
  {
   "cell_type": "code",
   "execution_count": 31,
   "id": "d5e9b02a-7014-4ed6-983b-6a0130f5344c",
   "metadata": {},
   "outputs": [
    {
     "data": {
      "text/plain": [
       "tensor([[1, 0, 0],\n",
       "        [0, 1, 0],\n",
       "        [0, 0, 1]])"
      ]
     },
     "execution_count": 31,
     "metadata": {},
     "output_type": "execute_result"
    }
   ],
   "source": [
    "I = torch.tensor([[1, 0, 0], [0, 1, 0], [0, 0, 1]])\n",
    "I"
   ]
  },
  {
   "cell_type": "code",
   "execution_count": 32,
   "id": "557e64ae-7220-41ec-a928-5f13acac59ef",
   "metadata": {},
   "outputs": [
    {
     "data": {
      "text/plain": [
       "tensor([25,  2,  5])"
      ]
     },
     "execution_count": 32,
     "metadata": {},
     "output_type": "execute_result"
    }
   ],
   "source": [
    "x_pt = torch.tensor([25, 2, 5])\n",
    "x_pt"
   ]
  },
  {
   "cell_type": "code",
   "execution_count": 33,
   "id": "d5482a7a-69f7-427e-ad20-ca3b3146b348",
   "metadata": {},
   "outputs": [
    {
     "data": {
      "text/plain": [
       "tensor([25,  2,  5])"
      ]
     },
     "execution_count": 33,
     "metadata": {},
     "output_type": "execute_result"
    }
   ],
   "source": [
    "torch.matmul(I, x_pt)"
   ]
  },
  {
   "cell_type": "code",
   "execution_count": 34,
   "id": "dc43fa76-8830-4384-8505-6cff60d7f8c5",
   "metadata": {},
   "outputs": [
    {
     "data": {
      "text/plain": [
       "array([[0, 1, 2],\n",
       "       [3, 4, 5],\n",
       "       [6, 7, 8]])"
      ]
     },
     "execution_count": 34,
     "metadata": {},
     "output_type": "execute_result"
    }
   ],
   "source": [
    "X_ = np.array([[0, 1, 2], [3, 4, 5], [6, 7, 8]])\n",
    "X_"
   ]
  },
  {
   "cell_type": "code",
   "execution_count": 35,
   "id": "a2bb33e8-64c1-4b5b-97d2-badee7470df5",
   "metadata": {},
   "outputs": [
    {
     "data": {
      "text/plain": [
       "array([[-1],\n",
       "       [ 1],\n",
       "       [-2]])"
      ]
     },
     "execution_count": 35,
     "metadata": {},
     "output_type": "execute_result"
    }
   ],
   "source": [
    "v_ = np.array([[-1, 1, -2]]).T\n",
    "v_"
   ]
  },
  {
   "cell_type": "code",
   "execution_count": 36,
   "id": "73cc78cb-e9ad-4bf0-b67f-748fa79294d4",
   "metadata": {},
   "outputs": [
    {
     "data": {
      "text/plain": [
       "array([[ -3],\n",
       "       [ -9],\n",
       "       [-15]])"
      ]
     },
     "execution_count": 36,
     "metadata": {},
     "output_type": "execute_result"
    }
   ],
   "source": [
    "np.dot(X_, v_)"
   ]
  },
  {
   "cell_type": "code",
   "execution_count": 37,
   "id": "2e47dc8b-ad85-4e80-8f57-41f74a281dc1",
   "metadata": {},
   "outputs": [
    {
     "data": {
      "text/plain": [
       "array([[-1,  0],\n",
       "       [ 1,  1],\n",
       "       [-2,  2]])"
      ]
     },
     "execution_count": 37,
     "metadata": {},
     "output_type": "execute_result"
    }
   ],
   "source": [
    "q_ =  np.array([[-1, 1, -2], [0, 1, 2]]).T\n",
    "q_"
   ]
  },
  {
   "cell_type": "code",
   "execution_count": 38,
   "id": "21472e44-cdae-42eb-808c-8b847438639c",
   "metadata": {},
   "outputs": [
    {
     "data": {
      "text/plain": [
       "array([[ -3,   5],\n",
       "       [ -9,  14],\n",
       "       [-15,  23]])"
      ]
     },
     "execution_count": 38,
     "metadata": {},
     "output_type": "execute_result"
    }
   ],
   "source": [
    "np.dot(X_, q_)"
   ]
  },
  {
   "cell_type": "code",
   "execution_count": 39,
   "id": "9e71104b-db78-492b-ae7e-3b0f520c5736",
   "metadata": {},
   "outputs": [],
   "source": [
    "vector_a = np.array([1, 2, 3])\n",
    "vector_b = np.array([4, 5, 6])\n",
    "\n",
    "producto_escalar = np.dot(vector_a, vector_b)"
   ]
  },
  {
   "cell_type": "code",
   "execution_count": 40,
   "id": "624f4de1-a675-4818-9c14-9f574555624e",
   "metadata": {},
   "outputs": [
    {
     "data": {
      "text/plain": [
       "np.int64(32)"
      ]
     },
     "execution_count": 40,
     "metadata": {},
     "output_type": "execute_result"
    }
   ],
   "source": [
    "producto_escalar"
   ]
  },
  {
   "cell_type": "code",
   "execution_count": 41,
   "id": "9c356d94-9be5-4702-8356-bb549d8b9b18",
   "metadata": {},
   "outputs": [
    {
     "data": {
      "text/plain": [
       "32"
      ]
     },
     "execution_count": 41,
     "metadata": {},
     "output_type": "execute_result"
    }
   ],
   "source": [
    "res = (1*4)+(2*5)+(3*6)\n",
    "res"
   ]
  },
  {
   "cell_type": "code",
   "execution_count": 42,
   "id": "306c738d-d938-485d-8adf-1257e47b7800",
   "metadata": {},
   "outputs": [],
   "source": [
    "A = np.array([ [2,2,5], [2,1,6], [1, 6, 7]]) \n",
    "B = np.array([ [2,1,1], [1,9,8], [8, 1, 2]]) \n",
    "C = np.array([ [2,3], [1,6], [1, 1]]) "
   ]
  },
  {
   "cell_type": "code",
   "execution_count": 45,
   "id": "d617ab43-8e23-44e3-9ede-e8c47ff4a7d2",
   "metadata": {},
   "outputs": [
    {
     "data": {
      "text/plain": [
       "array([11.73655148,  0.67210633, -2.40865781])"
      ]
     },
     "execution_count": 45,
     "metadata": {},
     "output_type": "execute_result"
    }
   ],
   "source": [
    "np.linalg.eigvals(A)"
   ]
  },
  {
   "cell_type": "code",
   "execution_count": 47,
   "id": "097ee587-57e3-4833-833f-e98216fb9b04",
   "metadata": {},
   "outputs": [],
   "source": [
    "autovalores, autovectores = np.linalg.eig(A)"
   ]
  },
  {
   "cell_type": "code",
   "execution_count": 48,
   "id": "66a34249-f31b-4f2e-8cdc-a93e7cd6cee4",
   "metadata": {},
   "outputs": [
    {
     "data": {
      "text/plain": [
       "array([11.73655148,  0.67210633, -2.40865781])"
      ]
     },
     "execution_count": 48,
     "metadata": {},
     "output_type": "execute_result"
    }
   ],
   "source": [
    "autovalores"
   ]
  },
  {
   "cell_type": "code",
   "execution_count": 49,
   "id": "a238239c-6318-406b-a185-0e11a39e4de9",
   "metadata": {},
   "outputs": [
    {
     "data": {
      "text/plain": [
       "array([[-0.47522504, -0.92973408, -0.24676112],\n",
       "       [-0.49502442, -0.182405  , -0.80497088],\n",
       "       [-0.72740084,  0.3198796 ,  0.53956542]])"
      ]
     },
     "execution_count": 49,
     "metadata": {},
     "output_type": "execute_result"
    }
   ],
   "source": [
    "autovectores"
   ]
  },
  {
   "cell_type": "code",
   "execution_count": 51,
   "id": "88cd7f30-02c9-4e72-b2cc-78beaadcc907",
   "metadata": {},
   "outputs": [],
   "source": [
    "A_nuevo = np.array([ [2,2,1], [2,1,6], [1, 6, 7]]) "
   ]
  },
  {
   "cell_type": "code",
   "execution_count": 52,
   "id": "9936f96d-efa7-4b42-a5d2-c0b82f99b0e7",
   "metadata": {},
   "outputs": [
    {
     "data": {
      "text/plain": [
       "array([11.10977223,  1.89022777, -3.        ])"
      ]
     },
     "execution_count": 52,
     "metadata": {},
     "output_type": "execute_result"
    }
   ],
   "source": [
    "np.linalg.eigvals(A_nuevo)"
   ]
  },
  {
   "cell_type": "code",
   "execution_count": 53,
   "id": "5040b079-8840-4205-838e-a33a887e948a",
   "metadata": {},
   "outputs": [],
   "source": [
    "autovalores, autovectores = np.linalg.eig(A_nuevo)"
   ]
  },
  {
   "cell_type": "code",
   "execution_count": 54,
   "id": "a4c949be-c5e7-4c57-bc1b-69ef4f6791a7",
   "metadata": {},
   "outputs": [
    {
     "data": {
      "text/plain": [
       "array([11.10977223,  1.89022777, -3.        ])"
      ]
     },
     "execution_count": 54,
     "metadata": {},
     "output_type": "execute_result"
    }
   ],
   "source": [
    "autovalores"
   ]
  },
  {
   "cell_type": "code",
   "execution_count": 55,
   "id": "2fd77061-47a0-4b30-b443-0e5cec28f3f2",
   "metadata": {},
   "outputs": [
    {
     "data": {
      "text/plain": [
       "array([[-0.20653193, -0.94835307,  0.24077171],\n",
       "       [-0.52925994, -0.09868632, -0.84270097],\n",
       "       [-0.82293893,  0.30147547,  0.48154341]])"
      ]
     },
     "execution_count": 55,
     "metadata": {},
     "output_type": "execute_result"
    }
   ],
   "source": [
    "autovectores"
   ]
  },
  {
   "cell_type": "code",
   "execution_count": 57,
   "id": "e637effa-0da0-43de-a6c9-27b6273ee356",
   "metadata": {},
   "outputs": [
    {
     "data": {
      "text/plain": [
       "array([ -0.8261277 , -11.62695267,  -0.3626082 ])"
      ]
     },
     "execution_count": 57,
     "metadata": {},
     "output_type": "execute_result"
    }
   ],
   "source": [
    "np.dot(autovalores, autovectores)"
   ]
  },
  {
   "cell_type": "code",
   "execution_count": 58,
   "id": "2133ac45-a31b-4fba-89f0-32f807c8db3a",
   "metadata": {},
   "outputs": [
    {
     "name": "stdout",
     "output_type": "stream",
     "text": [
      "Matriz original:\n",
      "[[ 3  2  2]\n",
      " [ 2  3 -2]]\n",
      "\n",
      "Matriz reconstruida:\n",
      "[[ 3.  2.  2.]\n",
      " [ 2.  3. -2.]]\n",
      "\n",
      "¿La matriz original y la reconstruida son iguales?\n",
      "True\n"
     ]
    }
   ],
   "source": [
    "# Matriz original\n",
    "A = np.array([[3, 2, 2],\n",
    "              [2, 3, -2]])\n",
    "\n",
    "# Descomposición SVD\n",
    "U, S, Vt = np.linalg.svd(A)\n",
    "\n",
    "# Convertir S (vector de valores singulares) en una matriz diagonal\n",
    "S_matrix = np.zeros((U.shape[0], Vt.shape[0]))\n",
    "np.fill_diagonal(S_matrix, S)\n",
    "\n",
    "# Reconstrucción de la matriz original\n",
    "A_reconstructed = np.dot(U, np.dot(S_matrix, Vt))\n",
    "\n",
    "# Comprobación\n",
    "print(\"Matriz original:\")\n",
    "print(A)\n",
    "print(\"\\nMatriz reconstruida:\")\n",
    "print(A_reconstructed)\n",
    "print(\"\\n¿La matriz original y la reconstruida son iguales?\")\n",
    "print(np.allclose(A, A_reconstructed))"
   ]
  },
  {
   "cell_type": "code",
   "execution_count": 59,
   "id": "39453113-3dda-4f08-b6e2-fae2d2a9e5d9",
   "metadata": {},
   "outputs": [],
   "source": [
    "U, S, Vt = np.linalg.svd(A_nuevo)"
   ]
  },
  {
   "cell_type": "code",
   "execution_count": 60,
   "id": "27e04eab-aebf-4bdc-bfdb-43b11e4b987a",
   "metadata": {},
   "outputs": [
    {
     "data": {
      "text/plain": [
       "array([[-0.20653193, -0.24077171,  0.94835307],\n",
       "       [-0.52925994,  0.84270097,  0.09868632],\n",
       "       [-0.82293893, -0.48154341, -0.30147547]])"
      ]
     },
     "execution_count": 60,
     "metadata": {},
     "output_type": "execute_result"
    }
   ],
   "source": [
    "U"
   ]
  },
  {
   "cell_type": "code",
   "execution_count": 61,
   "id": "a12043ce-c9c6-4d69-8643-e31715537848",
   "metadata": {},
   "outputs": [
    {
     "data": {
      "text/plain": [
       "array([11.10977223,  3.        ,  1.89022777])"
      ]
     },
     "execution_count": 61,
     "metadata": {},
     "output_type": "execute_result"
    }
   ],
   "source": [
    "S"
   ]
  },
  {
   "cell_type": "code",
   "execution_count": 62,
   "id": "d0f76908-01be-4775-aa73-a7cba391ba0c",
   "metadata": {},
   "outputs": [
    {
     "data": {
      "text/plain": [
       "array([[-0.20653193, -0.52925994, -0.82293893],\n",
       "       [ 0.24077171, -0.84270097,  0.48154341],\n",
       "       [ 0.94835307,  0.09868632, -0.30147547]])"
      ]
     },
     "execution_count": 62,
     "metadata": {},
     "output_type": "execute_result"
    }
   ],
   "source": [
    "Vt"
   ]
  },
  {
   "cell_type": "code",
   "execution_count": 63,
   "id": "e213dd60-4ec4-4689-8ae8-bd55c29c7d97",
   "metadata": {},
   "outputs": [
    {
     "data": {
      "text/plain": [
       "array([[0., 0., 0.],\n",
       "       [0., 0., 0.],\n",
       "       [0., 0., 0.]])"
      ]
     },
     "execution_count": 63,
     "metadata": {},
     "output_type": "execute_result"
    }
   ],
   "source": [
    "S_matrix = np.zeros((U.shape[0], Vt.shape[0]))\n",
    "S_matrix"
   ]
  },
  {
   "cell_type": "code",
   "execution_count": 64,
   "id": "85cb8490-c981-40cd-8256-896b2908086b",
   "metadata": {},
   "outputs": [],
   "source": [
    "np.fill_diagonal(S_matrix, S)"
   ]
  },
  {
   "cell_type": "code",
   "execution_count": 65,
   "id": "7b1d4a23-3eec-4136-a543-5751cf542cbe",
   "metadata": {},
   "outputs": [],
   "source": [
    "example = np.fill_diagonal(S_matrix, S)\n",
    "example"
   ]
  },
  {
   "cell_type": "code",
   "execution_count": 66,
   "id": "5f4aa874-d9c1-473d-9d3a-d0ea89a5b8da",
   "metadata": {},
   "outputs": [],
   "source": [
    "A_reconstructed = np.dot(U, np.dot(S_matrix, Vt))"
   ]
  },
  {
   "cell_type": "code",
   "execution_count": 67,
   "id": "b19c85cf-de96-47a6-96c9-e3c7ec50f993",
   "metadata": {},
   "outputs": [
    {
     "data": {
      "text/plain": [
       "array([[2., 2., 1.],\n",
       "       [2., 1., 6.],\n",
       "       [1., 6., 7.]])"
      ]
     },
     "execution_count": 67,
     "metadata": {},
     "output_type": "execute_result"
    }
   ],
   "source": [
    "A_reconstructed"
   ]
  },
  {
   "cell_type": "code",
   "execution_count": null,
   "id": "40e22926-3713-4c99-9cc2-77afb6611146",
   "metadata": {},
   "outputs": [],
   "source": []
  }
 ],
 "metadata": {
  "kernelspec": {
   "display_name": "Python 3 (ipykernel)",
   "language": "python",
   "name": "python3"
  },
  "language_info": {
   "codemirror_mode": {
    "name": "ipython",
    "version": 3
   },
   "file_extension": ".py",
   "mimetype": "text/x-python",
   "name": "python",
   "nbconvert_exporter": "python",
   "pygments_lexer": "ipython3",
   "version": "3.12.9"
  }
 },
 "nbformat": 4,
 "nbformat_minor": 5
}
