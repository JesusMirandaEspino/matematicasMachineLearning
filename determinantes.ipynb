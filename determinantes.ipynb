{
 "cells": [
  {
   "cell_type": "code",
   "execution_count": 1,
   "id": "3ef2bb0c-39a9-46da-ae26-c6664de762db",
   "metadata": {},
   "outputs": [],
   "source": [
    "import pandas as pd\n",
    "import numpy as np\n",
    "import matplotlib.pyplot as plt\n",
    "import torch\n",
    "import tensorflow as tf"
   ]
  },
  {
   "cell_type": "code",
   "execution_count": 24,
   "id": "0bdb496b-3e93-43c9-a6b7-668d0933f2ba",
   "metadata": {},
   "outputs": [],
   "source": [
    "def plot_vectors(vectors, colors):\n",
    "    \"\"\"\n",
    "    Plot one or more vectors in a 2D plane, specifying a color for each.\n",
    "\n",
    "    Arguments\n",
    "    ---------\n",
    "    vectors: list of lists or of arrays\n",
    "        Coordinates of the vectors to plot. For example, [[1, 3], [2, 2]]\n",
    "        contains two vectors to plot, [1, 3] and [2, 2].\n",
    "    colors: list\n",
    "        Colors of the vectors. For instance: ['red', 'blue'] will display the\n",
    "        first vector in red and the second in blue.\n",
    "\n",
    "    Example\n",
    "    -------\n",
    "    plot_vectors([[1, 3], [2, 2]], ['red', 'blue'])\n",
    "    plt.xlim(-1, 4)\n",
    "    plt.ylim(-1, 4)\n",
    "    \"\"\"\n",
    "    plt.figure()\n",
    "    plt.axvline(x=0, color='lightgray')\n",
    "    plt.axhline(y=0, color='lightgray')\n",
    "\n",
    "    for i in range(len(vectors)):\n",
    "        x = np.concatenate([[0,0],vectors[i]])\n",
    "        plt.quiver([x[0]], [x[1]], [x[2]], [x[3]],\n",
    "                   angles='xy', scale_units='xy', scale=1, color=colors[i],)"
   ]
  },
  {
   "cell_type": "code",
   "execution_count": 25,
   "id": "280b151c-e469-471e-9c5d-3a5f39ef9e46",
   "metadata": {},
   "outputs": [],
   "source": [
    "def vectorfy(mtrx, clmn):\n",
    "    return np.array(mtrx[:,clmn]).reshape(-1)"
   ]
  },
  {
   "cell_type": "code",
   "execution_count": 26,
   "id": "99449a3d-c551-48a2-a1a8-e2f2a5275d37",
   "metadata": {},
   "outputs": [
    {
     "data": {
      "text/plain": [
       "array([[ 1,  2,  4],\n",
       "       [ 2, -1,  3],\n",
       "       [ 0,  5,  1]])"
      ]
     },
     "execution_count": 26,
     "metadata": {},
     "output_type": "execute_result"
    }
   ],
   "source": [
    "X = np.array([[1, 2, 4], [2, -1, 3], [0, 5, 1]])\n",
    "X"
   ]
  },
  {
   "cell_type": "code",
   "execution_count": 27,
   "id": "51c27a17-25e0-4b9c-b25f-d01f4c63a69b",
   "metadata": {},
   "outputs": [
    {
     "data": {
      "text/plain": [
       "array([-3.25599251, -1.13863631,  5.39462882])"
      ]
     },
     "execution_count": 27,
     "metadata": {},
     "output_type": "execute_result"
    }
   ],
   "source": [
    "lambdas, V = np.linalg.eig(X)\n",
    "lambdas"
   ]
  },
  {
   "cell_type": "code",
   "execution_count": 28,
   "id": "22367c5d-6934-4ae3-9101-4409bea49d42",
   "metadata": {},
   "outputs": [
    {
     "data": {
      "text/plain": [
       "np.float64(19.99999999999999)"
      ]
     },
     "execution_count": 28,
     "metadata": {},
     "output_type": "execute_result"
    }
   ],
   "source": [
    "np.prod(lambdas)"
   ]
  },
  {
   "cell_type": "code",
   "execution_count": 29,
   "id": "5052e56e-1172-449f-a1d9-dceffe0f0a46",
   "metadata": {},
   "outputs": [
    {
     "data": {
      "text/plain": [
       "np.float64(19.999999999999996)"
      ]
     },
     "execution_count": 29,
     "metadata": {},
     "output_type": "execute_result"
    }
   ],
   "source": [
    "np.abs(np.linalg.det(X))"
   ]
  },
  {
   "cell_type": "code",
   "execution_count": 30,
   "id": "51cc8ae9-9609-4f30-9aa7-7b6ad1fc9235",
   "metadata": {},
   "outputs": [
    {
     "data": {
      "text/plain": [
       "array([[1, 0],\n",
       "       [0, 1]])"
      ]
     },
     "execution_count": 30,
     "metadata": {},
     "output_type": "execute_result"
    }
   ],
   "source": [
    "B = np.array([[1, 0], [0, 1]])\n",
    "B"
   ]
  },
  {
   "cell_type": "code",
   "execution_count": 31,
   "id": "43f0be33-b651-4dd3-91c9-8a804cecb4c6",
   "metadata": {},
   "outputs": [
    {
     "data": {
      "image/png": "[encoded data removed]",
      "text/plain": [
       "<Figure size 640x480 with 1 Axes>"
      ]
     },
     "metadata": {},
     "output_type": "display_data"
    }
   ],
   "source": [
    "plot_vectors([vectorfy(B, 0), vectorfy(B, 1)],\n",
    "            ['lightblue', 'lightgreen'])\n",
    "plt.xlim(-1, 3)\n",
    "_ = plt.ylim(-1, 3)"
   ]
  },
  {
   "cell_type": "code",
   "execution_count": 34,
   "id": "0f3219c6-975e-45e1-bb37-80dd989c2768",
   "metadata": {},
   "outputs": [
    {
     "data": {
      "text/plain": [
       "array([[-4.,  1.],\n",
       "       [-8.,  2.]])"
      ]
     },
     "execution_count": 34,
     "metadata": {},
     "output_type": "execute_result"
    }
   ],
   "source": [
    "N = np.array([[-4.,  1.],[-8.,  2.]])\n",
    "N"
   ]
  },
  {
   "cell_type": "code",
   "execution_count": 38,
   "id": "772ca35e-0012-4c97-977e-ddac9aa4bdab",
   "metadata": {},
   "outputs": [
    {
     "data": {
      "text/plain": [
       "np.float64(0.0)"
      ]
     },
     "execution_count": 38,
     "metadata": {},
     "output_type": "execute_result"
    }
   ],
   "source": [
    "np.linalg.det(N)"
   ]
  },
  {
   "cell_type": "code",
   "execution_count": 39,
   "id": "db286611-1a11-4f0d-9cb9-d303a11cfc33",
   "metadata": {},
   "outputs": [
    {
     "data": {
      "text/plain": [
       "array([-2.,  0.])"
      ]
     },
     "execution_count": 39,
     "metadata": {},
     "output_type": "execute_result"
    }
   ],
   "source": [
    "lambdas, V = np.linalg.eig(N)\n",
    "lambdas"
   ]
  },
  {
   "cell_type": "code",
   "execution_count": 49,
   "id": "0d9097bd-7a16-4287-b473-b8dee2383591",
   "metadata": {},
   "outputs": [
    {
     "data": {
      "text/plain": [
       "array([[1, 0],\n",
       "       [0, 1]])"
      ]
     },
     "execution_count": 49,
     "metadata": {},
     "output_type": "execute_result"
    }
   ],
   "source": [
    "B = np.array([[1, 0], [0, 1]])\n",
    "B\n"
   ]
  },
  {
   "cell_type": "code",
   "execution_count": 50,
   "id": "89f7256f-8651-47c7-a04a-fc25fa4e701f",
   "metadata": {},
   "outputs": [
    {
     "data": {
      "text/plain": [
       "array([[-4.,  1.],\n",
       "       [-8.,  2.]])"
      ]
     },
     "execution_count": 50,
     "metadata": {},
     "output_type": "execute_result"
    }
   ],
   "source": [
    "NB = np.dot(N, B)\n",
    "NB"
   ]
  },
  {
   "cell_type": "code",
   "execution_count": 51,
   "id": "2ed83404-1b27-4de5-ac80-68e11fbc5f4a",
   "metadata": {},
   "outputs": [
    {
     "data": {
      "image/png": "[encoded data removed]",
      "text/plain": [
       "<Figure size 640x480 with 1 Axes>"
      ]
     },
     "metadata": {},
     "output_type": "display_data"
    }
   ],
   "source": [
    "plot_vectors([vectorfy(B, 0), vectorfy(B, 1), vectorfy(NB, 0), vectorfy(NB, 1)],\n",
    "            ['lightblue', 'lightgreen', 'blue', 'green'])\n",
    "plt.xlim(-6, 6)\n",
    "_ = plt.ylim(-9, 3)"
   ]
  },
  {
   "cell_type": "code",
   "execution_count": 52,
   "id": "28412213-97e0-431c-997e-5413f6c87cc6",
   "metadata": {},
   "outputs": [
    {
     "data": {
      "text/plain": [
       "array([-2.,  0.])"
      ]
     },
     "execution_count": 52,
     "metadata": {},
     "output_type": "execute_result"
    }
   ],
   "source": [
    "lambdas, V = np.linalg.eig(N)\n",
    "lambdas"
   ]
  },
  {
   "cell_type": "code",
   "execution_count": 53,
   "id": "d15b6be3-5631-48cc-948d-d7cd6f481370",
   "metadata": {},
   "outputs": [
    {
     "data": {
      "text/plain": [
       "array([[1, 0],\n",
       "       [0, 1]])"
      ]
     },
     "execution_count": 53,
     "metadata": {},
     "output_type": "execute_result"
    }
   ],
   "source": [
    "I = np.array([[1, 0],[0, 1]])\n",
    "I"
   ]
  },
  {
   "cell_type": "code",
   "execution_count": 54,
   "id": "0e91dbad-a98f-4b28-ad5b-2323cce491a9",
   "metadata": {},
   "outputs": [
    {
     "data": {
      "text/plain": [
       "np.float64(1.0)"
      ]
     },
     "execution_count": 54,
     "metadata": {},
     "output_type": "execute_result"
    }
   ],
   "source": [
    "np.linalg.det(I)"
   ]
  },
  {
   "cell_type": "code",
   "execution_count": 55,
   "id": "76a6a5d7-65ca-4975-b487-8c65c6b01504",
   "metadata": {},
   "outputs": [
    {
     "data": {
      "text/plain": [
       "array([[1, 0],\n",
       "       [0, 1]])"
      ]
     },
     "execution_count": 55,
     "metadata": {},
     "output_type": "execute_result"
    }
   ],
   "source": [
    "IB = np.dot(I, B)\n",
    "IB"
   ]
  },
  {
   "cell_type": "code",
   "execution_count": 56,
   "id": "c0f25432-b4d0-412a-aeb5-4f2a30b05094",
   "metadata": {},
   "outputs": [
    {
     "data": {
      "image/png": "[encoded data removed]",
      "text/plain": [
       "<Figure size 640x480 with 1 Axes>"
      ]
     },
     "metadata": {},
     "output_type": "display_data"
    }
   ],
   "source": [
    "plot_vectors([vectorfy(B, 0), vectorfy(B, 1), vectorfy(IB, 0), vectorfy(IB, 1)],\n",
    "            ['lightblue', 'lightgreen', 'blue', 'green'])\n",
    "plt.xlim(-1, 3)\n",
    "_ = plt.ylim(-1, 3)"
   ]
  },
  {
   "cell_type": "code",
   "execution_count": 57,
   "id": "99704496-4602-4b87-8d37-983c5bd93123",
   "metadata": {},
   "outputs": [
    {
     "data": {
      "text/plain": [
       "array([1., 1.])"
      ]
     },
     "execution_count": 57,
     "metadata": {},
     "output_type": "execute_result"
    }
   ],
   "source": [
    "lambdas, V = np.linalg.eig(I)\n",
    "lambdas"
   ]
  },
  {
   "cell_type": "code",
   "execution_count": 58,
   "id": "c953fd8b-155f-4505-89d8-6b1dc79699da",
   "metadata": {},
   "outputs": [
    {
     "data": {
      "text/plain": [
       "array([[-0.5,  0. ],\n",
       "       [ 0. ,  2. ]])"
      ]
     },
     "execution_count": 58,
     "metadata": {},
     "output_type": "execute_result"
    }
   ],
   "source": [
    "J = np.array([[-0.5, 0], [0, 2]])\n",
    "J"
   ]
  },
  {
   "cell_type": "code",
   "execution_count": 59,
   "id": "b51f8095-5683-4263-8835-2231fa25956a",
   "metadata": {},
   "outputs": [
    {
     "data": {
      "text/plain": [
       "np.float64(-1.0)"
      ]
     },
     "execution_count": 59,
     "metadata": {},
     "output_type": "execute_result"
    }
   ],
   "source": [
    "np.linalg.det(J)"
   ]
  },
  {
   "cell_type": "code",
   "execution_count": 60,
   "id": "8bf466bf-cc4f-413f-8893-2137a3d46b0b",
   "metadata": {},
   "outputs": [
    {
     "data": {
      "text/plain": [
       "np.float64(1.0)"
      ]
     },
     "execution_count": 60,
     "metadata": {},
     "output_type": "execute_result"
    }
   ],
   "source": [
    "np.abs(np.linalg.det(J))"
   ]
  },
  {
   "cell_type": "code",
   "execution_count": 61,
   "id": "ca483881-be0a-45d1-9e67-12e9a9cf5809",
   "metadata": {},
   "outputs": [
    {
     "data": {
      "text/plain": [
       "array([[-0.5,  0. ],\n",
       "       [ 0. ,  2. ]])"
      ]
     },
     "execution_count": 61,
     "metadata": {},
     "output_type": "execute_result"
    }
   ],
   "source": [
    "JB = np.dot(J, B)\n",
    "JB"
   ]
  },
  {
   "cell_type": "code",
   "execution_count": 62,
   "id": "830bd762-fd7c-4ff7-adc3-c2857736e1bb",
   "metadata": {},
   "outputs": [
    {
     "data": {
      "image/png": "[encoded data removed]",
      "text/plain": [
       "<Figure size 640x480 with 1 Axes>"
      ]
     },
     "metadata": {},
     "output_type": "display_data"
    }
   ],
   "source": [
    "plot_vectors([vectorfy(B, 0), vectorfy(B, 1), vectorfy(JB, 0), vectorfy(JB, 1)],\n",
    "            ['lightblue', 'lightgreen', 'blue', 'green'])\n",
    "plt.xlim(-1, 3)\n",
    "_ = plt.ylim(-1, 3)"
   ]
  },
  {
   "cell_type": "code",
   "execution_count": 63,
   "id": "82d17cd3-dfe3-4850-aeb8-0d3204f61a50",
   "metadata": {},
   "outputs": [
    {
     "data": {
      "text/plain": [
       "array([-0.5,  2. ])"
      ]
     },
     "execution_count": 63,
     "metadata": {},
     "output_type": "execute_result"
    }
   ],
   "source": [
    "lambdas, V = np.linalg.eig(J)\n",
    "lambdas"
   ]
  },
  {
   "cell_type": "code",
   "execution_count": 64,
   "id": "69948252-1bb1-448a-b73d-4e4aec94c5e6",
   "metadata": {},
   "outputs": [
    {
     "data": {
      "text/plain": [
       "array([[2, 0],\n",
       "       [0, 2]])"
      ]
     },
     "execution_count": 64,
     "metadata": {},
     "output_type": "execute_result"
    }
   ],
   "source": [
    "D = I*2\n",
    "D"
   ]
  },
  {
   "cell_type": "code",
   "execution_count": 65,
   "id": "5c1eed92-b155-499b-8840-1d6fcf59becb",
   "metadata": {},
   "outputs": [
    {
     "data": {
      "text/plain": [
       "np.float64(4.0)"
      ]
     },
     "execution_count": 65,
     "metadata": {},
     "output_type": "execute_result"
    }
   ],
   "source": [
    "np.linalg.det(D)"
   ]
  },
  {
   "cell_type": "code",
   "execution_count": 66,
   "id": "d2f400c8-8e5f-492b-bc0e-ce419047170e",
   "metadata": {},
   "outputs": [
    {
     "data": {
      "text/plain": [
       "array([[2, 0],\n",
       "       [0, 2]])"
      ]
     },
     "execution_count": 66,
     "metadata": {},
     "output_type": "execute_result"
    }
   ],
   "source": [
    "DB = np.dot(D, B)\n",
    "DB"
   ]
  },
  {
   "cell_type": "code",
   "execution_count": 67,
   "id": "ee197dc8-3afc-442d-be69-e52864751dc4",
   "metadata": {},
   "outputs": [
    {
     "data": {
      "image/png": "[encoded data removed]",
      "text/plain": [
       "<Figure size 640x480 with 1 Axes>"
      ]
     },
     "metadata": {},
     "output_type": "display_data"
    }
   ],
   "source": [
    "plot_vectors([vectorfy(B, 0), vectorfy(B, 1), vectorfy(DB, 0), vectorfy(DB, 1)],\n",
    "            ['lightblue', 'lightgreen', 'blue', 'green'])\n",
    "plt.xlim(-1, 3)\n",
    "_ = plt.ylim(-1, 3)"
   ]
  },
  {
   "cell_type": "code",
   "execution_count": 68,
   "id": "ca659eb5-eb60-403e-8720-757eee02fb74",
   "metadata": {},
   "outputs": [
    {
     "data": {
      "text/plain": [
       "array([2., 2.])"
      ]
     },
     "execution_count": 68,
     "metadata": {},
     "output_type": "execute_result"
    }
   ],
   "source": [
    "lambdas, V = np.linalg.eig(D)\n",
    "lambdas"
   ]
  },
  {
   "cell_type": "code",
   "execution_count": 69,
   "id": "98b5ddc7-b230-4ba5-afad-5c41349cea14",
   "metadata": {},
   "outputs": [
    {
     "data": {
      "text/plain": [
       "array([[ 4,  2],\n",
       "       [-5, -3]])"
      ]
     },
     "execution_count": 69,
     "metadata": {},
     "output_type": "execute_result"
    }
   ],
   "source": [
    "A = np.array([[4, 2], [-5, -3]])\n",
    "A"
   ]
  },
  {
   "cell_type": "code",
   "execution_count": 70,
   "id": "d1b86c82-6bdb-421c-837c-40ba82fdea59",
   "metadata": {},
   "outputs": [],
   "source": [
    "lambdas, V = np.linalg.eig(A)"
   ]
  },
  {
   "cell_type": "code",
   "execution_count": 71,
   "id": "f50b8e48-c6c0-4613-a23c-a129c6a89e22",
   "metadata": {},
   "outputs": [
    {
     "data": {
      "text/plain": [
       "array([[ 0.70710678, -0.37139068],\n",
       "       [-0.70710678,  0.92847669]])"
      ]
     },
     "execution_count": 71,
     "metadata": {},
     "output_type": "execute_result"
    }
   ],
   "source": [
    "V"
   ]
  },
  {
   "cell_type": "code",
   "execution_count": 72,
   "id": "aa546c5a-5533-481c-a838-444c00491b9a",
   "metadata": {},
   "outputs": [
    {
     "data": {
      "text/plain": [
       "array([[2.3570226 , 0.94280904],\n",
       "       [1.79505494, 1.79505494]])"
      ]
     },
     "execution_count": 72,
     "metadata": {},
     "output_type": "execute_result"
    }
   ],
   "source": [
    "Vinv = np.linalg.inv(V)\n",
    "Vinv"
   ]
  },
  {
   "cell_type": "code",
   "execution_count": 73,
   "id": "a7071d4e-2894-4ea3-8733-c5569df26f15",
   "metadata": {},
   "outputs": [
    {
     "data": {
      "text/plain": [
       "array([[ 2.,  0.],\n",
       "       [ 0., -1.]])"
      ]
     },
     "execution_count": 73,
     "metadata": {},
     "output_type": "execute_result"
    }
   ],
   "source": [
    "Lambda = np.diag(lambdas)\n",
    "Lambda"
   ]
  },
  {
   "cell_type": "code",
   "execution_count": 74,
   "id": "a9aa7e94-feae-4887-8887-566a3c6bcd0d",
   "metadata": {},
   "outputs": [
    {
     "data": {
      "text/plain": [
       "array([[ 4.,  2.],\n",
       "       [-5., -3.]])"
      ]
     },
     "execution_count": 74,
     "metadata": {},
     "output_type": "execute_result"
    }
   ],
   "source": [
    "np.dot(V, np.dot(Lambda, Vinv))"
   ]
  },
  {
   "cell_type": "code",
   "execution_count": 75,
   "id": "f42e9824-9f1b-49fc-8930-bfd01ab5b94a",
   "metadata": {},
   "outputs": [
    {
     "data": {
      "text/plain": [
       "array([[2, 1],\n",
       "       [1, 2]])"
      ]
     },
     "execution_count": 75,
     "metadata": {},
     "output_type": "execute_result"
    }
   ],
   "source": [
    "A = np.array([[2, 1], [1, 2]])\n",
    "A"
   ]
  },
  {
   "cell_type": "code",
   "execution_count": 76,
   "id": "6c823f6c-a7e8-4153-83b3-a11e6d5ecf68",
   "metadata": {},
   "outputs": [],
   "source": [
    "lambdas, Q = np.linalg.eig(A)"
   ]
  },
  {
   "cell_type": "code",
   "execution_count": 77,
   "id": "abdd9d36-1557-4617-86e0-269b30c14fe0",
   "metadata": {},
   "outputs": [
    {
     "data": {
      "text/plain": [
       "array([3., 1.])"
      ]
     },
     "execution_count": 77,
     "metadata": {},
     "output_type": "execute_result"
    }
   ],
   "source": [
    "lambdas"
   ]
  },
  {
   "cell_type": "code",
   "execution_count": 78,
   "id": "5b691514-c966-4c29-a64d-3098081fe27d",
   "metadata": {},
   "outputs": [
    {
     "data": {
      "text/plain": [
       "array([[3., 0.],\n",
       "       [0., 1.]])"
      ]
     },
     "execution_count": 78,
     "metadata": {},
     "output_type": "execute_result"
    }
   ],
   "source": [
    "Lambda = np.diag(lambdas)\n",
    "Lambda"
   ]
  },
  {
   "cell_type": "code",
   "execution_count": 79,
   "id": "71fb23ec-072b-4797-8409-cd172405e1ca",
   "metadata": {},
   "outputs": [
    {
     "data": {
      "text/plain": [
       "array([[ 0.70710678, -0.70710678],\n",
       "       [ 0.70710678,  0.70710678]])"
      ]
     },
     "execution_count": 79,
     "metadata": {},
     "output_type": "execute_result"
    }
   ],
   "source": [
    "Q"
   ]
  },
  {
   "cell_type": "code",
   "execution_count": 80,
   "id": "343eea01-1d4e-441b-93dc-636ee58820da",
   "metadata": {},
   "outputs": [
    {
     "data": {
      "text/plain": [
       "array([[2., 1.],\n",
       "       [1., 2.]])"
      ]
     },
     "execution_count": 80,
     "metadata": {},
     "output_type": "execute_result"
    }
   ],
   "source": [
    "np.dot(Q, np.dot(Lambda, Q.T))"
   ]
  },
  {
   "cell_type": "code",
   "execution_count": 81,
   "id": "21eaf1b4-f5ed-47a1-abd4-88ff8edbb451",
   "metadata": {},
   "outputs": [
    {
     "data": {
      "text/plain": [
       "array([[1.00000000e+00, 2.23711432e-17],\n",
       "       [2.23711432e-17, 1.00000000e+00]])"
      ]
     },
     "execution_count": 81,
     "metadata": {},
     "output_type": "execute_result"
    }
   ],
   "source": [
    "np.dot(Q.T, Q)"
   ]
  },
  {
   "cell_type": "code",
   "execution_count": 82,
   "id": "716df0b0-28c1-4baa-932f-69217222bd94",
   "metadata": {},
   "outputs": [
    {
     "data": {
      "text/plain": [
       "array([[ 1.00000000e+00, -2.23711432e-17],\n",
       "       [-2.23711432e-17,  1.00000000e+00]])"
      ]
     },
     "execution_count": 82,
     "metadata": {},
     "output_type": "execute_result"
    }
   ],
   "source": [
    "np.dot(Q, Q.T)"
   ]
  },
  {
   "cell_type": "code",
   "execution_count": 83,
   "id": "2cdddf5a-8b0b-477a-964a-fb56c283e13a",
   "metadata": {},
   "outputs": [
    {
     "data": {
      "text/plain": [
       "tensor([[25.,  2., -5.],\n",
       "        [ 3., -2.,  1.],\n",
       "        [ 5.,  7.,  4.]])"
      ]
     },
     "execution_count": 83,
     "metadata": {},
     "output_type": "execute_result"
    }
   ],
   "source": [
    "P = torch.tensor([[25, 2, -5], [3, -2, 1], [5, 7, 4.]])\n",
    "P"
   ]
  },
  {
   "cell_type": "code",
   "execution_count": 84,
   "id": "8bbf57d9-8fc1-4e24-a955-b4083a68a472",
   "metadata": {},
   "outputs": [
    {
     "data": {
      "text/plain": [
       "tensor([[25.,  2., -5.],\n",
       "        [ 2., -2.,  1.],\n",
       "        [-5.,  1.,  4.]])"
      ]
     },
     "execution_count": 84,
     "metadata": {},
     "output_type": "execute_result"
    }
   ],
   "source": [
    "S = torch.tensor([[25, 2, -5], [2, -2, 1], [-5, 1, 4.]])\n",
    "S"
   ]
  },
  {
   "cell_type": "code",
   "execution_count": 86,
   "id": "6f300e13-a9a0-4e4f-8e76-d1211a0f762a",
   "metadata": {},
   "outputs": [
    {
     "name": "stdout",
     "output_type": "stream",
     "text": [
      "La matriz no es invertible (su determinante es cero).\n"
     ]
    }
   ],
   "source": [
    "import numpy as np\n",
    "\n",
    "# Definir una matriz\n",
    "matriz = np.array([[2, 1], [4, 2]])\n",
    "\n",
    "# Calcular la inversa\n",
    "try:\n",
    "    inversa = np.linalg.inv(matriz)\n",
    "    print(\"Matriz original:\\n\", matriz)\n",
    "    print(\"\\nMatriz inversa:\\n\", inversa)\n",
    "except np.linalg.LinAlgError:\n",
    "    print(\"La matriz no es invertible (su determinante es cero).\")"
   ]
  },
  {
   "cell_type": "code",
   "execution_count": 87,
   "id": "73995661-a35e-4480-86f0-ce4795d1fc32",
   "metadata": {},
   "outputs": [
    {
     "name": "stdout",
     "output_type": "stream",
     "text": [
      "Matriz original:\n",
      " [[2 1]\n",
      " [3 5]]\n",
      "\n",
      "Matriz inversa:\n",
      " [[ 0.71428571 -0.14285714]\n",
      " [-0.42857143  0.28571429]]\n"
     ]
    }
   ],
   "source": [
    "import numpy as np\n",
    "\n",
    "# Definir una matriz\n",
    "matriz = np.array([[2, 1], [3, 5]])\n",
    "\n",
    "# Calcular la inversa\n",
    "try:\n",
    "    inversa = np.linalg.inv(matriz)\n",
    "    print(\"Matriz original:\\n\", matriz)\n",
    "    print(\"\\nMatriz inversa:\\n\", inversa)\n",
    "except np.linalg.LinAlgError:\n",
    "    print(\"La matriz no es invertible (su determinante es cero).\")"
   ]
  },
  {
   "cell_type": "code",
   "execution_count": null,
   "id": "0f09aa2e-f7ae-4be8-95c6-9153a6e6dde9",
   "metadata": {},
   "outputs": [],
   "source": []
  }
 ],
 "metadata": {
  "kernelspec": {
   "display_name": "Python 3 (ipykernel)",
   "language": "python",
   "name": "python3"
  },
  "language_info": {
   "codemirror_mode": {
    "name": "ipython",
    "version": 3
   },
   "file_extension": ".py",
   "mimetype": "text/x-python",
   "name": "python",
   "nbconvert_exporter": "python",
   "pygments_lexer": "ipython3",
   "version": "3.12.9"
  }
 },
 "nbformat": 4,
 "nbformat_minor": 5
}
