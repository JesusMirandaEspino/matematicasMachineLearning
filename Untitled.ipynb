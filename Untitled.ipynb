{
 "cells": [
  {
   "cell_type": "code",
   "execution_count": 6,
   "id": "466e8251-4bbd-44bf-9ca4-7e3118f13587",
   "metadata": {},
   "outputs": [],
   "source": [
    "from scipy.integrate import quad\n",
    "from sklearn.metrics import auc"
   ]
  },
  {
   "cell_type": "code",
   "execution_count": 7,
   "id": "806a1a0f-6eac-444f-b432-00f1fd02e0f2",
   "metadata": {},
   "outputs": [],
   "source": [
    "def g(x):\n",
    "    return x/2"
   ]
  },
  {
   "cell_type": "code",
   "execution_count": 8,
   "id": "c906ed91-13fa-48bd-b74c-2aac7092fbaa",
   "metadata": {},
   "outputs": [
    {
     "data": {
      "text/plain": [
       "(0.75, 8.326672684688674e-15)"
      ]
     },
     "execution_count": 8,
     "metadata": {},
     "output_type": "execute_result"
    }
   ],
   "source": [
    "quad(g, 1, 2)"
   ]
  },
  {
   "cell_type": "code",
   "execution_count": 9,
   "id": "7534fb2f-f13c-4021-a5f3-81bed034eea2",
   "metadata": {},
   "outputs": [],
   "source": [
    "def h(x):\n",
    "    return 2*x"
   ]
  },
  {
   "cell_type": "code",
   "execution_count": 10,
   "id": "4c86f243-7e64-4115-b9c5-cad272da6c9f",
   "metadata": {},
   "outputs": [
    {
     "data": {
      "text/plain": [
       "(7.0, 7.771561172376096e-14)"
      ]
     },
     "execution_count": 10,
     "metadata": {},
     "output_type": "execute_result"
    }
   ],
   "source": [
    "quad(h, 3, 4)"
   ]
  },
  {
   "cell_type": "code",
   "execution_count": 11,
   "id": "28ffd02c-9177-44f6-aed7-744a2fa5c8b1",
   "metadata": {},
   "outputs": [],
   "source": [
    "xs = [0, 0,   0.5, 0.5, 1]\n",
    "ys = [0, 0.5, 0.5, 1,   1]"
   ]
  },
  {
   "cell_type": "code",
   "execution_count": 12,
   "id": "3f0dfe1b-8d44-4723-87b1-8fdfda606df4",
   "metadata": {},
   "outputs": [
    {
     "data": {
      "text/plain": [
       "np.float64(0.75)"
      ]
     },
     "execution_count": 12,
     "metadata": {},
     "output_type": "execute_result"
    }
   ],
   "source": [
    "auc(xs, ys)"
   ]
  },
  {
   "cell_type": "code",
   "execution_count": null,
   "id": "a72f49fb-b5fe-4caa-b8cf-3f0a9eed6dd0",
   "metadata": {},
   "outputs": [],
   "source": []
  }
 ],
 "metadata": {
  "kernelspec": {
   "display_name": "Python 3 (ipykernel)",
   "language": "python",
   "name": "python3"
  },
  "language_info": {
   "codemirror_mode": {
    "name": "ipython",
    "version": 3
   },
   "file_extension": ".py",
   "mimetype": "text/x-python",
   "name": "python",
   "nbconvert_exporter": "python",
   "pygments_lexer": "ipython3",
   "version": "3.12.9"
  }
 },
 "nbformat": 4,
 "nbformat_minor": 5
}
