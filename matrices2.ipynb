{
 "cells": [
  {
   "cell_type": "code",
   "execution_count": 1,
   "id": "b5a9fd56-7bd8-4d2a-a6fb-ec72c954a419",
   "metadata": {},
   "outputs": [],
   "source": [
    "import pandas as pd\n",
    "import numpy as np\n",
    "import matplotlib.pyplot as plt"
   ]
  },
  {
   "cell_type": "code",
   "execution_count": 2,
   "id": "593fdbbf-eb81-4003-9c2a-3f906a497940",
   "metadata": {},
   "outputs": [],
   "source": [
    "A = np.array([ [2,2,5], [2,1,6], [1, 6, 7]]) \n",
    "B = np.array([ [2,1,1], [1,9,8], [8, 1, 2]]) \n",
    "C = np.array([ [2,3], [1,6], [1, 1]]) "
   ]
  },
  {
   "cell_type": "code",
   "execution_count": 4,
   "id": "017e4601-f383-4b35-9607-cf189e9414f4",
   "metadata": {},
   "outputs": [
    {
     "data": {
      "text/plain": [
       "np.float64(-18.999999999999996)"
      ]
     },
     "execution_count": 4,
     "metadata": {},
     "output_type": "execute_result"
    }
   ],
   "source": [
    "np.linalg.det(A)"
   ]
  },
  {
   "cell_type": "code",
   "execution_count": 6,
   "id": "1cc6e50d-7d2a-4e3d-98a2-78017dd01141",
   "metadata": {},
   "outputs": [
    {
     "data": {
      "text/plain": [
       "array([[ 1.52631579, -0.84210526, -0.36842105],\n",
       "       [ 0.42105263, -0.47368421,  0.10526316],\n",
       "       [-0.57894737,  0.52631579,  0.10526316]])"
      ]
     },
     "execution_count": 6,
     "metadata": {},
     "output_type": "execute_result"
    }
   ],
   "source": [
    "inversa = np.linalg.inv(A)\n",
    "inversa"
   ]
  },
  {
   "cell_type": "code",
   "execution_count": 7,
   "id": "577cc1df-3456-4075-855f-35c7d103eb3d",
   "metadata": {},
   "outputs": [
    {
     "data": {
      "text/plain": [
       "array([[1.00000000e+00, 0.00000000e+00, 4.16333634e-17],\n",
       "       [2.22044605e-16, 1.00000000e+00, 2.77555756e-17],\n",
       "       [3.33066907e-16, 0.00000000e+00, 1.00000000e+00]])"
      ]
     },
     "execution_count": 7,
     "metadata": {},
     "output_type": "execute_result"
    }
   ],
   "source": [
    "A.dot(inversa)"
   ]
  },
  {
   "cell_type": "code",
   "execution_count": 8,
   "id": "33d37f66-acc4-499b-b8ad-597c3e26b932",
   "metadata": {},
   "outputs": [],
   "source": [
    "Am = np.array([ [3, 1, 0], [2,2,1], [0,2,1] ]) "
   ]
  },
  {
   "cell_type": "code",
   "execution_count": 9,
   "id": "38ca771b-e5fe-412d-ad41-aee952f2277c",
   "metadata": {},
   "outputs": [],
   "source": [
    "v = np.array([1,2,3]) "
   ]
  },
  {
   "cell_type": "code",
   "execution_count": 10,
   "id": "7ee64a52-de49-480f-b0f0-ad5563b446bb",
   "metadata": {},
   "outputs": [
    {
     "data": {
      "text/plain": [
       "(3,)"
      ]
     },
     "execution_count": 10,
     "metadata": {},
     "output_type": "execute_result"
    }
   ],
   "source": [
    "v.shape"
   ]
  },
  {
   "cell_type": "code",
   "execution_count": 11,
   "id": "ba3e4e20-bfbd-4249-bbe5-2f440417dace",
   "metadata": {},
   "outputs": [
    {
     "data": {
      "text/plain": [
       "array([5, 9, 7])"
      ]
     },
     "execution_count": 11,
     "metadata": {},
     "output_type": "execute_result"
    }
   ],
   "source": [
    "resultado = Am.dot(v)\n",
    "resultado"
   ]
  },
  {
   "cell_type": "code",
   "execution_count": 13,
   "id": "b1125f3c-ef71-4494-89ba-b9833f0dc0fd",
   "metadata": {},
   "outputs": [
    {
     "data": {
      "text/plain": [
       "array([1, 2, 3])"
      ]
     },
     "execution_count": 13,
     "metadata": {},
     "output_type": "execute_result"
    }
   ],
   "source": [
    "v.T"
   ]
  },
  {
   "cell_type": "code",
   "execution_count": 14,
   "id": "1524a3a6-8087-4adb-823e-d6bfb5515020",
   "metadata": {},
   "outputs": [],
   "source": [
    "v = np.array([[1,2,3]]) "
   ]
  },
  {
   "cell_type": "code",
   "execution_count": 15,
   "id": "66a9c4ba-da68-4505-81fa-8dbfefa5cb13",
   "metadata": {},
   "outputs": [
    {
     "data": {
      "text/plain": [
       "array([[1, 2, 3]])"
      ]
     },
     "execution_count": 15,
     "metadata": {},
     "output_type": "execute_result"
    }
   ],
   "source": [
    "v"
   ]
  },
  {
   "cell_type": "code",
   "execution_count": 18,
   "id": "87aea1ca-5312-4342-ba0d-52f96d8ef249",
   "metadata": {},
   "outputs": [
    {
     "data": {
      "text/plain": [
       "array([[1],\n",
       "       [2],\n",
       "       [3]])"
      ]
     },
     "execution_count": 18,
     "metadata": {},
     "output_type": "execute_result"
    }
   ],
   "source": [
    "v.T"
   ]
  },
  {
   "cell_type": "code",
   "execution_count": 19,
   "id": "f80fa86d-feaa-476a-9f2c-9e6a98042b8b",
   "metadata": {},
   "outputs": [
    {
     "data": {
      "text/plain": [
       "array([[5],\n",
       "       [9],\n",
       "       [7]])"
      ]
     },
     "execution_count": 19,
     "metadata": {},
     "output_type": "execute_result"
    }
   ],
   "source": [
    "resultado = Am.dot(v.T)\n",
    "resultado"
   ]
  },
  {
   "cell_type": "code",
   "execution_count": 20,
   "id": "e145d115-7f7d-49c6-a998-68ae26da893e",
   "metadata": {},
   "outputs": [],
   "source": [
    "u1 = np.array([3,0.5,-2, 0]) "
   ]
  },
  {
   "cell_type": "code",
   "execution_count": 21,
   "id": "928907bf-639b-4513-b03c-259704094310",
   "metadata": {},
   "outputs": [],
   "source": [
    "u2 = np.array([1,2,0, -2]) "
   ]
  },
  {
   "cell_type": "code",
   "execution_count": 22,
   "id": "114cf261-0afa-42ee-ac37-a2ae5932d370",
   "metadata": {},
   "outputs": [
    {
     "data": {
      "text/plain": [
       "array([12.,  2., -8.,  0.])"
      ]
     },
     "execution_count": 22,
     "metadata": {},
     "output_type": "execute_result"
    }
   ],
   "source": [
    "resultado1 = np.dot(u1,4)\n",
    "resultado1"
   ]
  },
  {
   "cell_type": "code",
   "execution_count": 23,
   "id": "52e8c9fd-6c99-44cd-bcd6-e1198510828a",
   "metadata": {},
   "outputs": [
    {
     "data": {
      "text/plain": [
       "array([-2, -4,  0,  4])"
      ]
     },
     "execution_count": 23,
     "metadata": {},
     "output_type": "execute_result"
    }
   ],
   "source": [
    "resultado2 = np.dot(u2,-2)\n",
    "resultado2"
   ]
  },
  {
   "cell_type": "code",
   "execution_count": 24,
   "id": "42406cbe-0e59-4033-b3ce-f311bdc689b6",
   "metadata": {},
   "outputs": [],
   "source": [
    "suma = np.add(resultado1, resultado2)"
   ]
  },
  {
   "cell_type": "code",
   "execution_count": 25,
   "id": "c955323f-1633-41f5-8816-6f6f86ca7faf",
   "metadata": {},
   "outputs": [
    {
     "data": {
      "text/plain": [
       "array([10., -2., -8.,  4.])"
      ]
     },
     "execution_count": 25,
     "metadata": {},
     "output_type": "execute_result"
    }
   ],
   "source": [
    "suma"
   ]
  },
  {
   "cell_type": "code",
   "execution_count": null,
   "id": "4e77c5f7-ab59-4e77-8b94-c51612b11ad2",
   "metadata": {},
   "outputs": [],
   "source": []
  }
 ],
 "metadata": {
  "kernelspec": {
   "display_name": "Python 3 (ipykernel)",
   "language": "python",
   "name": "python3"
  },
  "language_info": {
   "codemirror_mode": {
    "name": "ipython",
    "version": 3
   },
   "file_extension": ".py",
   "mimetype": "text/x-python",
   "name": "python",
   "nbconvert_exporter": "python",
   "pygments_lexer": "ipython3",
   "version": "3.12.9"
  }
 },
 "nbformat": 4,
 "nbformat_minor": 5
}
