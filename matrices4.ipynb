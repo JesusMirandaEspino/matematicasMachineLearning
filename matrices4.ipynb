{
 "cells": [
  {
   "cell_type": "code",
   "execution_count": 1,
   "id": "5eda4ce6-b2e6-43d5-8f7d-874798f92f2f",
   "metadata": {},
   "outputs": [],
   "source": [
    "import pandas as pd\n",
    "import numpy as np\n",
    "import matplotlib.pyplot as plt\n",
    "import torch\n",
    "import tensorflow as tf"
   ]
  },
  {
   "cell_type": "code",
   "execution_count": 2,
   "id": "7302dc53-16cc-4325-93e2-086bc91a0dc6",
   "metadata": {},
   "outputs": [
    {
     "data": {
      "text/plain": [
       "array([[ 4,  2],\n",
       "       [-5, -3]])"
      ]
     },
     "execution_count": 2,
     "metadata": {},
     "output_type": "execute_result"
    }
   ],
   "source": [
    "X = np.array([[4, 2], [-5, -3]])\n",
    "X"
   ]
  },
  {
   "cell_type": "code",
   "execution_count": 3,
   "id": "739bfcc1-0e91-44ae-9a3f-1dba0a6a33dc",
   "metadata": {},
   "outputs": [
    {
     "data": {
      "text/plain": [
       "array([[ 1.5,  1. ],\n",
       "       [-2.5, -2. ]])"
      ]
     },
     "execution_count": 3,
     "metadata": {},
     "output_type": "execute_result"
    }
   ],
   "source": [
    "Xinv = np.linalg.inv(X)\n",
    "Xinv"
   ]
  },
  {
   "cell_type": "code",
   "execution_count": 4,
   "id": "3723ac17-8a03-4ded-9d44-3199988e6256",
   "metadata": {},
   "outputs": [
    {
     "data": {
      "text/plain": [
       "array([[1., 0.],\n",
       "       [0., 1.]])"
      ]
     },
     "execution_count": 4,
     "metadata": {},
     "output_type": "execute_result"
    }
   ],
   "source": [
    "np.round(np.dot(Xinv, X))"
   ]
  },
  {
   "cell_type": "code",
   "execution_count": 5,
   "id": "a14c643a-b3ec-439c-bdc5-76da8a8d0c2d",
   "metadata": {},
   "outputs": [
    {
     "data": {
      "text/plain": [
       "array([ 4, -7])"
      ]
     },
     "execution_count": 5,
     "metadata": {},
     "output_type": "execute_result"
    }
   ],
   "source": [
    "y = np.array([4, -7])\n",
    "y"
   ]
  },
  {
   "cell_type": "code",
   "execution_count": 6,
   "id": "a68a1fb5-88f4-47c5-b4fa-0c77b05f3d0c",
   "metadata": {},
   "outputs": [
    {
     "data": {
      "text/plain": [
       "array([-1.,  4.])"
      ]
     },
     "execution_count": 6,
     "metadata": {},
     "output_type": "execute_result"
    }
   ],
   "source": [
    "w = np.dot(Xinv, y)\n",
    "w"
   ]
  },
  {
   "cell_type": "code",
   "execution_count": 7,
   "id": "0f03ab1d-af2d-4653-a187-ea8083b483f0",
   "metadata": {},
   "outputs": [
    {
     "data": {
      "text/plain": [
       "array([ 4., -7.])"
      ]
     },
     "execution_count": 7,
     "metadata": {},
     "output_type": "execute_result"
    }
   ],
   "source": [
    "np.dot(X, w)"
   ]
  },
  {
   "cell_type": "code",
   "execution_count": 8,
   "id": "d6e77f2b-5263-4c3b-a7f1-ec24d955e9cd",
   "metadata": {},
   "outputs": [
    {
     "data": {
      "text/plain": [
       "array([[1.00000000e+00, 3.33066907e-16],\n",
       "       [0.00000000e+00, 1.00000000e+00]])"
      ]
     },
     "execution_count": 8,
     "metadata": {},
     "output_type": "execute_result"
    }
   ],
   "source": [
    "np.dot(Xinv, X)"
   ]
  },
  {
   "cell_type": "code",
   "execution_count": 10,
   "id": "423e1625-31de-49f0-9380-1192adcb2bf4",
   "metadata": {},
   "outputs": [
    {
     "data": {
      "text/plain": [
       "array([[ 4,  2,  4],\n",
       "       [-5, -3, -5],\n",
       "       [ 4,  6,  8]])"
      ]
     },
     "execution_count": 10,
     "metadata": {},
     "output_type": "execute_result"
    }
   ],
   "source": [
    "X = np.array([[4, 2,4], [-5, -3,-5], [4,6,8]])\n",
    "X"
   ]
  },
  {
   "cell_type": "code",
   "execution_count": 11,
   "id": "0aecc5e5-b700-44d3-b179-d53d07dcc7d9",
   "metadata": {},
   "outputs": [
    {
     "data": {
      "text/plain": [
       "array([[-7.50000000e-01, -1.00000000e+00, -2.50000000e-01],\n",
       "       [-2.50000000e+00, -2.00000000e+00, -1.23358114e-16],\n",
       "       [ 2.25000000e+00,  2.00000000e+00,  2.50000000e-01]])"
      ]
     },
     "execution_count": 11,
     "metadata": {},
     "output_type": "execute_result"
    }
   ],
   "source": [
    "Xinv = np.linalg.inv(X)\n",
    "Xinv"
   ]
  },
  {
   "cell_type": "code",
   "execution_count": 12,
   "id": "0119c39d-6391-417b-a92d-a42dc5b23b4c",
   "metadata": {},
   "outputs": [
    {
     "data": {
      "text/plain": [
       "array([[ 1.,  0.,  0.],\n",
       "       [ 0.,  1.,  0.],\n",
       "       [-0.,  0.,  1.]])"
      ]
     },
     "execution_count": 12,
     "metadata": {},
     "output_type": "execute_result"
    }
   ],
   "source": [
    "np.round(np.dot(Xinv, X))"
   ]
  },
  {
   "cell_type": "code",
   "execution_count": 13,
   "id": "df99b115-5e43-4238-bb0a-529e2a51554f",
   "metadata": {},
   "outputs": [],
   "source": [
    "b = np.linspace(-10, 10, 1000)"
   ]
  },
  {
   "cell_type": "code",
   "execution_count": 14,
   "id": "7c6950dd-84d9-4ff1-afd4-528c5ed8d4ff",
   "metadata": {},
   "outputs": [],
   "source": [
    "c1 = 2 - 2*b"
   ]
  },
  {
   "cell_type": "code",
   "execution_count": 15,
   "id": "4419946f-148c-4b86-9454-c9a27dcd0e9d",
   "metadata": {},
   "outputs": [],
   "source": [
    "c2 = (7-5*b)/3"
   ]
  },
  {
   "cell_type": "code",
   "execution_count": 16,
   "id": "885a58de-bd73-4314-9012-14c5f954aeb8",
   "metadata": {},
   "outputs": [
    {
     "data": {
      "image/png": "[encoded data removed]",
      "text/plain": [
       "<Figure size 640x480 with 1 Axes>"
      ]
     },
     "metadata": {},
     "output_type": "display_data"
    }
   ],
   "source": [
    "fig, ax = plt.subplots()\n",
    "plt.xlabel('b', c='darkorange')\n",
    "plt.ylabel('c', c='brown')\n",
    "\n",
    "plt.axvline(x=0, color='lightgray')\n",
    "plt.axhline(y=0, color='lightgray')\n",
    "\n",
    "ax.set_xlim([-2, 3])\n",
    "ax.set_ylim([-1, 5])\n",
    "ax.plot(b, c1, c='purple')\n",
    "ax.plot(b, c2, c='purple')\n",
    "plt.axvline(x=-1, color='green', linestyle='--')\n",
    "_ = plt.axhline(y=4, color='green', linestyle='--')"
   ]
  },
  {
   "cell_type": "code",
   "execution_count": 17,
   "id": "599de8e3-8e57-47cb-871d-cc40d42ba1a1",
   "metadata": {},
   "outputs": [
    {
     "data": {
      "text/plain": [
       "tensor([[ 1.5000,  1.0000],\n",
       "        [-2.5000, -2.0000]])"
      ]
     },
     "execution_count": 17,
     "metadata": {},
     "output_type": "execute_result"
    }
   ],
   "source": [
    "torch.inverse(torch.tensor([[4, 2], [-5, -3.]]))"
   ]
  },
  {
   "cell_type": "code",
   "execution_count": 18,
   "id": "9b49bc10-5cd2-4cf3-9a12-ddd03e4429cd",
   "metadata": {},
   "outputs": [
    {
     "data": {
      "text/plain": [
       "<tf.Tensor: shape=(2, 2), dtype=float32, numpy=\n",
       "array([[ 1.4999998,  0.9999998],\n",
       "       [-2.4999995, -1.9999996]], dtype=float32)>"
      ]
     },
     "execution_count": 18,
     "metadata": {},
     "output_type": "execute_result"
    }
   ],
   "source": [
    "tf.linalg.inv(tf.Variable([[4, 2], [-5, -3.]]))"
   ]
  },
  {
   "cell_type": "code",
   "execution_count": 21,
   "id": "ef64d38c-96d5-4583-9435-a80346382beb",
   "metadata": {},
   "outputs": [
    {
     "data": {
      "text/plain": [
       "array([[-4,  1],\n",
       "       [-8,  2]])"
      ]
     },
     "execution_count": 21,
     "metadata": {},
     "output_type": "execute_result"
    }
   ],
   "source": [
    "X = np.array([[-4, 1], [-8, 2]]) # Singular matrix\n",
    "X"
   ]
  },
  {
   "cell_type": "code",
   "execution_count": 23,
   "id": "036776c4-c4ef-40a9-9861-a9f5dc66ca77",
   "metadata": {},
   "outputs": [],
   "source": [
    "# Xinv = np.linalg.inv(X)"
   ]
  },
  {
   "cell_type": "code",
   "execution_count": 26,
   "id": "524104ad-6c27-4968-a89b-2ccd2d3d7209",
   "metadata": {},
   "outputs": [
    {
     "data": {
      "text/plain": [
       "array([[-4,  1,  1],\n",
       "       [ 5,  2,  4],\n",
       "       [-8,  2,  2]])"
      ]
     },
     "execution_count": 26,
     "metadata": {},
     "output_type": "execute_result"
    }
   ],
   "source": [
    "X = np.array([[-4, 1, 1], [5, 2, 4], [-8, 2, 2]]) # Singular matrix\n",
    "X"
   ]
  },
  {
   "cell_type": "code",
   "execution_count": 28,
   "id": "ee6fafad-796e-4222-8a9d-dc875f6037bb",
   "metadata": {},
   "outputs": [],
   "source": [
    "# Xinv = np.linalg.inv(X)"
   ]
  },
  {
   "cell_type": "code",
   "execution_count": null,
   "id": "2b238e38-8de4-49ea-bd32-0780246254ae",
   "metadata": {},
   "outputs": [],
   "source": []
  }
 ],
 "metadata": {
  "kernelspec": {
   "display_name": "Python 3 (ipykernel)",
   "language": "python",
   "name": "python3"
  },
  "language_info": {
   "codemirror_mode": {
    "name": "ipython",
    "version": 3
   },
   "file_extension": ".py",
   "mimetype": "text/x-python",
   "name": "python",
   "nbconvert_exporter": "python",
   "pygments_lexer": "ipython3",
   "version": "3.12.9"
  }
 },
 "nbformat": 4,
 "nbformat_minor": 5
}
